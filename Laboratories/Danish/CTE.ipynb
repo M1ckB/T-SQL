{
    "metadata": {
        "kernelspec": {
            "name": "SQL",
            "display_name": "SQL",
            "language": "sql"
        },
        "language_info": {
            "name": "sql",
            "version": ""
        }
    },
    "nbformat_minor": 2,
    "nbformat": 4,
    "cells": [
        {
            "cell_type": "markdown",
            "source": [
                "# CTE (Common Table Expression)\n",
                "> Udviklet af Thomas Lange & Mick Ahlmann Brun\n",
                "Mere info: [https://github.com/M1ckB/T-SQL](https://github.com/M1ckB/T-SQL)\n",
                "Version 1.0 2023-01-29\n",
                "Laboratoriet kræver:\n",
                "- En understøttet version af SQL Server\n",
                "- En Stack Overflow database: [Brent Ozar](https://www.BrentOzar.com/go/querystack) (medium)\n",
                "Læs mere om EMNE i Microsofts T-SQL reference:\n",
                "- LINK"
            ],
            "metadata": {
                "azdata_cell_guid": "bf2d15bc-0dae-4208-9431-406ec2701df1"
            },
            "attachments": {}
        },
        {][]https://learn.microsoft.com/en-us/sql/t-sql/queries/with-common-table-expression-transact-sql?view=sql-server-ver16())https://learn.microsoft.com/en-us/sql/t-sql/queries/with-common-table-expression-transact-sql?view=sql-server-ver16\n",
            "cell_type": "markdown",
            "source": [
                "## Indholdsfortegnelse\n",
                "\n",
                "- [CTE](#CTE)\n",
                "- [Hovedpointer](#Hovedpointer)"
            ],
            "metadata": {
                "azdata_cell_guid": "e22129e4-12f5-4c19-bb1d-47222fe6ce05"
            },
            "attachments": {}
        },
        {
            "cell_type": "markdown",
            "source": [
                "## CTE\n",
                "## <span style=\"font-size: 14px;\">Beskrivelse af EMNE 1.</span>  \n",
                "Use cases:\n",Hvad er en CTE?
                "En Common Table Expression (CTE) er et navngivent, temporært tabelresultat af en forespørgsel. \n",
                "Du kan danne en CTE med en WITH-sætning, og derefter referere den i en SELECT-, INSERT-, UPDATE- eller DELETE-sætninger. \n",
                "- Use case 1"
            ],
            "metadata": {
                "azBrug CTE'er i forespørgsler og undgå svært-læsbare subqueries og derived tables.\n",
                "- Brug CTE'er til at gøre programmerne nemmere at forstå, fx ved at anvende meningsbærende navngivning af CTE'erne.\n",
                "- Endelig kan CTE'er bruges rekursivt, idet det i en CTE er muligt at referere sig selv. guid": "5ec4ce05-cedd-4245-84dd-7330bd5fa598"
            },
            "attachments": {}
        },
        {
            "cell_type": "code",
            "source": [
                "/* Eksempel */\n",
                ""
            ],
            "metadata": {
                "azdata_cell_guid": "082e966b-5a8c-4543-9799-cb82776da4d6",
                "language": "sql"
            },
            "outputs": [],
            "execution_count": null
        },
        {
            "cell_type": "markdown",
            "source": [
                "### *Tid til opgaver...*\n",
                "\n",
                "Lav opgave X i [opgavehæftet](_Skabelon.sql)."
            ],
            "metadata": {
                "language": "sql",
                "azdata_cell_guid": "ee1474ba-56ed-4575-88c3-8a8a56e2d88d"
            },
            "attachments": {}
        },
        {
            "cell_type": "markdown",
            "source": [
                "## Hovedpointer\n",
                "\n",
                "- HOVEDPOINTE\n",
                ""
            ],
            "metadata": {
                "azdata_cell_guid": "c25aa37f-35e5-463a-8026-61c3e1841997"
            },
            "attachments": {}
        },
        {
            "cell_type": "markdown",
            "source": [
                "## Licens\n",
                "\n",
                "Creative Commons Attribution-ShareAlike 4.0 International (CC BY-SA 4.0)\n",
                "\n",
                "Mere info: [https://creativecommons.org/licenses/by-sa/4.0/](https://creativecommons.org/licenses/by-sa/4.0/)\n",
                "\n",
                "Du kan frit:\n",
                "\n",
                "- Dele: kopiere og distribuere materialet via ethvert medium og i ethvert format\n",
                "- Tilpasse: remixe, redigere og bygge på materialet til ethvert formål, selv erhvervsmæssigt\n",
                "\n",
                "Under følgende betingelser:\n",
                "\n",
                "- Kreditering: Du skal kreditere, dele et link til licensen og indikere om der er lavet ændringer.\n",
                "- Del på samme vilkår: Hvis du remixer, redigerer eller bygger på materialet, så skal dine bidrag\n",
                "  distribueres under samme licens som den originale.\n",
                ""
            ],
            "metadata": {
                "azdata_cell_guid": "73d8e98b-6665-40fb-a252-eb7829570885"
            },
            "attachments": {}
        }
    ]
}