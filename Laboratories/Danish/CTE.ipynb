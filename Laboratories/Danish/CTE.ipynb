{
    "metadata": {
        "kernelspec": {
            "name": "SQL",
            "display_name": "SQL",
            "language": "sql"
        },
        "language_info": {
            "name": "sql",
            "version": ""
        }
    },
    "nbformat_minor": 2,
    "nbformat": 4,
    "cells": [
        {
            "cell_type": "markdown",
            "source": [
                "# CTE (Common Table Expression)\n",
                "\n",
                "> Udviklet af Thomas Lange & Mick Ahlmann Brun\n",
                "\n",
                "Mere info: [https://github.com/M1ckB/T-SQL](https://github.com/M1ckB/T-SQL)\n",
                "\n",
                "Version 1.0 2023-01-29\n",
                "\n",
                "Laboratoriet kræver:\n",
                "\n",
                "- En understøttet version af SQL Server\n",
                "- En Stack Overflow database: [Brent Ozar](https://www.BrentOzar.com/go/querystack) (medium)\n",
                "\n",
                "Læs mere om EMNE i Microsofts T-SQL reference:\n",
                "\n",
                "- [https://learn.microsoft.com/en-us/sql/t-sql/queries/with-common-table-expression-transact-sql?view=sql-server-ver16](https://learn.microsoft.com/en-us/sql/t-sql/queries/with-common-table-expression-transact-sql?view=sql-server-ver16)"
            ],
            "metadata": {
                "azdata_cell_guid": "bf2d15bc-0dae-4208-9431-406ec2701df1"
            },
            "attachments": {}
        },
        {
            "cell_type": "markdown",
            "source": [
                "## Indholdsfortegnelse \n",
                "\n",
                "- [CTE](#CTE)\n",
                "- [Multiple CTE'er](#multiplecte)\n",
                "- [Rekursive CTE'er](#recursivecte)\n",
                "- [Hovedpointer](#Hovedpointer)"
            ],
            "metadata": {
                "azdata_cell_guid": "e22129e4-12f5-4c19-bb1d-47222fe6ce05"
            },
            "attachments": {}
        },
        {
            "cell_type": "markdown",
            "source": [
                "## CTE\n",
                "\n",
                "## <span style=\"font-size: 14px;\">Hvad er en CTE?</span>  \n",
                "En Common Table Expression (CTE) er et navngivent, temporært tabelresultat af en forespørgsel. \n",
                "Du kan danne en CTE med en `WITH`-sætning, og derefter referere den i en `SELECT`-, `INSERT`-, `UPDATE`-, `MERGE`- eller `DELETE`-sætning:\n",
                "\n",
                "```SQL\n",
                "WITH <CTE-navn> AS (\n",
                "    SELECT ...\n",
                ")\n",
                "    \n",
                "SELECT * FROM <CTE-navn>;\n",
                "```\n",
                "\n",
                "CTE'en blev introduceret i ANSI SQL-99 og kom til T-SQL med SQL Server 2005. \n",
                "\n",
                "Med CTE'en bliver det nemmere at lave pæne og overskuelige SQL-scripts, da det vi hidtil var tvunget til at putte i samme `SELECT`-forespørgsel, fx som *derived tables* eller *subqueries*, nu kan afsluttes pænt hver for sig, før de anvendes. \n",
                "\n",
                "Endelig kan CTE'erne kalde sig selv i *rekursive CTE'er*, som eksekveres iterativt og giver funktionalitet, som vi fx kan bruge til at forespørge hierarkisk data og grafdata.\n",
                "\n",
                "Da `WITH` i T-SQL også bruges til at angive hints, fx med `WITH(NOLOCK)`, i `FROM`-delsætninger, er der risiko for tvetydighed i scriptet, hvis den foregående SQL-sætning ikke er afsluttet med semikolon (`;`). Ofte ser man derfor, at `WITH`-sætninger startes med et semikolon (`;`), som her:\n",
                "```SQL\n",
                ";WITH <CTE-navn> ...\n",
                "```\n",
                "\n",
                "Dette fungerer, men er udtryk for en lidt sjusket programmeringsstil. Som bl.a. Itzik Ben-Gan også anbefaler, er det god programmeringsskik altid at afslutte T-SQL-sætninger med semikolon. Og når det er gjort, er der ikke behov for det indledende semikolon.\n",
                "\n",
                "\n",
                "Use cases:\n",
                "\n",
                "- CTE'er anvendes i forespørgsler for at undgå svært-læsbare subqueries og derived tables.\n",
                "- CTE'er kan gøre scripts nemmere at forstå, fx ved at anvende meningsbærende navngivning og bryde kompleksitet op i forståelige steps.\n",
                "- CTE'er kan bruges rekursivt, idet det i en CTE er muligt at referere sig selv. Hermed kan CTE'er bruges til at folde fx komplekse parent-child strukturer (fx hierarkiske data og grafdata) ud."
            ],
            "metadata": {
                "azdata_cell_guid": "5ec4ce05-cedd-4245-84dd-7330bd5fa598"
            },
            "attachments": {}
        },
        {
            "cell_type": "code",
            "source": [
                "--Som temporær tabel:\n",
                "CREATE TABLE #TableA (\n",
                "  Id int NOT NULL,\n",
                "  Col int NOT NULL\n",
                ");\n",
                "INSERT INTO #TableA (Id, Col)\n",
                "VALUES\n",
                "(1, 5), \n",
                "(2, 6);\n",
                "SELECT * FROM #TableA;\n",
                "\n",
                "DROP TABLE #TableA;\n",
                "\n",
                "--Samme tabel som CTE\n",
                "WITH TableA AS(\n",
                " SELECT * \n",
                " FROM (VALUES \n",
                "     (1, 5), \n",
                "     (2, 6)) \n",
                "     AS v(Id,Col1)\n",
                ")\n",
                "SELECT * FROM TableA;"
            ],
            "metadata": {
                "azdata_cell_guid": "082e966b-5a8c-4543-9799-cb82776da4d6",
                "language": "sql",
                "tags": []
            },
            "outputs": [],
            "execution_count": null
        },
        {
            "cell_type": "markdown",
            "source": [
                "## Multiple CTE'er <a class=\"anchor\" id=\"multiplecte\"></a>\r\n",
                "\r\n",
                "Det er muligt at lave flere CTE'er i samme `WITH`-sætning. Tidligere CTE'er i samme `WITH`-sætning kan refereres. Dette muligggør, at CTE'erne bruges til opdele logikken i et script i sekventielle faser.\r\n",
                "\r\n",
                "Multiple CTE'er angives i samme `WITH`-sætning, separeret med komma. CTE'erne er alle til rådighed for den efterfølgende `SELECT`-, `INSERT`-, `UPDATE`-, `MERGE`- eller `DELETE`-sætning:\r\n",
                "\r\n",
                "\r\n",
                "```SQL\r\n",
                "WITH <CTE1-navn> AS (\r\n",
                "    SELECT ...\r\n",
                ")\r\n",
                ", <CTE2-navn> AS (\r\n",
                "    SELECT ...\r\n",
                ")\r\n",
                "    \r\n",
                "<SELECT>/<UPDATE>/<MERGE>/<DELETE> ...;\r\n",
                "\r\n",
                "```"
            ],
            "metadata": {
                "azdata_cell_guid": "4434407c-7bed-4e3b-be2e-046a9abdc2dc"
            },
            "attachments": {}
        },
        {
            "cell_type": "code",
            "source": [
                "/*Eksempel med hierarkisk data og enkelt self-join*/\r\n",
                "WITH Countries AS(\r\n",
                " SELECT Id, [Name], Parent_Id\r\n",
                " FROM (VALUES \r\n",
                "     (1, 'Europe', NULL), \r\n",
                "     (2, 'Asia', NULL),\r\n",
                "     (3, 'EU Europe', 1),\r\n",
                "     (4, 'Non-EU Europe', 1),\r\n",
                "     (5, 'Austria', 3),\r\n",
                "     (6, 'Denmark', 3),\r\n",
                "     (7, 'Nepal', 2), \r\n",
                "     (8, 'Norway', 4)) a(Id, [Name], Parent_Id) \r\n",
                ")\r\n",
                ", Countries_Parent AS (\r\n",
                "  SELECT c.*, cp.[Name] AS ParentName\r\n",
                "  FROM Countries c \r\n",
                "  LEFT OUTER JOIN Countries cp ON cp.Id=c.Parent_Id\r\n",
                ")\r\n",
                "\r\n",
                "SELECT * FROM Countries_Parent;"
            ],
            "metadata": {
                "azdata_cell_guid": "d5106ffd-3507-440d-88db-ebea8dfc5205",
                "language": "sql",
                "tags": []
            },
            "outputs": [],
            "execution_count": null
        },
        {
            "cell_type": "markdown",
            "source": [
                "## Rekursive CTE'er <a class=\"anchor\" id=\"recursivecte\"></a>\n",
                "\n",
                "  \n",
                "Endelig er det muligt at lave CTE'erne rekursive. \n",
                "\n",
                "Mens vi ovenfor så, hvordan vi kunne bruge en CTE til at hente den direkte `parent` i en `parent-child`-relation, så vil vi nu og da ønske at finde den øverste `parent` fremfor den direkte `parent`. Her kommer den rekursive CTE i spil. "
            ],
            "metadata": {
                "azdata_cell_guid": "dffa8af7-1260-4888-bc5b-3d0468cf15fd"
            },
            "attachments": {}
        },
        {
            "cell_type": "code",
            "source": [
                "/*Eksempel med hierarkisk data og rekursivt self-join*/\r\n",
                "WITH Countries AS(\r\n",
                " SELECT Id, [Name], Parent_Id\r\n",
                " FROM (VALUES \r\n",
                "     (1, 'Europe', NULL), \r\n",
                "     (2, 'Asia', NULL),\r\n",
                "     (3, 'EU Europe', 1),\r\n",
                "     (4, 'Non-EU Europe', 1),\r\n",
                "     (5, 'Austria', 3),\r\n",
                "     (6, 'Denmark', 3),\r\n",
                "     (7, 'Nepal', 2), \r\n",
                "     (8, 'Norway', 4)) a(Id, [Name], Parent_Id) \r\n",
                ")\r\n",
                ", Countries_Parent AS (\r\n",
                "    --Anchor: Top-level of hierarchy\r\n",
                "    SELECT \r\n",
                "        c.*, \r\n",
                "         0 AS HierarchyLevel,\r\n",
                "         c.[Name] AS TopParentName\r\n",
                "    FROM Countries AS c\r\n",
                "    WHERE Parent_Id IS NULL \r\n",
                "\r\n",
                "    UNION ALL\r\n",
                "    \r\n",
                "    --Recursively adding subsequent levels in hierarchy\r\n",
                "    SELECT \r\n",
                "      c.*,\r\n",
                "      HierarchyLevel + 1 AS HierarchyLevel,\r\n",
                "      cp.[TopParentName] AS TopParentName\r\n",
                "    FROM Countries AS c\r\n",
                "    INNER JOIN Countries_Parent cp ON cp.Id=c.Parent_Id\r\n",
                ")\r\n",
                "\r\n",
                "SELECT Id, [Name], HierarchyLevel, TopParentName FROM Countries_Parent"
            ],
            "metadata": {
                "azdata_cell_guid": "f00014c7-a88e-4f16-8b81-ef06570f88ef",
                "language": "sql",
                "tags": []
            },
            "outputs": [],
            "execution_count": null
        },
        {
            "cell_type": "markdown",
            "source": [
                "### *Tid til opgaver...*\n",
                "\n",
                "Lav opgave 1, 2 og 3 i [opgavehæftet](Cte.sql)."
            ],
            "metadata": {
                "language": "sql",
                "azdata_cell_guid": "ee1474ba-56ed-4575-88c3-8a8a56e2d88d"
            },
            "attachments": {}
        },
        {
            "cell_type": "markdown",
            "source": [
                "## Hovedpointer\n",
                "\n",
                "- CTE'er er temporære og fungerer kun i samme batch, som de er defineret. CTE'er skal ikke droppes efter brug.\n",
                "- Der kan være mange CTE'er i samme WITH-sætning. CTE'er kan refere tidligere defineret CTE i samme WITH-sætning.\n",
                "- CTE'erne i en `WITH`-sætning er til rådighed for den efterfølgende  `SELECT`\\-, `INSERT`\\-, `UPDATE`\\-, `MERGE`\\- eller `DELETE`\\-sætning. Derefter findes den ikke længere.\n",
                "- CTE'er er oplagte at bruge komplekse i `VIEW`-definitioner, idet disse altid har netop én `SELECT`-sætning.\n",
                "- Det er muligt at lave rekursive CTE'er, som refererer sig selv. Dermed tilbyder CTE'erne kompleks funktionalitet, som ikke findes andre steder i T-SQL."
            ],
            "metadata": {
                "azdata_cell_guid": "c25aa37f-35e5-463a-8026-61c3e1841997"
            },
            "attachments": {}
        },
        {
            "cell_type": "markdown",
            "source": [
                "## Licens\n",
                "\n",
                "Creative Commons Attribution-ShareAlike 4.0 International (CC BY-SA 4.0)\n",
                "\n",
                "Mere info: [https://creativecommons.org/licenses/by-sa/4.0/](https://creativecommons.org/licenses/by-sa/4.0/)\n",
                "\n",
                "Du kan frit:\n",
                "\n",
                "- Dele: kopiere og distribuere materialet via ethvert medium og i ethvert format\n",
                "- Tilpasse: remixe, redigere og bygge på materialet til ethvert formål, selv erhvervsmæssigt\n",
                "\n",
                "Under følgende betingelser:\n",
                "\n",
                "- Kreditering: Du skal kreditere, dele et link til licensen og indikere om der er lavet ændringer.\n",
                "- Del på samme vilkår: Hvis du remixer, redigerer eller bygger på materialet, så skal dine bidrag\n",
                "  distribueres under samme licens som den originale.\n",
                ""
            ],
            "metadata": {
                "azdata_cell_guid": "73d8e98b-6665-40fb-a252-eb7829570885"
            },
            "attachments": {}
        }
    ]
}