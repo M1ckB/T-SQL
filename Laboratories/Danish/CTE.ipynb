{
    "metadata": {
        "kernelspec": {
            "name": "SQL",
            "display_name": "SQL",
            "language": "sql"
        },
        "language_info": {
            "name": "sql",
            "version": ""
        }
    },
    "nbformat_minor": 2,
    "nbformat": 4,
    "cells": [
        {
            "cell_type": "markdown",
            "source": [
                "# CTE (Common Table Expression)\n",
                "\n",
                "> Udviklet af Thomas Lange & Mick Ahlmann Brun\n",
                "\n",
                "Mere info: [https://github.com/M1ckB/T-SQL](https://github.com/M1ckB/T-SQL)\n",
                "\n",
                "Version 1.0 2023-01-29\n",
                "\n",
                "Laboratoriet kræver:\n",
                "\n",
                "- En understøttet version af SQL Server\n",
                "- En Stack Overflow database: [Brent Ozar](https://www.BrentOzar.com/go/querystack) (medium)\n",
                "\n",
                "Læs mere om EMNE i Microsofts T-SQL reference:\n",
                "\n",
                "- [https://learn.microsoft.com/en-us/sql/t-sql/queries/with-common-table-expression-transact-sql?view=sql-server-ver16](https://learn.microsoft.com/en-us/sql/t-sql/queries/with-common-table-expression-transact-sql?view=sql-server-ver16)"
            ],
            "metadata": {
                "azdata_cell_guid": "bf2d15bc-0dae-4208-9431-406ec2701df1"
            },
            "attachments": {}
        },
        {
            "cell_type": "markdown",
            "source": [
                "## Indholdsfortegnelse \n",
                "\n",
                "- [CTE](#CTE)\n",
                "- [Multiple CTE'er](#multiplecte)\n",
                "- [Rekursive CTE'er](#recursivecte)\n",
                "- [Hovedpointer](#Hovedpointer)"
            ],
            "metadata": {
                "azdata_cell_guid": "e22129e4-12f5-4c19-bb1d-47222fe6ce05"
            },
            "attachments": {}
        },
        {
            "cell_type": "markdown",
            "source": [
                "## CTE\n",
                "\n",
                "## <span style=\"font-size: 14px;\">Hvad er en CTE?</span>  \n",
                "En Common Table Expression (CTE) er et navngivent, temporært tabelresultat af en forespørgsel. \n",
                "Du kan danne en CTE med en `WITH`-sætning, og derefter referere den i en `SELECT`-, `INSERT`-, `UPDATE`- eller `DELETE`-sætning. \n",
                "\n",
                "CTE'en blev introduceret i ANSI SQL-99 og kom til T-SQL med SQL Server 2005.\n",
                "\n",
                "Use cases:\n",
                "\n",
                "- CTE'er anvendes i forespørgsler for at undgå svært-læsbare subqueries og derived tables.\n",
                "- CTE'er kan gøre scripts nemmere at forstå, fx ved at anvende meningsbærende navngivning og bryde kompleksitet op i forståelige steps.\n",
                "- CTE'er kan bruges rekursivt, idet det i en CTE er muligt at referere sig selv. Hermed kan CTE'er bruges til at folde fx komplekse parent-child strukturer ud."
            ],
            "metadata": {
                "azdata_cell_guid": "5ec4ce05-cedd-4245-84dd-7330bd5fa598"
            },
            "attachments": {}
        },
        {
            "cell_type": "code",
            "source": [
                "--Som temporær tabel:\n",
                "CREATE TABLE #TableA (\n",
                "  Id int NOT NULL,\n",
                "  Col int NOT NULL\n",
                ");\n",
                "INSERT INTO #TableA (Id, Col)\n",
                "VALUES\n",
                "(1, 5), \n",
                "(2, 6);\n",
                "SELECT * FROM #TableA;\n",
                "\n",
                "DROP TABLE #TableA;\n",
                "\n",
                "--Samme tabel som CTE\n",
                "WITH TableA AS(\n",
                " SELECT * \n",
                " FROM (VALUES \n",
                "     (1, 5), \n",
                "     (2, 6)) \n",
                "     AS v(Id,Col1)\n",
                ")\n",
                "SELECT * FROM TableA;"
            ],
            "metadata": {
                "azdata_cell_guid": "082e966b-5a8c-4543-9799-cb82776da4d6",
                "language": "sql",
                "tags": []
            },
            "outputs": [],
            "execution_count": null
        },
        {
            "cell_type": "markdown",
            "source": [
                "## Multiple CTE'er <a class=\"anchor\" id=\"multiplecte\"></a>\r\n",
                "\r\n",
                "Det er muligt at lave flere CTE'er i samme `WITH`-sætning. Tidligere CTE'er i samme `WITH`-sætning kan refereres. Dette muligggør, at CTE'erne bruges til opdele logikken i et script i sekventielle faser. "
            ],
            "metadata": {
                "azdata_cell_guid": "4434407c-7bed-4e3b-be2e-046a9abdc2dc"
            },
            "attachments": {}
        },
        {
            "cell_type": "code",
            "source": [
                "WITH Countries AS(\r\n",
                " SELECT Id, [Name], Parent_Id\r\n",
                " FROM (VALUES \r\n",
                "     (1, 'Europe', NULL), \r\n",
                "     (2, 'Asia', NULL),\r\n",
                "     (3, 'EU Europe', 1),\r\n",
                "     (4, 'Non-EU Europe', 1),\r\n",
                "     (5, 'Austria', 3),\r\n",
                "     (6, 'Denmark', 3),\r\n",
                "     (7, 'Nepal', 2), \r\n",
                "     (8, 'Norway', 4)) a(Id, [Name], Parent_Id) \r\n",
                ")\r\n",
                ", Countries_Parent AS (\r\n",
                "  SELECT c.*, cp.[Name] AS ParentName\r\n",
                "  FROM Countries c \r\n",
                "  LEFT OUTER JOIN Countries cp ON cp.Id=c.Parent_Id\r\n",
                ")\r\n",
                "\r\n",
                "SELECT * FROM Countries_Parent;"
            ],
            "metadata": {
                "azdata_cell_guid": "d5106ffd-3507-440d-88db-ebea8dfc5205",
                "language": "sql",
                "tags": []
            },
            "outputs": [
                {
                    "output_type": "display_data",
                    "data": {
                        "text/html": "(8 rows affected)"
                    },
                    "metadata": {}
                },
                {
                    "output_type": "display_data",
                    "data": {
                        "text/html": "Total execution time: 00:00:00.038"
                    },
                    "metadata": {}
                },
                {
                    "output_type": "execute_result",
                    "metadata": {},
                    "execution_count": 34,
                    "data": {
                        "application/vnd.dataresource+json": {
                            "schema": {
                                "fields": [
                                    {
                                        "name": "Id"
                                    },
                                    {
                                        "name": "Name"
                                    },
                                    {
                                        "name": "Parent_Id"
                                    },
                                    {
                                        "name": "ParentName"
                                    }
                                ]
                            },
                            "data": [
                                {
                                    "0": "1",
                                    "1": "Europe",
                                    "2": "NULL",
                                    "3": "NULL"
                                },
                                {
                                    "0": "2",
                                    "1": "Asia",
                                    "2": "NULL",
                                    "3": "NULL"
                                },
                                {
                                    "0": "3",
                                    "1": "EU Europe",
                                    "2": "1",
                                    "3": "Europe"
                                },
                                {
                                    "0": "4",
                                    "1": "Non-EU Europe",
                                    "2": "1",
                                    "3": "Europe"
                                },
                                {
                                    "0": "5",
                                    "1": "Austria",
                                    "2": "3",
                                    "3": "EU Europe"
                                },
                                {
                                    "0": "6",
                                    "1": "Denmark",
                                    "2": "3",
                                    "3": "EU Europe"
                                },
                                {
                                    "0": "7",
                                    "1": "Nepal",
                                    "2": "2",
                                    "3": "Asia"
                                },
                                {
                                    "0": "8",
                                    "1": "Norway",
                                    "2": "4",
                                    "3": "Non-EU Europe"
                                }
                            ]
                        },
                        "text/html": [
                            "<table>",
                            "<tr><th>Id</th><th>Name</th><th>Parent_Id</th><th>ParentName</th></tr>",
                            "<tr><td>1</td><td>Europe</td><td>NULL</td><td>NULL</td></tr>",
                            "<tr><td>2</td><td>Asia</td><td>NULL</td><td>NULL</td></tr>",
                            "<tr><td>3</td><td>EU Europe</td><td>1</td><td>Europe</td></tr>",
                            "<tr><td>4</td><td>Non-EU Europe</td><td>1</td><td>Europe</td></tr>",
                            "<tr><td>5</td><td>Austria</td><td>3</td><td>EU Europe</td></tr>",
                            "<tr><td>6</td><td>Denmark</td><td>3</td><td>EU Europe</td></tr>",
                            "<tr><td>7</td><td>Nepal</td><td>2</td><td>Asia</td></tr>",
                            "<tr><td>8</td><td>Norway</td><td>4</td><td>Non-EU Europe</td></tr>",
                            "</table>"
                        ]
                    }
                }
            ],
            "execution_count": 34
        },
        {
            "cell_type": "markdown",
            "source": [
                "## Rekursive CTE'er <a class=\"anchor\" id=\"recursivecte\"></a>\n",
                "\n",
                "  \n",
                "Endelig er det muligt at lave CTE'erne rekursive. \n",
                "\n",
                "Mens vi ovenfor så, hvordan vi kunne bruge en CTE til at hente den direkte `parent` i en `parent-child`-relation, så vil vi nu og da ønske at finde den øverste `parent` fremfor den direkte `parent`. Her kommer den rekursive CTE i spil. "
            ],
            "metadata": {
                "azdata_cell_guid": "dffa8af7-1260-4888-bc5b-3d0468cf15fd"
            },
            "attachments": {}
        },
        {
            "cell_type": "code",
            "source": [
                "WITH Countries AS(\r\n",
                " SELECT Id, [Name], Parent_Id\r\n",
                " FROM (VALUES \r\n",
                "     (1, 'Europe', NULL), \r\n",
                "     (2, 'Asia', NULL),\r\n",
                "     (3, 'EU Europe', 1),\r\n",
                "     (4, 'Non-EU Europe', 1),\r\n",
                "     (5, 'Austria', 3),\r\n",
                "     (6, 'Denmark', 3),\r\n",
                "     (7, 'Nepal', 2), \r\n",
                "     (8, 'Norway', 4)) a(Id, [Name], Parent_Id) \r\n",
                ")\r\n",
                ", Countries_Parent AS (\r\n",
                "    SELECT \r\n",
                "        c.*, \r\n",
                "         0 AS HierarchyLevel,\r\n",
                "         c.[Name] AS TopParentName\r\n",
                "    FROM Countries AS c\r\n",
                "    WHERE Parent_Id IS NULL --Anchor\r\n",
                "    UNION ALL\r\n",
                "    SELECT \r\n",
                "      c.*,\r\n",
                "      HierarchyLevel + 1 AS HierarchyLevel,\r\n",
                "      cp.[TopParentName] AS TopParentName\r\n",
                "    FROM Countries AS c\r\n",
                "    INNER JOIN Countries_Parent cp ON cp.Id=c.Parent_Id\r\n",
                ")\r\n",
                "\r\n",
                "SELECT Id, [Name], HierarchyLevel, TopParentName FROM Countries_Parent"
            ],
            "metadata": {
                "azdata_cell_guid": "f00014c7-a88e-4f16-8b81-ef06570f88ef",
                "language": "sql",
                "tags": []
            },
            "outputs": [
                {
                    "output_type": "display_data",
                    "data": {
                        "text/html": "(8 rows affected)"
                    },
                    "metadata": {}
                },
                {
                    "output_type": "display_data",
                    "data": {
                        "text/html": "Total execution time: 00:00:00.060"
                    },
                    "metadata": {}
                },
                {
                    "output_type": "execute_result",
                    "metadata": {},
                    "execution_count": 35,
                    "data": {
                        "application/vnd.dataresource+json": {
                            "schema": {
                                "fields": [
                                    {
                                        "name": "Id"
                                    },
                                    {
                                        "name": "Name"
                                    },
                                    {
                                        "name": "HierarchyLevel"
                                    },
                                    {
                                        "name": "TopParentName"
                                    }
                                ]
                            },
                            "data": [
                                {
                                    "0": "1",
                                    "1": "Europe",
                                    "2": "0",
                                    "3": "Europe"
                                },
                                {
                                    "0": "2",
                                    "1": "Asia",
                                    "2": "0",
                                    "3": "Asia"
                                },
                                {
                                    "0": "7",
                                    "1": "Nepal",
                                    "2": "1",
                                    "3": "Asia"
                                },
                                {
                                    "0": "3",
                                    "1": "EU Europe",
                                    "2": "1",
                                    "3": "Europe"
                                },
                                {
                                    "0": "4",
                                    "1": "Non-EU Europe",
                                    "2": "1",
                                    "3": "Europe"
                                },
                                {
                                    "0": "8",
                                    "1": "Norway",
                                    "2": "2",
                                    "3": "Europe"
                                },
                                {
                                    "0": "5",
                                    "1": "Austria",
                                    "2": "2",
                                    "3": "Europe"
                                },
                                {
                                    "0": "6",
                                    "1": "Denmark",
                                    "2": "2",
                                    "3": "Europe"
                                }
                            ]
                        },
                        "text/html": [
                            "<table>",
                            "<tr><th>Id</th><th>Name</th><th>HierarchyLevel</th><th>TopParentName</th></tr>",
                            "<tr><td>1</td><td>Europe</td><td>0</td><td>Europe</td></tr>",
                            "<tr><td>2</td><td>Asia</td><td>0</td><td>Asia</td></tr>",
                            "<tr><td>7</td><td>Nepal</td><td>1</td><td>Asia</td></tr>",
                            "<tr><td>3</td><td>EU Europe</td><td>1</td><td>Europe</td></tr>",
                            "<tr><td>4</td><td>Non-EU Europe</td><td>1</td><td>Europe</td></tr>",
                            "<tr><td>8</td><td>Norway</td><td>2</td><td>Europe</td></tr>",
                            "<tr><td>5</td><td>Austria</td><td>2</td><td>Europe</td></tr>",
                            "<tr><td>6</td><td>Denmark</td><td>2</td><td>Europe</td></tr>",
                            "</table>"
                        ]
                    }
                }
            ],
            "execution_count": 35
        },
        {
            "cell_type": "markdown",
            "source": [
                "### *Tid til opgaver...*\n",
                "\n",
                "Lav opgave 1, 2 og 3 i [opgavehæftet](Cte.sql)."
            ],
            "metadata": {
                "language": "sql",
                "azdata_cell_guid": "ee1474ba-56ed-4575-88c3-8a8a56e2d88d"
            },
            "attachments": {}
        },
        {
            "cell_type": "markdown",
            "source": [
                "## Hovedpointer\n",
                "\n",
                "- CTE'er er temporære og fungerer kun i samme batch, som de er defineret. CTE'er skal ikke droppes efter brug.\n",
                "- Der kan være mange CTE'er i samme WITH-sætning. CTE'er kan refere tidligere defineret CTE i samme WITH-sætning.\n",
                "- Det er muligt at lave rekursive CTE'er, som refererer sig selv. Dermed tilbyder CTE'erne kompleks funktionalitet, som ikke findes andre steder i T-SQL."
            ],
            "metadata": {
                "azdata_cell_guid": "c25aa37f-35e5-463a-8026-61c3e1841997"
            },
            "attachments": {}
        },
        {
            "cell_type": "markdown",
            "source": [
                "## Licens\n",
                "\n",
                "Creative Commons Attribution-ShareAlike 4.0 International (CC BY-SA 4.0)\n",
                "\n",
                "Mere info: [https://creativecommons.org/licenses/by-sa/4.0/](https://creativecommons.org/licenses/by-sa/4.0/)\n",
                "\n",
                "Du kan frit:\n",
                "\n",
                "- Dele: kopiere og distribuere materialet via ethvert medium og i ethvert format\n",
                "- Tilpasse: remixe, redigere og bygge på materialet til ethvert formål, selv erhvervsmæssigt\n",
                "\n",
                "Under følgende betingelser:\n",
                "\n",
                "- Kreditering: Du skal kreditere, dele et link til licensen og indikere om der er lavet ændringer.\n",
                "- Del på samme vilkår: Hvis du remixer, redigerer eller bygger på materialet, så skal dine bidrag\n",
                "  distribueres under samme licens som den originale.\n",
                ""
            ],
            "metadata": {
                "azdata_cell_guid": "73d8e98b-6665-40fb-a252-eb7829570885"
            },
            "attachments": {}
        }
    ]
}