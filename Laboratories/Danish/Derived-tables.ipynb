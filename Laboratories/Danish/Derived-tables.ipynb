{
    "metadata": {
        "kernelspec": {
            "name": "SQL",
            "display_name": "SQL",
            "language": "sql"
        },
        "language_info": {
            "name": "sql",
            "version": ""
        }
    },
    "nbformat_minor": 2,
    "nbformat": 4,
    "cells": [
        {
            "cell_type": "markdown",
            "source": [
                "# Derived Tables\n",
                "\n",
                "> Udviklet af Thomas Lange & Mick Ahlmann Brun\n",
                "\n",
                "Mere info: [https://github.com/M1ckB/T-SQL](https://github.com/M1ckB/T-SQL)\n",
                "\n",
                "Version 1.0 2023-02-02\n",
                "\n",
                "Laboratoriet kræver:\n",
                "\n",
                "- En understøttet version af SQL Server\n",
                "- En Stack Overflow database: [Brent Ozar](https://www.BrentOzar.com/go/querystack) (medium)\n",
                "\n",
                "Læs mere om derived tables i Microsofts T-SQL reference:\n",
                "\n",
                "- [https://learn.microsoft.com/en-us/sql/relational-databases/performance/subqueries?view=sql-server-ver16](https://learn.microsoft.com/en-us/sql/relational-databases/performance/subqueries?view=sql-server-ver16)\n",
                ""
            ],
            "metadata": {
                "azdata_cell_guid": "bf2d15bc-0dae-4208-9431-406ec2701df1"
            },
            "attachments": {}
        },
        {
            "cell_type": "markdown",
            "source": [
                "## Indholdsfortegnelse\n",
                "\n",
                "- [Introduktion](#Introduktion)\n",
                "- [Afledte tabeller](#Afledte-tabeller)\n",
                "  - [Referencer og nesting](#Referencer-og-nesting)\n",
                "- [Hovedpointer](#Hovedpointer)"
            ],
            "metadata": {
                "azdata_cell_guid": "e22129e4-12f5-4c19-bb1d-47222fe6ce05"
            },
            "attachments": {}
        },
        {
            "cell_type": "markdown",
            "source": [
                "## Introduktion\n",
                "\n",
                "En *derived table*, eller en afledt tabel, er strengt taget en (tabel) subquery, men er udskilt herfra fordi det samtidig hører under kategorien af *table expressions*, eller tabeludtryk.\n",
                "\n",
                "Et tabeludtryk er en query som repræsenterer en gyldig relationel tabel. Tabeludtryk kan i høj grad bruges lige som man bruger tabeller. T-SQL understøtter, ud over derived tables, følgende tabeludtryk: [common table expression (CTEs)](CTE.ipynb), [views](Views.ipynb) og inline table-valued functions.\n",
                "\n",
                "Tabeludtryk er logiske eller virtuelle, dvs. de bliver ikke materialiseret nogle steder. Når man forespørger et tabeludtryk, så vil elementer fra den *indre* forespørgsel udfoldes således der forespørges direkte på de underliggende objekter for den samlede forespørgsel.\n",
                "\n",
                "Use cases:\n",
                "\n",
                "- Muliggør delvise beregninger\n",
                "- Simplificerer kode ved modulopbygning\n",
                "- Overkommer begrænsninger i T-SQL, særligt i forhold til de logiske faser og all-at-once logik\n",
                ""
            ],
            "metadata": {
                "azdata_cell_guid": "5ec4ce05-cedd-4245-84dd-7330bd5fa598"
            },
            "attachments": {}
        },
        {
            "cell_type": "markdown",
            "source": [
                "## Afledte tabeller\n",
                "\n",
                "En afledt tabel defineres i `FROM`-delsætningen af en *ydre* forespørgsel. Den eksisterer kun i scopet af den *ydre forespørgsel*.\n",
                "\n",
                "Forespørgslen som udgør den afledte tabel angives i parenteser og gives et alias.\n",
                "\n",
                "```sql\n",
                "SELECT\n",
                "    col\n",
                "FROM (\n",
                "    SELECT\n",
                "        col\n",
                "    FROM tableA\n",
                ") AS a\n",
                "```\n",
                "\n",
                "Den afledte tabel skal opfylde følgende kriterier for en relation, herunder:\n",
                "\n",
                "- Orden er ikke garanteret\n",
                "- Kolonner skal have navne\n",
                "- Kolonnenavne skal være unikke\n",
                ""
            ],
            "metadata": {
                "azdata_cell_guid": "1dd845be-0fec-4bac-a979-ba6cf03c3f63"
            },
            "attachments": {}
        },
        {
            "cell_type": "code",
            "source": [
                "/* Eksempel på en afledt tabel */\n",
                "\n",
                "CREATE TABLE #TableA (\n",
                "    Id int NOT NULL,\n",
                "    Col nvarchar(3) NULL\n",
                ")\n",
                "\n",
                "INSERT INTO #TableA (Id, Col)\n",
                "VALUES\n",
                "(1, 'No'), (2, 'Yes'), (3, 'No');\n",
                "\n",
                "SELECT * FROM #TableA;\n",
                "\n",
                "SELECT\n",
                "    *\n",
                "FROM (\n",
                "    SELECT\n",
                "        Id,\n",
                "        Col\n",
                "    FROM #TableA\n",
                "    WHERE Col = 'No'\n",
                ") AS a;\n",
                "\n",
                "DROP TABLE #TableA;"
            ],
            "metadata": {
                "azdata_cell_guid": "082e966b-5a8c-4543-9799-cb82776da4d6",
                "language": "sql"
            },
            "outputs": [],
            "execution_count": null
        },
        {
            "cell_type": "markdown",
            "source": [
                "### Referencer og nesting\n",
                "\n",
                "Når du benytter afledte tabeller, så kan du i den *ydre* forespørgsel referere kolonner fra den *indre* forespørgsel. Dette gør det muligt at overkomme problemer med at beregninger som laves i `SELECT`-fasen ikke kan refereres i faserne før, fx `WHERE`.\n",
                "\n",
                "Derudover så kan afledte tabeller nestes, dvs. en afledt tabel kan godt selv referere en afledt tabel. Denne praksis er ikke anbefalelsesværdig da koden som regel bliver kompliceret og ulæselig.\n",
                "\n",
                "Til sidst kan det nævnes at afledte tabeller ikke kan genbruges.\n",
                ""
            ],
            "metadata": {
                "language": "sql",
                "azdata_cell_guid": "6d99fce2-450b-441a-852c-bea9065e0fed"
            },
            "attachments": {}
        },
        {
            "cell_type": "code",
            "source": [
                "/* Eksempel på referencer og nesting */\n",
                "\n",
                "CREATE TABLE #TableA (\n",
                "    Id int NOT NULL,\n",
                "    Dat date NULL\n",
                ")\n",
                "\n",
                "INSERT INTO #TableA (Id, Dat)\n",
                "VALUES\n",
                "(1, '20220102'), (2, '20220709'), (3, '20230201');\n",
                "\n",
                "SELECT * FROM #TableA;\n",
                "\n",
                "SELECT\n",
                "    *\n",
                "FROM (\n",
                "    SELECT\n",
                "        Id,\n",
                "        YEAR(Dat) AS Yr\n",
                "    FROM #TableA\n",
                ") AS a\n",
                "WHERE Yr = 2022;\n",
                "\n",
                "SELECT\n",
                "    *\n",
                "FROM (\n",
                "    SELECT Yr, COUNT(*) AS Count\n",
                "    FROM (\n",
                "        SELECT Id, YEAR(Dat) AS Yr\n",
                "        FROM #TableA\n",
                "    ) AS a1\n",
                "    WHERE Yr = 2022\n",
                "    GROUP BY Yr\n",
                ") AS a2\n",
                "WHERE Count > 1;\n",
                "\n",
                "DROP TABLE #TableA;"
            ],
            "metadata": {
                "language": "sql",
                "azdata_cell_guid": "55f53128-4ae2-4181-afb2-26aacce7c159"
            },
            "outputs": [],
            "execution_count": null
        },
        {
            "cell_type": "markdown",
            "source": [
                "### *Tid til opgaver...*\n",
                "\n",
                "Lav opgave 1.1, 1.2, 2.1 og 2.2 i [opgavehæftet](Derived-tables.sql)."
            ],
            "metadata": {
                "language": "sql",
                "azdata_cell_guid": "ee1474ba-56ed-4575-88c3-8a8a56e2d88d"
            },
            "attachments": {}
        },
        {
            "cell_type": "markdown",
            "source": [
                "## Hovedpointer\n",
                "\n",
                "- En *derived table*, eller en afledt tabel, er en *tabel subquery*\n",
                "- En afledt tabel skal repræsentere en gyldig relationel tabel\n",
                "- En afledt tabel defineres i `FROM`-delsætningen og dens scope er den *ydre* forespørgsel\n",
                "- Den ydre forespørgsel kan referere kolonner fra den indre forespørgsel (den afledte tabel)\n",
                "- Man kan *neste* afledte tabeller\n",
                "- En afledt tabel kan ikke bruges flere gange i en forespørgsel\n",
                ""
            ],
            "metadata": {
                "azdata_cell_guid": "c25aa37f-35e5-463a-8026-61c3e1841997"
            },
            "attachments": {}
        },
        {
            "cell_type": "markdown",
            "source": [
                "## Licens\n",
                "\n",
                "Creative Commons Attribution-ShareAlike 4.0 International (CC BY-SA 4.0)\n",
                "\n",
                "Mere info: [https://creativecommons.org/licenses/by-sa/4.0/](https://creativecommons.org/licenses/by-sa/4.0/)\n",
                "\n",
                "Du kan frit:\n",
                "\n",
                "- Dele: kopiere og distribuere materialet via ethvert medium og i ethvert format\n",
                "- Tilpasse: remixe, redigere og bygge på materialet til ethvert formål, selv erhvervsmæssigt\n",
                "\n",
                "Under følgende betingelser:\n",
                "\n",
                "- Kreditering: Du skal kreditere, dele et link til licensen og indikere om der er lavet ændringer.\n",
                "- Del på samme vilkår: Hvis du remixer, redigerer eller bygger på materialet, så skal dine bidrag\n",
                "  distribueres under samme licens som den originale.\n",
                ""
            ],
            "metadata": {
                "azdata_cell_guid": "73d8e98b-6665-40fb-a252-eb7829570885"
            },
            "attachments": {}
        }
    ]
}