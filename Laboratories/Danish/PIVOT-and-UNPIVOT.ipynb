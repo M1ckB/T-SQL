{
    "metadata": {
        "kernelspec": {
            "name": "SQL",
            "display_name": "SQL",
            "language": "sql"
        },
        "language_info": {
            "name": "sql",
            "version": ""
        }
    },
    "nbformat_minor": 2,
    "nbformat": 4,
    "cells": [
        {
            "cell_type": "markdown",
            "source": [
                "# `PIVOT` og `UNPIVOT`\n",
                "\n",
                "> Udviklet af Thomas Lange & Mick Ahlmann Brun\n",
                "\n",
                "Mere info: [https://github.com/M1ckB/T-SQL](https://github.com/M1ckB/T-SQL)\n",
                "\n",
                "Version 1.0 2023-01-17\n",
                "\n",
                "Laboratoriet kræver:\n",
                "\n",
                "- En understøttet version af SQL Server\n",
                "- En Stack Overflow database: [Brent Ozar](https://www.BrentOzar.com/go/querystack) (medium)\n",
                "\n",
                "Læs mere om `PIVOT` og `UNPIVOT` i Microsofts T-SQL reference:\n",
                "\n",
                "- [https://learn.microsoft.com/en-us/sql/t-sql/queries/from-using-pivot-and-unpivot?view=sql-server-ver16](https://learn.microsoft.com/en-us/sql/t-sql/queries/from-using-pivot-and-unpivot?view=sql-server-ver16)\n",
                ""
            ],
            "metadata": {
                "azdata_cell_guid": "bf2d15bc-0dae-4208-9431-406ec2701df1"
            },
            "attachments": {}
        },
        {
            "cell_type": "markdown",
            "source": [
                "## Indholdsfortegnelse\n",
                "\n",
                "- [Pivotering](#Pivotering)\n",
                "  - [PIVOT-operatoren](#PIVOT-operatoren)\n",
                "  - [UNPIVOT-operatoren](#UNPIVOT-operatoren)\n",
                "- [Hovedpointer](#Hovedpointer)\n",
                ""
            ],
            "metadata": {
                "azdata_cell_guid": "e22129e4-12f5-4c19-bb1d-47222fe6ce05"
            },
            "attachments": {}
        },
        {
            "cell_type": "markdown",
            "source": [
                "## Pivotering\n",
                "\n",
                "I T-SQL eksisterer der nogle ekstra tabeloperatorer ud over `JOIN`.\n",
                "\n",
                "Der er implementeret to tabeloperatorer, `PIVOT` og `UNPIVOT`, til at pivotere data fra rækker til kolonner og, omvendt, fra kolonner til rækker.\n",
                "\n",
                "Use cases:\n",
                "\n",
                "- Pivotering til præsentationsformål, her bruges særligt `PIVOT` (resultatet bliver til en \"crosstab\")\n",
                "- Normalisering af en tabel, her bruges særligt `UNPIVOT`\n",
                "\n",
                "De to operatorer vil gennemgås nedenfor.\n",
                ""
            ],
            "metadata": {
                "azdata_cell_guid": "5ec4ce05-cedd-4245-84dd-7330bd5fa598"
            },
            "attachments": {}
        },
        {
            "cell_type": "markdown",
            "source": [
                "## `PIVOT`-operatoren\n",
                "\n",
                "**Fra rækker til kolonner!**\n",
                "\n",
                "`PIVOT`-operationer af data handler om at rotere data fra rækker til kolonner, eventuelt med samtidig aggregering af værdier.\n",
                "\n",
                "En almindelig use case er, at man ønsker at rapportere data for flere år på en enkelt linje.\n",
                "\n",
                "`PIVOT` vender et tabel-resultatet fra en `SELECT`-forespørgsel ved at forvandle unikke værdier fra en kolonne (i flere rækker) til flere kolonner.\n",
                "\n",
                "`PIVOT` foretager aggregeringer hvor nødvendigt på tilbageværende kolonneværdier.\n",
                "\n",
                "Pivotering handler altid om at identificere involverede elementer:\n",
                "\n",
                "- Grupperingselementet\n",
                "- Spredningselementet\n",
                "- Aggregeringselementet\n",
                "- Aggregeringsfunktionen\n",
                ""
            ],
            "metadata": {
                "azdata_cell_guid": "a78863a7-6773-43ff-9953-3ee88d512f9b"
            },
            "attachments": {}
        },
        {
            "cell_type": "code",
            "source": [
                "/* Nedenstående er et eksempel på brug af PIVOT */\n",
                "\n",
                "CREATE TABLE #OrigTxt (\n",
                "  GroupId int NOT NULL,\n",
                "  SpreadCol nvarchar(1) NOT NULL, \n",
                "  AggCol int NOT NULL\n",
                ");\n",
                "INSERT INTO #OrigTxt (GroupId, SpreadCol, AggCol)\n",
                "VALUES\n",
                "(1, 'A', 100), \n",
                "(2, 'A', 200), \n",
                "(2, 'B', 300);\n",
                "\n",
                "CREATE TABLE #OrigNum (\n",
                "  GroupId int NOT NULL,\n",
                "  SpreadCol int NOT NULL, \n",
                "  AggCol int NOT NULL\n",
                ");\n",
                "INSERT INTO #OrigNum (GroupId, SpreadCol, AggCol)\n",
                "VALUES\n",
                "(1, 10, 100), \n",
                "(2, 10, 200), \n",
                "(2, 20, 300);\n",
                "\n",
                "SELECT * FROM #OrigTxt;\n",
                "SELECT * FROM #OrigNum;\n",
                "\n",
                "/*\n",
                "Hvad er grupperingselementet? Id\n",
                "Hvad er spredningselementet? GrpCol\n",
                "Hvad er aggregeringselementet? SumCol\n",
                "Hvad er aggregeringsfunktionen? SUM()\n",
                "*/\n",
                "\n",
                "/* Hvis vi skulle gøre det 'i hånden' ... */\n",
                "--med tekst spredningskolonne\n",
                "SELECT GroupId, \n",
                " SUM(CASE WHEN SpreadCol = 'A' THEN AggCol END) AS A, \n",
                " SUM(CASE WHEN SpreadCol = 'B' THEN AggCol END) AS B\n",
                "FROM #OrigTxt \n",
                "GROUP BY GroupId;\n",
                "\n",
                "--med numerisk spredningskolonne.\n",
                "SELECT GroupId, \n",
                " SUM(CASE WHEN SpreadCol = 10 THEN AggCol END) AS [10], \n",
                " SUM(CASE WHEN SpreadCol = 20 THEN AggCol END) AS [20]\n",
                "FROM #OrigNum \n",
                "GROUP BY GroupId;\n",
                "\n",
                "/* Med PIVOT bliver syntaksen mere kompakt og ens for tekst og numeriske spredningskolonner */\n",
                "\n",
                "SELECT GroupId, [A], [B]\n",
                "FROM #OrigTxt\n",
                "PIVOT( SUM(AggCol) FOR SpreadCol IN ([A],[B]) ) AS p;\n",
                "\n",
                "SELECT GroupId, [10], [20]\n",
                "FROM #OrigNum\n",
                "PIVOT( SUM(AggCol) FOR SpreadCol IN ([10],[20]) ) AS p;\n",
                "\n",
                "DROP TABLE #OrigTxt;\n",
                "DROP TABLE #OrigNum;\n",
                ""
            ],
            "metadata": {
                "azdata_cell_guid": "082e966b-5a8c-4543-9799-cb82776da4d6",
                "language": "sql",
                "tags": []
            },
            "outputs": [
                {
                    "output_type": "display_data",
                    "data": {
                        "text/html": "(3 rows affected)"
                    },
                    "metadata": {}
                },
                {
                    "output_type": "display_data",
                    "data": {
                        "text/html": "(3 rows affected)"
                    },
                    "metadata": {}
                },
                {
                    "output_type": "display_data",
                    "data": {
                        "text/html": "(3 rows affected)"
                    },
                    "metadata": {}
                },
                {
                    "output_type": "display_data",
                    "data": {
                        "text/html": "(3 rows affected)"
                    },
                    "metadata": {}
                },
                {
                    "output_type": "display_data",
                    "data": {
                        "text/html": "Warning: Null value is eliminated by an aggregate or other SET operation."
                    },
                    "metadata": {}
                },
                {
                    "output_type": "display_data",
                    "data": {
                        "text/html": "(2 rows affected)"
                    },
                    "metadata": {}
                },
                {
                    "output_type": "display_data",
                    "data": {
                        "text/html": "Warning: Null value is eliminated by an aggregate or other SET operation."
                    },
                    "metadata": {}
                },
                {
                    "output_type": "display_data",
                    "data": {
                        "text/html": "(2 rows affected)"
                    },
                    "metadata": {}
                },
                {
                    "output_type": "display_data",
                    "data": {
                        "text/html": "(2 rows affected)"
                    },
                    "metadata": {}
                },
                {
                    "output_type": "display_data",
                    "data": {
                        "text/html": "(2 rows affected)"
                    },
                    "metadata": {}
                },
                {
                    "output_type": "display_data",
                    "data": {
                        "text/html": "Total execution time: 00:00:00.062"
                    },
                    "metadata": {}
                },
                {
                    "output_type": "execute_result",
                    "metadata": {},
                    "execution_count": 1,
                    "data": {
                        "application/vnd.dataresource+json": {
                            "schema": {
                                "fields": [
                                    {
                                        "name": "GroupId"
                                    },
                                    {
                                        "name": "SpreadCol"
                                    },
                                    {
                                        "name": "AggCol"
                                    }
                                ]
                            },
                            "data": [
                                {
                                    "0": "1",
                                    "1": "A",
                                    "2": "100"
                                },
                                {
                                    "0": "2",
                                    "1": "A",
                                    "2": "200"
                                },
                                {
                                    "0": "2",
                                    "1": "B",
                                    "2": "300"
                                }
                            ]
                        },
                        "text/html": [
                            "<table>",
                            "<tr><th>GroupId</th><th>SpreadCol</th><th>AggCol</th></tr>",
                            "<tr><td>1</td><td>A</td><td>100</td></tr>",
                            "<tr><td>2</td><td>A</td><td>200</td></tr>",
                            "<tr><td>2</td><td>B</td><td>300</td></tr>",
                            "</table>"
                        ]
                    }
                },
                {
                    "output_type": "execute_result",
                    "metadata": {},
                    "execution_count": 1,
                    "data": {
                        "application/vnd.dataresource+json": {
                            "schema": {
                                "fields": [
                                    {
                                        "name": "GroupId"
                                    },
                                    {
                                        "name": "SpreadCol"
                                    },
                                    {
                                        "name": "AggCol"
                                    }
                                ]
                            },
                            "data": [
                                {
                                    "0": "1",
                                    "1": "10",
                                    "2": "100"
                                },
                                {
                                    "0": "2",
                                    "1": "10",
                                    "2": "200"
                                },
                                {
                                    "0": "2",
                                    "1": "20",
                                    "2": "300"
                                }
                            ]
                        },
                        "text/html": [
                            "<table>",
                            "<tr><th>GroupId</th><th>SpreadCol</th><th>AggCol</th></tr>",
                            "<tr><td>1</td><td>10</td><td>100</td></tr>",
                            "<tr><td>2</td><td>10</td><td>200</td></tr>",
                            "<tr><td>2</td><td>20</td><td>300</td></tr>",
                            "</table>"
                        ]
                    }
                },
                {
                    "output_type": "execute_result",
                    "metadata": {},
                    "execution_count": 1,
                    "data": {
                        "application/vnd.dataresource+json": {
                            "schema": {
                                "fields": [
                                    {
                                        "name": "GroupId"
                                    },
                                    {
                                        "name": "A"
                                    },
                                    {
                                        "name": "B"
                                    }
                                ]
                            },
                            "data": [
                                {
                                    "0": "1",
                                    "1": "100",
                                    "2": "NULL"
                                },
                                {
                                    "0": "2",
                                    "1": "200",
                                    "2": "300"
                                }
                            ]
                        },
                        "text/html": [
                            "<table>",
                            "<tr><th>GroupId</th><th>A</th><th>B</th></tr>",
                            "<tr><td>1</td><td>100</td><td>NULL</td></tr>",
                            "<tr><td>2</td><td>200</td><td>300</td></tr>",
                            "</table>"
                        ]
                    }
                },
                {
                    "output_type": "execute_result",
                    "metadata": {},
                    "execution_count": 1,
                    "data": {
                        "application/vnd.dataresource+json": {
                            "schema": {
                                "fields": [
                                    {
                                        "name": "GroupId"
                                    },
                                    {
                                        "name": "10"
                                    },
                                    {
                                        "name": "20"
                                    }
                                ]
                            },
                            "data": [
                                {
                                    "0": "1",
                                    "1": "100",
                                    "2": "NULL"
                                },
                                {
                                    "0": "2",
                                    "1": "200",
                                    "2": "300"
                                }
                            ]
                        },
                        "text/html": [
                            "<table>",
                            "<tr><th>GroupId</th><th>10</th><th>20</th></tr>",
                            "<tr><td>1</td><td>100</td><td>NULL</td></tr>",
                            "<tr><td>2</td><td>200</td><td>300</td></tr>",
                            "</table>"
                        ]
                    }
                },
                {
                    "output_type": "execute_result",
                    "metadata": {},
                    "execution_count": 1,
                    "data": {
                        "application/vnd.dataresource+json": {
                            "schema": {
                                "fields": [
                                    {
                                        "name": "GroupId"
                                    },
                                    {
                                        "name": "A"
                                    },
                                    {
                                        "name": "B"
                                    }
                                ]
                            },
                            "data": [
                                {
                                    "0": "1",
                                    "1": "100",
                                    "2": "NULL"
                                },
                                {
                                    "0": "2",
                                    "1": "200",
                                    "2": "300"
                                }
                            ]
                        },
                        "text/html": [
                            "<table>",
                            "<tr><th>GroupId</th><th>A</th><th>B</th></tr>",
                            "<tr><td>1</td><td>100</td><td>NULL</td></tr>",
                            "<tr><td>2</td><td>200</td><td>300</td></tr>",
                            "</table>"
                        ]
                    }
                },
                {
                    "output_type": "execute_result",
                    "metadata": {},
                    "execution_count": 1,
                    "data": {
                        "application/vnd.dataresource+json": {
                            "schema": {
                                "fields": [
                                    {
                                        "name": "GroupId"
                                    },
                                    {
                                        "name": "10"
                                    },
                                    {
                                        "name": "20"
                                    }
                                ]
                            },
                            "data": [
                                {
                                    "0": "1",
                                    "1": "100",
                                    "2": "NULL"
                                },
                                {
                                    "0": "2",
                                    "1": "200",
                                    "2": "300"
                                }
                            ]
                        },
                        "text/html": [
                            "<table>",
                            "<tr><th>GroupId</th><th>10</th><th>20</th></tr>",
                            "<tr><td>1</td><td>100</td><td>NULL</td></tr>",
                            "<tr><td>2</td><td>200</td><td>300</td></tr>",
                            "</table>"
                        ]
                    }
                }
            ],
            "execution_count": 1
        },
        {
            "cell_type": "markdown",
            "source": [
                "## `UNPIVOT`-operatoren\n",
                "\n",
                "**Fra kolonner til rækker!**\n",
                "\n",
                "`UNPIVOT`-operationen er en teknik, som roterer data fra kolonner til rækker.\n",
                "\n",
                "En almindelig use case er, at man modtager data med flere kolonner for samme oplysning for flere år og ønsker en tabel, som muliggør filtrering på år.\n",
                "\n",
                "`UNPIVOT` forvandler kolonner i tabel-resultatet fra en `SELECT`-forespørgsel til kolonneværdier (i flere rækker).\n",
                ""
            ],
            "metadata": {
                "language": "sql",
                "azdata_cell_guid": "d6fd787f-7e52-48fb-82ee-77b6828863b9"
            },
            "attachments": {}
        },
        {
            "cell_type": "code",
            "source": [
                "/* Nedenstående er et eksempel på brug af UNPIVOT */\n",
                "\n",
                "CREATE TABLE #TableA (\n",
                "  Id int NOT NULL,\n",
                "  [2020] nvarchar(1) NOT NULL, \n",
                "  [2021] nvarchar(1) NOT NULL, \n",
                "  [2022] nvarchar(1) NOT NULL);\n",
                "\n",
                "INSERT INTO #TableA (Id, [2020], [2021], [2022])\n",
                "VALUES\n",
                "(1, 'A', 'B', 'C'), \n",
                "(2, 'B', 'C', 'D'), \n",
                "(3, 'E', 'F', 'G');\n",
                "\n",
                "SELECT * FROM #TableA;\n",
                "\n",
                "-- UNPIVOT  \n",
                "SELECT Id, [Year], [Value]\n",
                "FROM #TableA\n",
                "UNPIVOT  ([Value] FOR [Year] IN ([2020], [2021], [2022])) up;  \n",
                "\n",
                "DROP TABLE #TableA;\n",
                ""
            ],
            "metadata": {
                "language": "sql",
                "azdata_cell_guid": "636a2da1-28e0-4d5d-9a17-caef7303c6a0"
            },
            "outputs": [
                {
                    "output_type": "display_data",
                    "data": {
                        "text/html": "(3 rows affected)"
                    },
                    "metadata": {}
                },
                {
                    "output_type": "display_data",
                    "data": {
                        "text/html": "(3 rows affected)"
                    },
                    "metadata": {}
                },
                {
                    "output_type": "display_data",
                    "data": {
                        "text/html": "(9 rows affected)"
                    },
                    "metadata": {}
                },
                {
                    "output_type": "display_data",
                    "data": {
                        "text/html": "Total execution time: 00:00:00.037"
                    },
                    "metadata": {}
                },
                {
                    "output_type": "execute_result",
                    "metadata": {},
                    "execution_count": 2,
                    "data": {
                        "application/vnd.dataresource+json": {
                            "schema": {
                                "fields": [
                                    {
                                        "name": "Id"
                                    },
                                    {
                                        "name": "2020"
                                    },
                                    {
                                        "name": "2021"
                                    },
                                    {
                                        "name": "2022"
                                    }
                                ]
                            },
                            "data": [
                                {
                                    "0": "1",
                                    "1": "A",
                                    "2": "B",
                                    "3": "C"
                                },
                                {
                                    "0": "2",
                                    "1": "B",
                                    "2": "C",
                                    "3": "D"
                                },
                                {
                                    "0": "3",
                                    "1": "E",
                                    "2": "F",
                                    "3": "G"
                                }
                            ]
                        },
                        "text/html": [
                            "<table>",
                            "<tr><th>Id</th><th>2020</th><th>2021</th><th>2022</th></tr>",
                            "<tr><td>1</td><td>A</td><td>B</td><td>C</td></tr>",
                            "<tr><td>2</td><td>B</td><td>C</td><td>D</td></tr>",
                            "<tr><td>3</td><td>E</td><td>F</td><td>G</td></tr>",
                            "</table>"
                        ]
                    }
                },
                {
                    "output_type": "execute_result",
                    "metadata": {},
                    "execution_count": 2,
                    "data": {
                        "application/vnd.dataresource+json": {
                            "schema": {
                                "fields": [
                                    {
                                        "name": "Id"
                                    },
                                    {
                                        "name": "Year"
                                    },
                                    {
                                        "name": "Value"
                                    }
                                ]
                            },
                            "data": [
                                {
                                    "0": "1",
                                    "1": "2020",
                                    "2": "A"
                                },
                                {
                                    "0": "1",
                                    "1": "2021",
                                    "2": "B"
                                },
                                {
                                    "0": "1",
                                    "1": "2022",
                                    "2": "C"
                                },
                                {
                                    "0": "2",
                                    "1": "2020",
                                    "2": "B"
                                },
                                {
                                    "0": "2",
                                    "1": "2021",
                                    "2": "C"
                                },
                                {
                                    "0": "2",
                                    "1": "2022",
                                    "2": "D"
                                },
                                {
                                    "0": "3",
                                    "1": "2020",
                                    "2": "E"
                                },
                                {
                                    "0": "3",
                                    "1": "2021",
                                    "2": "F"
                                },
                                {
                                    "0": "3",
                                    "1": "2022",
                                    "2": "G"
                                }
                            ]
                        },
                        "text/html": [
                            "<table>",
                            "<tr><th>Id</th><th>Year</th><th>Value</th></tr>",
                            "<tr><td>1</td><td>2020</td><td>A</td></tr>",
                            "<tr><td>1</td><td>2021</td><td>B</td></tr>",
                            "<tr><td>1</td><td>2022</td><td>C</td></tr>",
                            "<tr><td>2</td><td>2020</td><td>B</td></tr>",
                            "<tr><td>2</td><td>2021</td><td>C</td></tr>",
                            "<tr><td>2</td><td>2022</td><td>D</td></tr>",
                            "<tr><td>3</td><td>2020</td><td>E</td></tr>",
                            "<tr><td>3</td><td>2021</td><td>F</td></tr>",
                            "<tr><td>3</td><td>2022</td><td>G</td></tr>",
                            "</table>"
                        ]
                    }
                }
            ],
            "execution_count": 2
        },
        {
            "cell_type": "markdown",
            "source": [
                "### _Tid til opgaver..._\n",
                "\n",
                "Lav opgave 1 i [opgavehæftet](PIVOT-and-UNPIVOT.sql)."
            ],
            "metadata": {
                "language": "sql",
                "azdata_cell_guid": "ee1474ba-56ed-4575-88c3-8a8a56e2d88d"
            },
            "attachments": {}
        },
        {
            "cell_type": "markdown",
            "source": [
                "## Hovedpointer\n",
                "\n",
                "- HOVEDPOINTE\n",
                ""
            ],
            "metadata": {
                "azdata_cell_guid": "c25aa37f-35e5-463a-8026-61c3e1841997"
            },
            "attachments": {}
        },
        {
            "cell_type": "markdown",
            "source": [
                "## Licens\n",
                "\n",
                "Creative Commons Attribution-ShareAlike 4.0 International (CC BY-SA 4.0)\n",
                "\n",
                "Mere info: [https://creativecommons.org/licenses/by-sa/4.0/](https://creativecommons.org/licenses/by-sa/4.0/)\n",
                "\n",
                "Du kan frit:\n",
                "\n",
                "- Dele: kopiere og distribuere materialet via ethvert medium og i ethvert format\n",
                "- Tilpasse: remixe, redigere og bygge på materialet til ethvert formål, selv erhvervsmæssigt\n",
                "\n",
                "Under følgende betingelser:\n",
                "\n",
                "- Kreditering: Du skal kreditere, dele et link til licensen og indikere om der er lavet ændringer.\n",
                "- Del på samme vilkår: Hvis du remixer, redigerer eller bygger på materialet, så skal dine bidrag\n",
                "  distribueres under samme licens som den originale.\n",
                ""
            ],
            "metadata": {
                "azdata_cell_guid": "73d8e98b-6665-40fb-a252-eb7829570885"
            },
            "attachments": {}
        }
    ]
}