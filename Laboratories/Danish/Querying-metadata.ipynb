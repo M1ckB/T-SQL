{
    "metadata": {
        "kernelspec": {
            "name": "SQL",
            "display_name": "SQL",
            "language": "sql"
        },
        "language_info": {
            "name": "sql",
            "version": ""
        }
    },
    "nbformat_minor": 2,
    "nbformat": 4,
    "cells": [
        {
            "cell_type": "markdown",
            "source": [
                "# SQL Servers metadata\n",
                "\n",
                "> Udviklet af Thomas Lange & Mick Ahlmann Brun\n",
                "\n",
                "Mere info: [https://github.com/M1ckB/T-SQL](https://github.com/M1ckB/T-SQL)\n",
                "\n",
                "Version 1.0 2023-02-05cs\n",
                "\n",
                "Laboratoriet kræver:\n",
                "\n",
                "- En understøttet version af SQL Server\n",
                "- En Stack Overflow database: [Brent Ozar](https://www.BrentOzar.com/go/querystack) (medium)\n",
                "\n",
                "Læs mere om system-databaser i SQL Server hos Microsoft:\n",
                "\n",
                "- [https://learn.microsoft.com/en-us/sql/relational-databases/databases/system-databases](https://learn.microsoft.com/en-us/sql/relational-databases/databases/system-databases?view=sql-server-ver16)\n",
                "\n",
                "Læs mere om metadata i `INFORMATION_SCHEMA`-views (ANSI/ISO standard kataloger for metadata) i Microsofts T-SQL reference:\n",
                "\n",
                "- [https://learn.microsoft.com/en-us/sql/relational-databases/system-information-schema-views/system-information-schema-views-transact-sql](https://learn.microsoft.com/en-us/sql/relational-databases/system-information-schema-views/system-information-schema-views-transact-sql?view=sql-server-ver16)\n",
                "\n",
                "Læs også om den udvidede metadata i `sys`-views (Object Catalog Views) i Microsofts T-SQL reference:\n",
                "- [https://learn.microsoft.com/en-us/sql/relational-databases/system-catalog-views/object-catalog-views-transact-sql](https://learn.microsoft.com/en-us/sql/relational-databases/system-catalog-views/object-catalog-views-transact-sql?source=recommendations&view=sql-server-ver16)"
            ],
            "metadata": {
                "azdata_cell_guid": "bf2d15bc-0dae-4208-9431-406ec2701df1"
            },
            "attachments": {}
        },
        {
            "cell_type": "markdown",
            "source": [
                "## Indholdsfortegnelse \n",
                "\n",
                "- [System-databaser i SQL Server](#systemdatabaser)\n",
                "- [INFORMATION_SCHEMA-views](#INFORMATION_SCHEMA-views)\n",
                "- [sys-views](#sys-views)\n",
                "- [Hovedpointer](#Hovedpointer)"
            ],
            "metadata": {
                "azdata_cell_guid": "e22129e4-12f5-4c19-bb1d-47222fe6ce05"
            },
            "attachments": {}
        },
        {
            "cell_type": "markdown",
            "source": [
                "## System-databaser i SQL Server <a class=\"anchor\" id=\"systemdatabaser\"></a>\n",
                "\n",
                "Ud over de databaser, som indeholder data, som vi som brugere lægger i SQL Server, findes der altid fire databaser i SQL Server:\n",
                "\n",
                "- `master`\n",
                "- `model`\n",
                "- `msdb`\n",
                "- `tempdb`\n",
                "\n",
                "`master`-databasen indeholder al den vigtige information, som får databaseserveren til at virke, herunder metadata om de databaser som findes i databaseserveren og security-oplysningerne, som definerer hvem der må tilgå databaserne og hvordan. \n",
                "\n",
                "`model`-databasen er en skabelonsdatabase, som nye databaser oprettes udfra.\n",
                "\n",
                "`msdb`-databasen indeholder data fra SQL Agent-jobs.\n",
                "\n",
                "`tempdb`-databasen er arbejdsområde for temporære objekter og mellemresultater mv. Denne database sættes typisk til at have en startstørrelse og til at kunne vokse dynamisk ved behov. Hvis en forespørgsel kræver mere plads, end `tempdb`-databasen indeholder, vil den derfor øges. Men databasen mindskes ikke igen, før den eksplicit bliver reduceret med en `shrink`-operation, se [https://learn.microsoft.com/en-us/sql/relational-databases/databases/shrink-a-database](https://learn.microsoft.com/en-us/sql/relational-databases/databases/shrink-a-database?redirectedfrom=MSDN&view=sql-server-ver16)."
            ],
            "metadata": {
                "azdata_cell_guid": "5ec4ce05-cedd-4245-84dd-7330bd5fa598"
            },
            "attachments": {}
        },
        {
            "cell_type": "markdown",
            "source": [
                "## `INFORMATION_SCHEMA`-views\n",
                "\n",
                "`INFORMATION_SCEMA` er et systemskema i hver database, som indeholder metadata i ANSI/ISO standard format.\n",
                "\n",
                "Oplysningerne bruges bl.a. til at danne et overblik over indhold og til at automatisere databaseopgaver som indebærer mange gentagelser.\n",
                "\n",
                "De mest anvendte views i `INFORMATION_SCHEMA`-skemaet er:\n",
                "\n",
                "```\n",
                "COLUMNS                 -- Kolonner i tabeller og views\n",
                "TABLES                  -- Tabeller og views \n",
                "VIEWS                   -- Views m. view-defintion\n",
                "ROUTINES                -- Stored Procedures og funktioner \n",
                "VIEW_COLUMN_USAGE       -- Views som peger på COLUMNs i andre tabeller og views\n",
                "VIEW_TABLE_USAGE        -- Views som peger på andre tabeller og views\n",
                "REFERENTIAL_CONSTRAINTS -- Referencer mellem fremmed- og primærnøgler i tabeller, men tabel- og kolonnenavne ikke med\n",
                "KEY_COLUMN_USAGE        -- Sammenhæng mellem nøgle (constraint) og tabeller og kolonner\n",
                "```"
            ],
            "metadata": {
                "azdata_cell_guid": "4434407c-7bed-4e3b-be2e-046a9abdc2dc"
            },
            "attachments": {}
        },
        {
            "cell_type": "code",
            "source": [
                "SELECT * FROM INFORMATION_SCHEMA.COLUMNS;                 -- Kolonner i tabeller og views\r\n",
                "SELECT * FROM INFORMATION_SCHEMA.TABLES;                  -- Tabeller og views \r\n",
                "SELECT * FROM INFORMATION_SCHEMA.VIEWS;                   -- Views m. view-defintion\r\n",
                "SELECT * FROM INFORMATION_SCHEMA.ROUTINES;                -- Stored procedures og funktioner.\r\n",
                "SELECT * FROM INFORMATION_SCHEMA.VIEW_COLUMN_USAGE;       -- Views som peger på COLUMNs i andre tabeller og views\r\n",
                "SELECT * FROM INFORMATION_SCHEMA.VIEW_TABLE_USAGE;        -- Views som peger på andre tabeller og views\r\n",
                "SELECT * FROM INFORMATION_SCHEMA.REFERENTIAL_CONSTRAINTS; -- Referencer mellem fremmed- og primærnøgler i tabeller, men tabel- og kolonnenavne ikke med\r\n",
                "SELECT * FROM INFORMATION_SCHEMA.KEY_COLUMN_USAGE;        -- Sammenhæng mellem nøgle (constraint) og tabeller og kolonner"
            ],
            "metadata": {
                "azdata_cell_guid": "b4809504-d2b5-4787-8ed1-1b4ffdcc1914",
                "language": "sql",
                "tags": []
            },
            "outputs": [],
            "execution_count": null
        },
        {
            "cell_type": "code",
            "source": [
                "/* Når vi bruger `REFERENTIAL_CONSTRAINTS`-viewet som brotabel mellem et `KEY_COLUMN_USAGE`-view\r\n",
                "    som fra-tabel og et `KEY_COLUMN_USAGE`-view som til-tabel, så kan vi lave en samlet\r\n",
                "    forespørgsel, som viser fremmednøgler-kolonner i en fra-tabel og de tilhørende\r\n",
                "    primærnøgle-kolonner i en til-tabel: */\r\n",
                "\r\n",
                "SELECT \r\n",
                "     f.CONSTRAINT_NAME AS FK_CONSTRAINT_NAME \r\n",
                "    ,f.TABLE_SCHEMA AS FK_TABLE_SCHEMA \r\n",
                "    ,f.TABLE_NAME AS FK_TABLE_NAME \r\n",
                "    ,f.COLUMN_NAME AS FK_COLUMN_NAME \r\n",
                "    ,t.CONSTRAINT_NAME AS REF_CONSTRAINT_NAME \r\n",
                "    ,t.TABLE_SCHEMA AS REF_TABLE_SCHEMA \r\n",
                "    ,t.TABLE_NAME AS REF_TABLE_NAME \r\n",
                "    ,t.COLUMN_NAME AS REF_COLUMN_NAME \r\n",
                "FROM INFORMATION_SCHEMA.REFERENTIAL_CONSTRAINTS AS b \r\n",
                "INNER JOIN INFORMATION_SCHEMA.KEY_COLUMN_USAGE AS f \r\n",
                "    ON f.CONSTRAINT_CATALOG = b.CONSTRAINT_CATALOG \r\n",
                "    AND f.CONSTRAINT_SCHEMA = b.CONSTRAINT_SCHEMA \r\n",
                "    AND f.CONSTRAINT_NAME = b.CONSTRAINT_NAME \r\n",
                "INNER JOIN INFORMATION_SCHEMA.KEY_COLUMN_USAGE AS t \r\n",
                "    ON t.CONSTRAINT_CATALOG = b.UNIQUE_CONSTRAINT_CATALOG \r\n",
                "    AND t.CONSTRAINT_SCHEMA = b.UNIQUE_CONSTRAINT_SCHEMA \r\n",
                "    AND t.CONSTRAINT_NAME = b.UNIQUE_CONSTRAINT_NAME;\r\n",
                ""
            ],
            "metadata": {
                "language": "sql",
                "azdata_cell_guid": "afbc7f91-5938-477d-9ccd-a2efc4d6f728"
            },
            "outputs": [],
            "execution_count": null
        },
        {
            "cell_type": "markdown",
            "source": [
                "## `sys`-views\n",
                "\n",
                "`sys`-views er SQL Servers egne views med et rigere tilbud af metadata. Der er her endnu flere views og endnu flere informationer. \n",
                "\n",
                "Mange udviklere synes at views i `sys`-skemaet er sværere at bruge, da de er mere normaliserede end views i `INFORMATION_SCHEMA`. \n",
                "\n",
                "`sys`-schemaet indeholder bl.a.:\n",
                "\n",
                "```\n",
                "sys.columns\n",
                "sys.tables\n",
                "sys.views\n",
                "sys.procedures\n",
                "sys.foreign_key_columns\n",
                "sys.identity_columns\n",
                "sys.index_columns\n",
                "(39 views i alt)\n",
                "```\n",
                ""
            ],
            "metadata": {
                "azdata_cell_guid": "dffa8af7-1260-4888-bc5b-3d0468cf15fd"
            },
            "attachments": {}
        },
        {
            "cell_type": "markdown",
            "source": [
                "Sammenhængen mellem `INFORMATION_SCHEMA`- og `sys`-views bliver klar, når vi finder kildekoden for views i `INFORMATION_SCHEMA`. Fx finder vi kildekoden til `INFORMATION_SCHEMA.VIEWS` som:\r\n",
                "\r\n",
                "```sql\r\n",
                "SELECT OBJECT_DEFINITION (OBJECT_ID(N'INFORMATION_SCHEMA.VIEWS'));\r\n",
                "```\r\n",
                "\r\n",
                "og får svaret, at `INFORMATION_SCHEMA.VIEWS` er et view bygget på `sys.views`:\r\n",
                "\r\n",
                "```sql\r\n",
                "CREATE VIEW INFORMATION_SCHEMA.VIEWS AS \r\n",
                "SELECT \t\r\n",
                "  DB_NAME() AS TABLE_CATALOG\r\n",
                "  , SCHEMA_NAME(schema_id) AS TABLE_SCHEMA\r\n",
                "  , name AS TABLE_NAME\r\n",
                "  , convert(nvarchar(4000),OBJECT_DEFINITION(object_id)) AS VIEW_DEFINITION\r\n",
                "  , convert(varchar(7), CASE with_check_option WHEN 1 THEN 'CASCADE' ELSE 'NONE' END) AS CHECK_OPTION\r\n",
                "  , 'NO' AS IS_UPDATABLE \r\n",
                "FROM sys.views \r\n",
                "```\r\n",
                ""
            ],
            "metadata": {
                "azdata_cell_guid": "ef70deae-92b3-43e4-b6a2-eaab438a2e8b"
            },
            "attachments": {}
        },
        {
            "cell_type": "markdown",
            "source": [
                "### *Tid til opgaver...*\n",
                "\n",
                "Lav opgave 1 og 2 i [opgavehæftet](QueryingMetadata.sql)."
            ],
            "metadata": {
                "language": "sql",
                "azdata_cell_guid": "ee1474ba-56ed-4575-88c3-8a8a56e2d88d"
            },
            "attachments": {}
        },
        {
            "cell_type": "markdown",
            "source": [
                "## Hovedpointer\n",
                "\n",
                "- Foruden de brugeroprettede databaser, findes i SQL Server fire databaser, som selve databaseserveren anvender:\n",
                "  - `master`\n",
                "  - `model`\n",
                "  - `msdb`\n",
                "  - `tempdb`\n",
                "- Metadata om de brugerdefinerede databasers indhold findes i to versioner\n",
                "  - `INFORMATION_SCHEMA` med ANSI/ISO standard metadata, som er nemt overskueligt\n",
                "  - `sys` med SQL Servers egen metadata med langt flere detaljer\n",
                "- Views i `INFORMATION_SCHEMA` er scripts mod information i `sys`!"
            ],
            "metadata": {
                "azdata_cell_guid": "c25aa37f-35e5-463a-8026-61c3e1841997"
            },
            "attachments": {}
        },
        {
            "cell_type": "markdown",
            "source": [
                "## Licens\n",
                "\n",
                "Creative Commons Attribution-ShareAlike 4.0 International (CC BY-SA 4.0)\n",
                "\n",
                "Mere info: [https://creativecommons.org/licenses/by-sa/4.0/](https://creativecommons.org/licenses/by-sa/4.0/)\n",
                "\n",
                "Du kan frit:\n",
                "\n",
                "- Dele: kopiere og distribuere materialet via ethvert medium og i ethvert format\n",
                "- Tilpasse: remixe, redigere og bygge på materialet til ethvert formål, selv erhvervsmæssigt\n",
                "\n",
                "Under følgende betingelser:\n",
                "\n",
                "- Kreditering: Du skal kreditere, dele et link til licensen og indikere om der er lavet ændringer.\n",
                "- Del på samme vilkår: Hvis du remixer, redigerer eller bygger på materialet, så skal dine bidrag\n",
                "  distribueres under samme licens som den originale.\n",
                ""
            ],
            "metadata": {
                "azdata_cell_guid": "73d8e98b-6665-40fb-a252-eb7829570885"
            },
            "attachments": {}
        }
    ]
}