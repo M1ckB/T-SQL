{
    "metadata": {
        "kernelspec": {
            "name": "SQL",
            "display_name": "SQL",
            "language": "sql"
        },
        "language_info": {
            "name": "sql",
            "version": ""
        }
    },
    "nbformat_minor": 2,
    "nbformat": 4,
    "cells": [
        {
            "cell_type": "markdown",
            "source": [
                "# Mængdeoperationer\n",
                "\n",
                "> Udviklet af Thomas Lange & Mick Ahlmann Brun\n",
                "\n",
                "Mere info: [https://github.com/M1ckB/T-SQL](https://github.com/M1ckB/T-SQL)\n",
                "\n",
                "Version 1.0 2023-01-10\n",
                "\n",
                "Laboratoriet kræver:\n",
                "\n",
                "- En understøttet version af SQL Server\n",
                "- En Stack Overflow database: [Brent Ozar](https://www.BrentOzar.com/go/querystack) (medium)\n",
                "\n",
                "Læs mere om mængdeoperationer i Microsofts T-SQL reference:\n",
                "\n",
                "- [UNION](https://learn.microsoft.com/en-us/sql/t-sql/language-elements/set-operators-union-transact-sql?view=sql-server-ver16)\n",
                "- [EXCEPT og INTERSECT](https://learn.microsoft.com/en-us/sql/t-sql/language-elements/set-operators-except-and-intersect-transact-sql?view=sql-server-ver16)\n",
                ""
            ],
            "metadata": {
                "azdata_cell_guid": "bf2d15bc-0dae-4208-9431-406ec2701df1"
            },
            "attachments": {}
        },
        {
            "cell_type": "markdown",
            "source": [
                "## Indholdsfortegnelse\n",
                "\n",
                "- [Introduktion til mængdeoperationer](#Introduktion-til-mængdeoperationer)\n",
                "  - [UNION](#UNION)\n",
                "  - [INTERSECT og EXCEPT](#INTERSECT-og-EXCEPT)\n",
                "- [Hovedpointer](#Hovedpointer)"
            ],
            "metadata": {
                "azdata_cell_guid": "e22129e4-12f5-4c19-bb1d-47222fe6ce05"
            },
            "attachments": {}
        },
        {
            "cell_type": "markdown",
            "source": [
                "## Introduktion til mængdeoperationer\n",
                "\n",
                "I T-SQL kan man lave mængdeoperationer mellem to tabel-resultater fra `SELECT`-forespørgsler.\n",
                "\n",
                "Vi skal derfor have to fungerende `SELECT`-forespørgsler til rådighed for at kunne lave mængdeoperationerne.\n",
                "\n",
                "- Der findes tre mængdeoperationer i T-SQL:\n",
                "   - `UNION` (foreningsmængde)\n",
                "   - `INTERSECT` (fællesmængde)\n",
                "   - `EXCEPT` (differensmængde)\n",
                "\n",
                "Use cases:\n",
                "\n",
                "- Kombination af delresultater til et samlet resultat, fx oplysninger fra forskellige adm. systemer\n",
                "- Fjernelse af udvalgte rækker fra en tabel, fx via en negativliste\n",
                "\n",
                "De tre mængdeoperationer vil gennemgås nedenfor.\n",
                ""
            ],
            "metadata": {
                "azdata_cell_guid": "5ec4ce05-cedd-4245-84dd-7330bd5fa598"
            },
            "attachments": {}
        },
        {
            "cell_type": "markdown",
            "source": [
                "### `UNION`\n",
                "\n",
                "`UNION` konkatenerer tabel-resultaterne af to `SELECT`-forespørgsler til et enkelt tabel-resultat (foreningsmængden).\n",
                "\n",
                "Det er muligt at in- og ekskludere dubletrækker:\n",
                "\n",
                "- `UNION ALL`: Inklusive dubletter\n",
                "- `UNION`: Eksklusive dubletter\n",
                ""
            ],
            "metadata": {
                "azdata_cell_guid": "7f82be3b-23fb-4722-ab2b-2f7e7128922d"
            },
            "attachments": {}
        },
        {
            "cell_type": "code",
            "source": [
                "/* Nedenstående er et eksempel på hvorledes foreningsmængden mellem to SELECT-forespørgsler kan\n",
                "findes ved brug af UNION- og UNION ALL-operationerne */\n",
                "\n",
                "CREATE TABLE #TableA (\n",
                "  Id int NOT NULL,\n",
                "  Col int NOT NULL\n",
                ");\n",
                "\n",
                "INSERT INTO #TableA (Id, Col)\n",
                "VALUES\n",
                "(1, 5), \n",
                "(2, 6);\n",
                "\n",
                "CREATE TABLE #TableB (\n",
                "  Id int NOT NULL,\n",
                "  Col int NOT NULL\n",
                ");\n",
                "\n",
                "INSERT INTO #TableB (Id, Col)\n",
                "VALUES\n",
                "(1, 5), \n",
                "(3, 7);\n",
                "\n",
                "SELECT * FROM #TableA;\n",
                "SELECT * FROM #TableB;\n",
                "\n",
                "SELECT Id, Col FROM #TableA\n",
                "UNION\n",
                "SELECT Id, Col FROM #TableB;\n",
                "\n",
                "SELECT Id, Col FROM #TableA\n",
                "UNION ALL\n",
                "SELECT Id, Col FROM #TableB;\n",
                "\n",
                "DROP TABLE #TableA;\n",
                "DROP TABLE #TableB;\n",
                "\n",
                "/* Bemærk, at kolonnenavnet på tabel-resultatet bestemmes af første SELECT-forespørgsel i\n",
                "UNION-operatoren. Derfor er det vigtigt at kolonnerne i de to SELECT-forespørgsler kommer i rigtig\n",
                "rækkefølge. Det anbefales ikke at lavet SELECT * når man laver mængdeoperationer */\n",
                ""
            ],
            "metadata": {
                "azdata_cell_guid": "082e966b-5a8c-4543-9799-cb82776da4d6",
                "language": "sql",
                "tags": []
            },
            "outputs": [
                {
                    "output_type": "display_data",
                    "data": {
                        "text/html": "(2 rows affected)"
                    },
                    "metadata": {}
                },
                {
                    "output_type": "display_data",
                    "data": {
                        "text/html": "(2 rows affected)"
                    },
                    "metadata": {}
                },
                {
                    "output_type": "display_data",
                    "data": {
                        "text/html": "(2 rows affected)"
                    },
                    "metadata": {}
                },
                {
                    "output_type": "display_data",
                    "data": {
                        "text/html": "(2 rows affected)"
                    },
                    "metadata": {}
                },
                {
                    "output_type": "display_data",
                    "data": {
                        "text/html": "(3 rows affected)"
                    },
                    "metadata": {}
                },
                {
                    "output_type": "display_data",
                    "data": {
                        "text/html": "(4 rows affected)"
                    },
                    "metadata": {}
                },
                {
                    "output_type": "display_data",
                    "data": {
                        "text/html": "Total execution time: 00:00:00.041"
                    },
                    "metadata": {}
                },
                {
                    "output_type": "execute_result",
                    "metadata": {},
                    "execution_count": 1,
                    "data": {
                        "application/vnd.dataresource+json": {
                            "schema": {
                                "fields": [
                                    {
                                        "name": "Id"
                                    },
                                    {
                                        "name": "Col"
                                    }
                                ]
                            },
                            "data": [
                                {
                                    "0": "1",
                                    "1": "5"
                                },
                                {
                                    "0": "2",
                                    "1": "6"
                                }
                            ]
                        },
                        "text/html": [
                            "<table>",
                            "<tr><th>Id</th><th>Col</th></tr>",
                            "<tr><td>1</td><td>5</td></tr>",
                            "<tr><td>2</td><td>6</td></tr>",
                            "</table>"
                        ]
                    }
                },
                {
                    "output_type": "execute_result",
                    "metadata": {},
                    "execution_count": 1,
                    "data": {
                        "application/vnd.dataresource+json": {
                            "schema": {
                                "fields": [
                                    {
                                        "name": "Id"
                                    },
                                    {
                                        "name": "Col"
                                    }
                                ]
                            },
                            "data": [
                                {
                                    "0": "1",
                                    "1": "5"
                                },
                                {
                                    "0": "3",
                                    "1": "7"
                                }
                            ]
                        },
                        "text/html": [
                            "<table>",
                            "<tr><th>Id</th><th>Col</th></tr>",
                            "<tr><td>1</td><td>5</td></tr>",
                            "<tr><td>3</td><td>7</td></tr>",
                            "</table>"
                        ]
                    }
                },
                {
                    "output_type": "execute_result",
                    "metadata": {},
                    "execution_count": 1,
                    "data": {
                        "application/vnd.dataresource+json": {
                            "schema": {
                                "fields": [
                                    {
                                        "name": "Id"
                                    },
                                    {
                                        "name": "Col"
                                    }
                                ]
                            },
                            "data": [
                                {
                                    "0": "1",
                                    "1": "5"
                                },
                                {
                                    "0": "2",
                                    "1": "6"
                                },
                                {
                                    "0": "3",
                                    "1": "7"
                                }
                            ]
                        },
                        "text/html": [
                            "<table>",
                            "<tr><th>Id</th><th>Col</th></tr>",
                            "<tr><td>1</td><td>5</td></tr>",
                            "<tr><td>2</td><td>6</td></tr>",
                            "<tr><td>3</td><td>7</td></tr>",
                            "</table>"
                        ]
                    }
                },
                {
                    "output_type": "execute_result",
                    "metadata": {},
                    "execution_count": 1,
                    "data": {
                        "application/vnd.dataresource+json": {
                            "schema": {
                                "fields": [
                                    {
                                        "name": "Id"
                                    },
                                    {
                                        "name": "Col"
                                    }
                                ]
                            },
                            "data": [
                                {
                                    "0": "1",
                                    "1": "5"
                                },
                                {
                                    "0": "2",
                                    "1": "6"
                                },
                                {
                                    "0": "1",
                                    "1": "5"
                                },
                                {
                                    "0": "3",
                                    "1": "7"
                                }
                            ]
                        },
                        "text/html": [
                            "<table>",
                            "<tr><th>Id</th><th>Col</th></tr>",
                            "<tr><td>1</td><td>5</td></tr>",
                            "<tr><td>2</td><td>6</td></tr>",
                            "<tr><td>1</td><td>5</td></tr>",
                            "<tr><td>3</td><td>7</td></tr>",
                            "</table>"
                        ]
                    }
                }
            ],
            "execution_count": 1
        },
        {
            "cell_type": "markdown",
            "source": [
                "### *Tid til opgaver...*\n",
                "\n",
                "Lav opgave 1, 2 (optional) og 3 i [opgavehæftet](Set-operators.sql)."
            ],
            "metadata": {
                "language": "sql",
                "azdata_cell_guid": "01528c2c-e555-4f45-96a1-d239e681de52"
            },
            "attachments": {}
        },
        {
            "cell_type": "markdown",
            "source": [
                "### `INTERSECT` og `EXCEPT`\n",
                "\n",
                "`INTERSECT` giver os distinkte rækker som findes i resultat-tabellerne fra både venstre `SELECT`-forespørgsel og højre `SELECT`-forespørgsel (fællesmængden).\n",
                "  \n",
                "`EXCEPT` giver os distinkte rækker fra venstre `SELECT`-forespørgsels resultat-tabel, som ikke findes i højre `SELECT`-forespørgsels resultat-tabel (differensmængden). Bemærk, at rækkefølgen mellem `SELECT`-forespørgslerne er afgørende for resultatet.\n",
                ""
            ],
            "metadata": {
                "language": "sql",
                "azdata_cell_guid": "9728c31f-e733-4710-96f1-90f88dc599a7"
            },
            "attachments": {}
        },
        {
            "cell_type": "code",
            "source": [
                "/* Nedenstående er et eksempel på hvordan INTERSECT og EXCEPT kan bruges til at finde henholdsvis\n",
                "fælles- og differensmængden mellem to SELECT-forespørgsler */\n",
                "\n",
                "CREATE TABLE #TableA (\n",
                "  Id int NOT NULL,\n",
                "  Col int NOT NULL\n",
                ");\n",
                "\n",
                "INSERT INTO #TableA (Id, Col)\n",
                "VALUES\n",
                "(1, 5), \n",
                "(2, 6);\n",
                "\n",
                "CREATE TABLE #TableB (\n",
                "  Id int NOT NULL,\n",
                "  Col int NOT NULL\n",
                ");\n",
                "\n",
                "INSERT INTO #TableB (Id, Col)\n",
                "VALUES\n",
                "(1, 5), \n",
                "(3, 7);\n",
                "\n",
                "SELECT * FROM #TableA;\n",
                "SELECT * FROM #TableB;\n",
                "\n",
                "SELECT Id, Col FROM #TableA\n",
                "INTERSECT\n",
                "SELECT Id, Col FROM #TableB;\n",
                "\n",
                "SELECT Id, Col FROM #TableA\n",
                "EXCEPT\n",
                "SELECT Id, Col FROM #TableB;\n",
                "\n",
                "DROP TABLE #TableA;\n",
                "DROP TABLE #TableB;\n",
                "\n",
                "/*\n",
                "Bemærk, at...\n",
                "UNION er virkelig god til at konkatenere tabeller med samme kolonner!\n",
                "EXCEPT er virkelig god (uundværlig!) til at teste om to tabeller er ens! \n",
                "*/\n",
                ""
            ],
            "metadata": {
                "language": "sql",
                "azdata_cell_guid": "c12e0600-7ca4-48db-9c39-ad0928660c2d",
                "tags": []
            },
            "outputs": [
                {
                    "output_type": "display_data",
                    "data": {
                        "text/html": "(2 rows affected)"
                    },
                    "metadata": {}
                },
                {
                    "output_type": "display_data",
                    "data": {
                        "text/html": "(2 rows affected)"
                    },
                    "metadata": {}
                },
                {
                    "output_type": "display_data",
                    "data": {
                        "text/html": "(2 rows affected)"
                    },
                    "metadata": {}
                },
                {
                    "output_type": "display_data",
                    "data": {
                        "text/html": "(2 rows affected)"
                    },
                    "metadata": {}
                },
                {
                    "output_type": "display_data",
                    "data": {
                        "text/html": "(1 row affected)"
                    },
                    "metadata": {}
                },
                {
                    "output_type": "display_data",
                    "data": {
                        "text/html": "(1 row affected)"
                    },
                    "metadata": {}
                },
                {
                    "output_type": "display_data",
                    "data": {
                        "text/html": "Total execution time: 00:00:00.050"
                    },
                    "metadata": {}
                },
                {
                    "output_type": "execute_result",
                    "metadata": {},
                    "execution_count": 2,
                    "data": {
                        "application/vnd.dataresource+json": {
                            "schema": {
                                "fields": [
                                    {
                                        "name": "Id"
                                    },
                                    {
                                        "name": "Col"
                                    }
                                ]
                            },
                            "data": [
                                {
                                    "0": "1",
                                    "1": "5"
                                },
                                {
                                    "0": "2",
                                    "1": "6"
                                }
                            ]
                        },
                        "text/html": [
                            "<table>",
                            "<tr><th>Id</th><th>Col</th></tr>",
                            "<tr><td>1</td><td>5</td></tr>",
                            "<tr><td>2</td><td>6</td></tr>",
                            "</table>"
                        ]
                    }
                },
                {
                    "output_type": "execute_result",
                    "metadata": {},
                    "execution_count": 2,
                    "data": {
                        "application/vnd.dataresource+json": {
                            "schema": {
                                "fields": [
                                    {
                                        "name": "Id"
                                    },
                                    {
                                        "name": "Col"
                                    }
                                ]
                            },
                            "data": [
                                {
                                    "0": "1",
                                    "1": "5"
                                },
                                {
                                    "0": "3",
                                    "1": "7"
                                }
                            ]
                        },
                        "text/html": [
                            "<table>",
                            "<tr><th>Id</th><th>Col</th></tr>",
                            "<tr><td>1</td><td>5</td></tr>",
                            "<tr><td>3</td><td>7</td></tr>",
                            "</table>"
                        ]
                    }
                },
                {
                    "output_type": "execute_result",
                    "metadata": {},
                    "execution_count": 2,
                    "data": {
                        "application/vnd.dataresource+json": {
                            "schema": {
                                "fields": [
                                    {
                                        "name": "Id"
                                    },
                                    {
                                        "name": "Col"
                                    }
                                ]
                            },
                            "data": [
                                {
                                    "0": "1",
                                    "1": "5"
                                }
                            ]
                        },
                        "text/html": [
                            "<table>",
                            "<tr><th>Id</th><th>Col</th></tr>",
                            "<tr><td>1</td><td>5</td></tr>",
                            "</table>"
                        ]
                    }
                },
                {
                    "output_type": "execute_result",
                    "metadata": {},
                    "execution_count": 2,
                    "data": {
                        "application/vnd.dataresource+json": {
                            "schema": {
                                "fields": [
                                    {
                                        "name": "Id"
                                    },
                                    {
                                        "name": "Col"
                                    }
                                ]
                            },
                            "data": [
                                {
                                    "0": "2",
                                    "1": "6"
                                }
                            ]
                        },
                        "text/html": [
                            "<table>",
                            "<tr><th>Id</th><th>Col</th></tr>",
                            "<tr><td>2</td><td>6</td></tr>",
                            "</table>"
                        ]
                    }
                }
            ],
            "execution_count": 2
        },
        {
            "cell_type": "markdown",
            "source": [
                "### *Tid til opgaver...*\n",
                "\n",
                "Lav opgave 4 og 5 i [opgavehæftet](Set-operators.sql)."
            ],
            "metadata": {
                "language": "sql",
                "azdata_cell_guid": "ee1474ba-56ed-4575-88c3-8a8a56e2d88d"
            },
            "attachments": {}
        },
        {
            "cell_type": "markdown",
            "source": [
                "## Hovedpointer\n",
                "\n",
                "- Mængdeoperationer fungerer på resultat-tabeller fra to `SELECT`-forespørgsler\n",
                "- Rækkefølgen af kolonner er vigtig, så undlad `SELECT * ...`!\n",
                "- De tre mængdeoperationer i T-SQL:\n",
                "  - `UNION` (og `UNION ALL`): Konkatenerer resultat-tabellerne med distinkte (og ikke-distinkte) rækker\n",
                "  - `INTERSECT`: Finder distinkte rækker som findes i begge resultat-tabeller\n",
                "  - `EXCEPT`:  Finder distinkte rækker i venstre resultat-tabel som ikke findes i højre resultat-tabel\n",
                "- Stærke til fx konkatenering af tabellers indhold og til at finde forskelle mellem tabellers indhold\n",
                "- Når der er flere mængdeoperationer i en forespørgsel, så evealueres de fra venstre mod højre\n",
                ""
            ],
            "metadata": {
                "azdata_cell_guid": "c25aa37f-35e5-463a-8026-61c3e1841997"
            },
            "attachments": {}
        },
        {
            "cell_type": "markdown",
            "source": [
                "## Licens\n",
                "\n",
                "Creative Commons Attribution-ShareAlike 4.0 International (CC BY-SA 4.0)\n",
                "\n",
                "Mere info: [https://creativecommons.org/licenses/by-sa/4.0/](https://creativecommons.org/licenses/by-sa/4.0/)\n",
                "\n",
                "Du kan frit:\n",
                "\n",
                "- Dele: kopiere og distribuere materialet via ethvert medium og i ethvert format\n",
                "- Tilpasse: remixe, redigere og bygge på materialet til ethvert formål, selv erhvervsmæssigt\n",
                "\n",
                "Under følgende betingelser:\n",
                "\n",
                "- Kreditering: Du skal kreditere, dele et link til licensen og indikere om der er lavet ændringer.\n",
                "- Del på samme vilkår: Hvis du remixer, redigerer eller bygger på materialet, så skal dine bidrag\n",
                "  distribueres under samme licens som den originale.\n",
                ""
            ],
            "metadata": {
                "azdata_cell_guid": "73d8e98b-6665-40fb-a252-eb7829570885"
            },
            "attachments": {}
        }
    ]
}