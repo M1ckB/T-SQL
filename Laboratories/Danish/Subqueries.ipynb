{
    "metadata": {
        "kernelspec": {
            "name": "SQL",
            "display_name": "SQL",
            "language": "sql"
        },
        "language_info": {
            "name": "sql",
            "version": ""
        }
    },
    "nbformat_minor": 2,
    "nbformat": 4,
    "cells": [
        {
            "cell_type": "markdown",
            "source": [
                "# Subqueries\n",
                "\n",
                "> Udviklet af Thomas Lange & Mick Ahlmann Brun\n",
                "\n",
                "Mere info: [https://github.com/M1ckB/T-SQL](https://github.com/M1ckB/T-SQL)\n",
                "\n",
                "Version 1.0 2023-01-25\n",
                "\n",
                "Laboratoriet kræver:\n",
                "\n",
                "- En understøttet version af SQL Server\n",
                "- En Stack Overflow database: [Brent Ozar](https://www.BrentOzar.com/go/querystack) (medium)\n",
                "\n",
                "Læs mere om subqueries i Microsofts T-SQL reference:\n",
                "\n",
                "- [https://learn.microsoft.com/en-us/sql/relational-databases/performance/subqueries?view=sql-server-ver16](https://learn.microsoft.com/en-us/sql/relational-databases/performance/subqueries?view=sql-server-ver16)\n",
                ""
            ],
            "metadata": {
                "azdata_cell_guid": "bf2d15bc-0dae-4208-9431-406ec2701df1"
            },
            "attachments": {}
        },
        {
            "cell_type": "markdown",
            "source": [
                "## Indholdsfortegnelse\n",
                "\n",
                "- [Introduktion til subqueries](#Introduktion-til-subqueries)\n",
                "- [Uafhængige subqueries](#Uafhængige-subqueries)\n",
                "  - [Skalar subquery](#Skalar-subquery)\n",
                "  - [Flerværdi subquery](#Flerværdi-subquery)\n",
                "- [Korrelerede subqueries](#Korrelerede-subqueries)\n",
                "  - [EXISTS-prædikatet](#EXISTS-prædikatet)\n",
                "- [Hovedpointer](#Hovedpointer)\n",
                ""
            ],
            "metadata": {
                "azdata_cell_guid": "e22129e4-12f5-4c19-bb1d-47222fe6ce05"
            },
            "attachments": {}
        },
        {
            "cell_type": "markdown",
            "source": [
                "## Introduktion til subqueries\n",
                "\n",
                "SQL understøtter at man kan indlejre forespørgsler i hinanden.\n",
                "\n",
                "Man siger at den forespørgsel hvis resultat returneres til forespørgeren er den *ydre* forespørgsel, mens den *indre* forespørgsel er en der bruges af den ydre forespørgsel. Sidstnævnte kaldes en *subquery*.\n",
                "\n",
                "Man kan tænke på at subqueries står i stedet for et udtryk baseret på konstanter eller variable som evalueres på kørselstidspunktet. Subqueries er dynamiske i sin natur, dvs. resultatet af en subquery vil ændre sig i takt med at indholdet i de underliggende tabeller ændrer sig.\n",
                "\n",
                "Subqueries kan have nogle forskellige egenskaber:\n",
                "\n",
                "- De kan være både uafhængige eller korreleret med den ydre forespørgsel\n",
                "- De kan returnere en enkelt værdi, en liste af værdier eller en hel tabel\n",
                " \n",
                " Mens subqueries der returnerer hele tabeller vil gennemgås som et særskilt emne, kaldt [derived tables](Derived-tables.ipynb), vil de øvrige typer af subqueries gennemgås i nærværende notebook.\n",
                "\n",
                "Use cases:\n",
                "\n",
                "- Dynamisk beregningstrin i forespørgsel\n",
                "- Beregning af positiv- og negativlister til filtrering\n",
                ""
            ],
            "metadata": {
                "azdata_cell_guid": "ac849748-1f32-42e5-8632-c62abf9b6baf"
            },
            "attachments": {}
        },
        {
            "cell_type": "code",
            "source": [
                "/* Nedenstående er et eksempel på en subquery som, på dynamisk vis, sørger for at det kun er\n",
                "transaktioner fra det seneste batch som returneres */\n",
                "\n",
                "CREATE TABLE #TableA (\n",
                "  Id int NOT NULL,\n",
                "  BatchNo int NOT NULL\n",
                ");\n",
                "\n",
                "INSERT INTO #TableA (Id, BatchNo)\n",
                "VALUES\n",
                "(1, 1), (2, 1), (3, 1),\n",
                "(4, 2), (5, 2), (6, 3);\n",
                "\n",
                "SELECT * FROM #TableA;\n",
                "\n",
                "SELECT\n",
                "    Id,\n",
                "    BatchNo\n",
                "FROM #TableA\n",
                "WHERE BatchNo = (\n",
                "    SELECT MAX(BatchNo)\n",
                "    FROM #TableA\n",
                ");\n",
                "\n",
                "DROP TABLE #TableA;"
            ],
            "metadata": {
                "azdata_cell_guid": "30661247-3b4b-4625-afad-a5b249758cb8",
                "language": "sql"
            },
            "outputs": [],
            "execution_count": null
        },
        {
            "cell_type": "markdown",
            "source": [
                "## Uafhængige subqueries\n",
                "\n",
                "Uafhængige subqueries er *subqueries* som er *uafhængige* af tabellerne fra den ydre forespørgsel som indeholder den. De evalueres logisk før den ydre forespørgsel, og den ydre forspørgsel bruger resultatet fra den indre forespørgsel.\n",
                "\n",
                "Uafhængige subqueries kan returnere en [enkelt værdi](#Skalar-subquery) eller en [liste af værdier](#Flerværdi-subquery).\n",
                ""
            ],
            "metadata": {
                "azdata_cell_guid": "5ec4ce05-cedd-4245-84dd-7330bd5fa598"
            },
            "attachments": {}
        },
        {
            "cell_type": "markdown",
            "source": [
                "### Skalar subquery\n",
                "\n",
                "En skalar subquery er en subquery som returnerer en enkelt værdi.\n",
                "\n",
                "En skalar subquery må optræde over alt i den ydre forespørgsel hvor udtryk med enkeltværdier er tilladt, fx `SELECT` og `WHERE`.\n",
                ""
            ],
            "metadata": {
                "azdata_cell_guid": "a5e3b76f-2c2f-414c-8a37-c06e307da29d"
            },
            "attachments": {}
        },
        {
            "cell_type": "code",
            "source": [
                "/* Nedenstående er eksempler på skalar subqueries */\n",
                "\n",
                "CREATE TABLE #TableA (\n",
                "  Id int NOT NULL,\n",
                "  TableB_Id int NOT NULL\n",
                ");\n",
                "\n",
                "INSERT INTO #TableA (Id, TableB_Id)\n",
                "VALUES\n",
                "(1, 1), (2, 1), (3, 1),\n",
                "(4, 2), (5, 2), (6, 3);\n",
                "\n",
                "CREATE TABLE #TableB (\n",
                "  Id int NOT NULL,\n",
                "  Col nvarchar(10) NULL\n",
                ");\n",
                "\n",
                "INSERT INTO #TableB (Id, Col)\n",
                "VALUES\n",
                "(1, 'A'), (2, 'B'), (3, 'B');\n",
                "\n",
                "SELECT * FROM #TableA;\n",
                "SELECT * FROM #TableB;\n",
                "\n",
                "/* Bemærk at uafhængige subqueries kan markeres og eksekveres */\n",
                "\n",
                "/* Udskift WHERE-delsætningen med de andre, udkommenterede muligheder */\n",
                "\n",
                "SELECT\n",
                "    Id\n",
                "FROM #TableA\n",
                "WHERE TableB_Id = (\n",
                "    SELECT Id\n",
                "    FROM #TableB\n",
                "    WHERE Col LIKE '%A%'\n",
                "    --WHERE Col LIKE '%B%'\n",
                "    --WHERE Col LIKE '%C%'\n",
                ");\n",
                "\n",
                "/* En skalar subquery skal returnere en enkelt værdi, ellers fejler den. Såfremt en subquery ikke\n",
                "    returnerer nogle værdier, så konverteres resultatet til NULL og ingen rækker returneres */\n",
                "\n",
                "DROP TABLE #TableA;\n",
                "DROP TABLE #TableB;"
            ],
            "metadata": {
                "azdata_cell_guid": "082e966b-5a8c-4543-9799-cb82776da4d6",
                "language": "sql"
            },
            "outputs": [],
            "execution_count": null
        },
        {
            "cell_type": "markdown",
            "source": [
                "### Flerværdi subquery\n",
                "\n",
                "En flerværdi subquery er en subquery som returnerer flere værdier som en enkelt kolonne, eller en liste af værdier.\n",
                "\n",
                "En flerværdi subquery bruges i nogle prædikater, fx `IN` (samt `SOME`, `ANY` og `ALL`, men disse bruges sjældent).\n",
                "\n",
                "`IN`-prædikatet har formen:\n",
                "\n",
                "```sql\n",
                "SELECT\n",
                "    *\n",
                "FROM TableA\n",
                "WHERE <skalar-udtryk> IN (<flerværdi subquery>);\n",
                "```\n",
                "\n",
                "Prædikatet evalueres til *SANDT* såfremt skalar-udtrykket er lig en af værdierne returneret af subquerien.\n",
                ""
            ],
            "metadata": {
                "language": "sql",
                "azdata_cell_guid": "ca1d68f7-4652-4420-b9d7-5eac4b4da9a4"
            },
            "attachments": {}
        },
        {
            "cell_type": "code",
            "source": [
                "/* Nedenstående er eksempler på flerværdi subqueries */\n",
                "\n",
                "CREATE TABLE #TableA (\n",
                "  Id int NOT NULL,\n",
                "  TableB_Id int NULL\n",
                ");\n",
                "\n",
                "INSERT INTO #TableA (Id, TableB_Id)\n",
                "VALUES\n",
                "(1, 1), (2, 1), (3, 1),\n",
                "(4, 2), (5, 2), (6, 3);\n",
                "\n",
                "CREATE TABLE #TableB (\n",
                "  Id int NULL,\n",
                "  Col nvarchar(10) NULL\n",
                ");\n",
                "\n",
                "INSERT INTO #TableB (Id, Col)\n",
                "VALUES\n",
                "(1, 'A'), (2, 'B'), (3, 'B'),\n",
                "(4, 'C');\n",
                "\n",
                "SELECT * FROM #TableA;\n",
                "SELECT * FROM #TableB;\n",
                "\n",
                "/* Der er mange problemer som kan løses på flere måder, fx ved brug af enten joins eller\n",
                "    subqueries. Det er ikke til at sige hvad der er bedst. Følg din intuition og tun efter\n",
                "    behov */\n",
                "\n",
                "SELECT\n",
                "    Id,\n",
                "    TableB_Id\n",
                "FROM #TableA\n",
                "WHERE TableB_Id IN (\n",
                "    SELECT Id\n",
                "    FROM #TableB\n",
                "    WHERE Col LIKE '%B%'\n",
                ");\n",
                "\n",
                "SELECT\n",
                "    a.Id,\n",
                "    a.TableB_Id\n",
                "FROM #TableA AS a\n",
                "INNER JOIN #TableB AS b ON b.Id = a.TableB_Id\n",
                "WHERE b.Col LIKE '%B%';\n",
                "\n",
                "/* Bemærk at du ikke behøves at bekymre dig om at inkludere DISTINCT-delsætningen i din subquery\n",
                "    da databasesystemet selv fjerner eventuelle dubletter */\n",
                "\n",
                "SELECT\n",
                "    Id,\n",
                "    Col\n",
                "FROM #TableB\n",
                "WHERE Id IN (\n",
                "    SELECT TableB_Id\n",
                "    FROM #TableA\n",
                ");\n",
                "\n",
                "/* Vær opmærksom på NULL-værdier! */\n",
                "\n",
                "SELECT\n",
                "    Id,\n",
                "    Col\n",
                "FROM #TableB\n",
                "WHERE Id NOT IN (\n",
                "    SELECT TableB_Id\n",
                "    FROM #TableA\n",
                ");\n",
                "\n",
                "INSERT INTO #TableA (Id, TableB_Id)\n",
                "VALUES\n",
                "(7, NULL);\n",
                "\n",
                "SELECT\n",
                "    Id,\n",
                "    Col\n",
                "FROM #TableB\n",
                "WHERE Id NOT IN (\n",
                "    SELECT TableB_Id\n",
                "    FROM #TableA\n",
                ");\n",
                "\n",
                "/* Id=4 fra #TableB har ikke umiddelbart en matchende række i #TableA, men fordi der også optræder\n",
                "    en NULL-værdi i #TableA, så kan vi ikke vide os sikker */\n",
                "\n",
                "DROP TABLE #TableA;\n",
                "DROP TABLE #TableB;"
            ],
            "metadata": {
                "language": "sql",
                "azdata_cell_guid": "4e363c0a-989f-4db8-a618-8d8f5e902bbe"
            },
            "outputs": [],
            "execution_count": null
        },
        {
            "cell_type": "markdown",
            "source": [
                "### *Tid til opgaver...*\n",
                "\n",
                "Lav opgave 1, 2 og 3 i [opgavehæftet](Subqueries.sql).\n",
                ""
            ],
            "metadata": {
                "language": "sql",
                "azdata_cell_guid": "0beac059-9464-480d-9977-f9226c653bb9"
            },
            "attachments": {}
        },
        {
            "cell_type": "markdown",
            "source": [
                "## Korrelerede subqueries\n",
                "\n",
                "Korrelerede subqueries er subqueries som refererer tabeller og kolonner fra den ydre forespørgsel. Korrelerede subqueries er således afhængige af den ydre forespørgsel og kan ikke eksekveres for sig. De evalueres logisk separat for hver række i den ydre forespørgsel.\n",
                ""
            ],
            "metadata": {
                "language": "sql",
                "azdata_cell_guid": "d0d0a3e4-09d1-49b5-9cf8-d7f5f2648624"
            },
            "attachments": {}
        },
        {
            "cell_type": "code",
            "source": [
                "/* Nedenstående er eksempler på korrelerede subqueries */\n",
                "\n",
                "CREATE TABLE #TableA (\n",
                "  Id int NOT NULL,\n",
                "  Cat nchar(1) NULL\n",
                ");\n",
                "\n",
                "INSERT INTO #TableA (Id, Cat)\n",
                "VALUES\n",
                "(1, 'A'), (2, 'A'), (3, 'A'),\n",
                "(4, 'B'), (5, 'B'), (6, 'C');\n",
                "\n",
                "SELECT * FROM #TableA;\n",
                "\n",
                "/* Bemærk at korrelerede queries ikke umiddelbart kan markeres og eksekveres */\n",
                "\n",
                "/* I eksemplet findes for hver kategori den seneste transaktion (med højeste Id) */\n",
                "\n",
                "SELECT\n",
                "    Id,\n",
                "    Cat\n",
                "FROM #TableA as a1\n",
                "WHERE Id IN (\n",
                "    SELECT MAX(Id)\n",
                "    FROM #TableA AS a2\n",
                "    WHERE a1.Cat = a2.Cat\n",
                ");\n",
                "\n",
                "DROP TABLE #TableA;"
            ],
            "metadata": {
                "language": "sql",
                "azdata_cell_guid": "2fb929c9-3291-47b3-9ed0-402f570aabe8"
            },
            "outputs": [],
            "execution_count": null
        },
        {
            "cell_type": "markdown",
            "source": [
                "### `EXISTS`-prædikatet\n",
                "\n",
                "T-SQL understøtter et prædikat kaldt `EXISTS` som tager en (korreleret) subquery som input og returnerer *SANDT* hvis subquerien returnerer en eller flere rækker (matches) og ellers *FALSKT*.\n",
                "\n",
                "`EXISTS`-prædikatet har formen:\n",
                "\n",
                "```sql\n",
                "SELECT\n",
                "    *\n",
                "FROM TableA\n",
                "WHERE EXISTS (\n",
                "    <korreleret subquery>\n",
                ");\n",
                "```\n",
                ""
            ],
            "metadata": {
                "language": "sql",
                "azdata_cell_guid": "3502bb13-3633-4845-8078-4b001d62c683"
            },
            "attachments": {}
        },
        {
            "cell_type": "code",
            "source": [
                "/* Nedenstående er eksempler på korrelerede queries der benytter EXISTS-prædikatet */\n",
                "\n",
                "CREATE TABLE #TableA (\n",
                "  Id int NOT NULL,\n",
                "  TableB_Id int NULL\n",
                ");\n",
                "\n",
                "INSERT INTO #TableA (Id, TableB_Id)\n",
                "VALUES\n",
                "(1, 1), (2, 1), (3, 1),\n",
                "(4, 2), (5, 2);\n",
                "\n",
                "CREATE TABLE #TableB (\n",
                "  Id int NULL,\n",
                "  Col nvarchar(10) NULL\n",
                ");\n",
                "\n",
                "INSERT INTO #TableB (Id, Col)\n",
                "VALUES\n",
                "(1, 'A'), (2, 'B'), (3, 'B'),\n",
                "(4, 'C');\n",
                "\n",
                "SELECT * FROM #TableA;\n",
                "SELECT * FROM #TableB;\n",
                "\n",
                "/* I eksemplet findes transaktioner i #TableB med Col='B' og hvor der eksisterer (eller ikke\n",
                "    eksisterer) tilhørende transaktioner i #TableA */\n",
                "\n",
                "SELECT\n",
                "    Id,\n",
                "    Col\n",
                "FROM #TableB as b\n",
                "WHERE Col = 'B'\n",
                "AND EXISTS (\n",
                "--AND NOT EXISTS (\n",
                "    SELECT *\n",
                "    FROM #TableA AS a\n",
                "    WHERE a.TableB_Id = b.Id\n",
                ");\n",
                "\n",
                "/* Mens brugen af asterisk, *, oftest er en dårlig praksis, så gælder dette ikke\n",
                "for EXISTS - her bekymrer databasesystemet sig udelukkende om matchende rækker */\n",
                "\n",
                "/* EXISTS performer godt! Databasesystemet ved godt at det udelukkende skal finde ud af om\n",
                "der eksisterer mindst en matchende række eller ingen */\n",
                "\n",
                "DROP TABLE #TableA;\n",
                "DROP TABLE #TableB;"
            ],
            "metadata": {
                "language": "sql",
                "azdata_cell_guid": "added215-29b5-45c8-a63e-de13645916c4"
            },
            "outputs": [],
            "execution_count": null
        },
        {
            "cell_type": "markdown",
            "source": [
                "### *Tid til opgaver...*\n",
                "\n",
                "Lav opgave 4, 5 og 6 i [opgavehæftet](Subqueries.sql).\n",
                ""
            ],
            "metadata": {
                "language": "sql",
                "azdata_cell_guid": "de086d4b-e965-45df-982a-0a46902c0350"
            },
            "attachments": {}
        },
        {
            "cell_type": "markdown",
            "source": [
                "## Hovedpointer\n",
                "\n",
                "- Subqueries er en forespørgsel indlejret i en anden forespørgsel\n",
                "- Subqueries kan have forskellige egenskaber. De kan være:\n",
                "  - Uafhængige eller korrelede\n",
                "  - Returnere en enkelt værdi eller en liste af værdier\n",
                "- Subqueries bruges ofte fordi de er dynamiske og sparer nogle beregningstrin\n",
                ""
            ],
            "metadata": {
                "azdata_cell_guid": "c25aa37f-35e5-463a-8026-61c3e1841997"
            },
            "attachments": {}
        },
        {
            "cell_type": "markdown",
            "source": [
                "## Licens\n",
                "\n",
                "Creative Commons Attribution-ShareAlike 4.0 International (CC BY-SA 4.0)\n",
                "\n",
                "Mere info: [https://creativecommons.org/licenses/by-sa/4.0/](https://creativecommons.org/licenses/by-sa/4.0/)\n",
                "\n",
                "Du kan frit:\n",
                "\n",
                "- Dele: kopiere og distribuere materialet via ethvert medium og i ethvert format\n",
                "- Tilpasse: remixe, redigere og bygge på materialet til ethvert formål, selv erhvervsmæssigt\n",
                "\n",
                "Under følgende betingelser:\n",
                "\n",
                "- Kreditering: Du skal kreditere, dele et link til licensen og indikere om der er lavet ændringer.\n",
                "- Del på samme vilkår: Hvis du remixer, redigerer eller bygger på materialet, så skal dine bidrag\n",
                "  distribueres under samme licens som den originale.\n",
                ""
            ],
            "metadata": {
                "azdata_cell_guid": "73d8e98b-6665-40fb-a252-eb7829570885"
            },
            "attachments": {}
        }
    ]
}