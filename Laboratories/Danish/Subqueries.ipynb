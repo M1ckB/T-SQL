{
    "metadata": {
        "kernelspec": {
            "name": "SQL",
            "display_name": "SQL",
            "language": "sql"
        },
        "language_info": {
            "name": "sql",
            "version": ""
        }
    },
    "nbformat_minor": 2,
    "nbformat": 4,
    "cells": [
        {
            "cell_type": "markdown",
            "source": [
                "# Subqueries\n",
                "\n",
                "> Udviklet af Thomas Lange & Mick Ahlmann Brun\n",
                "\n",
                "Mere info: [https://github.com/M1ckB/T-SQL](https://github.com/M1ckB/T-SQL)\n",
                "\n",
                "Version 1.0 2023-01-25\n",
                "\n",
                "Laboratoriet kræver:\n",
                "\n",
                "- En understøttet version af SQL Server\n",
                "- En Stack Overflow database: [Brent Ozar](https://www.BrentOzar.com/go/querystack) (medium)\n",
                "\n",
                "Læs mere om subqueries i Microsofts T-SQL reference:\n",
                "\n",
                "- [https://learn.microsoft.com/en-us/sql/relational-databases/performance/subqueries?view=sql-server-ver16](https://learn.microsoft.com/en-us/sql/relational-databases/performance/subqueries?view=sql-server-ver16)\n",
                ""
            ],
            "metadata": {
                "azdata_cell_guid": "bf2d15bc-0dae-4208-9431-406ec2701df1"
            },
            "attachments": {}
        },
        {
            "cell_type": "markdown",
            "source": [
                "## Indholdsfortegnelse\n",
                "\n",
                "- [Introduktion til subqueries](#Introduktion-til-subqueries)\n",
                "- [Uafhængige subqueries](#Uafhængige-subqueries)\n",
                "  - [Skalar subquery](#Skalar-subquery)\n",
                "  - [Flerværdi subquery](#Flerværdi-subquery)\n",
                "- [Korrelerede subqueries](#Korrelerede-subqueries)\n",
                "  - [EXISTS-prædikatet](#EXISTS-prædikatet)\n",
                "- [Hovedpointer](#Hovedpointer)\n",
                ""
            ],
            "metadata": {
                "azdata_cell_guid": "e22129e4-12f5-4c19-bb1d-47222fe6ce05"
            },
            "attachments": {}
        },
        {
            "cell_type": "markdown",
            "source": [
                "## Introduktion til subqueries\n",
                ""
            ],
            "metadata": {
                "azdata_cell_guid": "ac849748-1f32-42e5-8632-c62abf9b6baf"
            },
            "attachments": {}
        },
        {
            "cell_type": "code",
            "source": [
                "/* Eksempel */"
            ],
            "metadata": {
                "azdata_cell_guid": "30661247-3b4b-4625-afad-a5b249758cb8",
                "language": "sql"
            },
            "outputs": [],
            "execution_count": null
        },
        {
            "cell_type": "markdown",
            "source": [
                "## Uafhængige subqueries\n",
                "\n",
                "Beskrivelse...\n",
                ""
            ],
            "metadata": {
                "azdata_cell_guid": "5ec4ce05-cedd-4245-84dd-7330bd5fa598"
            },
            "attachments": {}
        },
        {
            "cell_type": "markdown",
            "source": [
                "### Skalar subquery\n",
                "\n",
                "Beskrivelse...\n",
                ""
            ],
            "metadata": {
                "azdata_cell_guid": "a5e3b76f-2c2f-414c-8a37-c06e307da29d"
            },
            "attachments": {}
        },
        {
            "cell_type": "code",
            "source": [
                "/* Eksempel */\n",
                ""
            ],
            "metadata": {
                "azdata_cell_guid": "082e966b-5a8c-4543-9799-cb82776da4d6",
                "language": "sql"
            },
            "outputs": [],
            "execution_count": null
        },
        {
            "cell_type": "markdown",
            "source": [
                "### *Tid til opgaver...*\n",
                "\n",
                "Lav opgave X i [opgavehæftet](Subqueries.sql).\n",
                ""
            ],
            "metadata": {
                "language": "sql",
                "azdata_cell_guid": "ee1474ba-56ed-4575-88c3-8a8a56e2d88d"
            },
            "attachments": {}
        },
        {
            "cell_type": "markdown",
            "source": [
                "### Flerværdi subquery\n",
                "\n",
                "Beskrivelse...\n",
                ""
            ],
            "metadata": {
                "language": "sql",
                "azdata_cell_guid": "ca1d68f7-4652-4420-b9d7-5eac4b4da9a4"
            },
            "attachments": {}
        },
        {
            "cell_type": "code",
            "source": [
                "/* Eksempel */"
            ],
            "metadata": {
                "language": "sql",
                "azdata_cell_guid": "4e363c0a-989f-4db8-a618-8d8f5e902bbe"
            },
            "outputs": [],
            "execution_count": null
        },
        {
            "cell_type": "markdown",
            "source": [
                "### *Tid til opgaver...*\n",
                "\n",
                "Lav opgave X i [opgavehæftet](Subqueries.sql).\n",
                ""
            ],
            "metadata": {
                "language": "sql",
                "azdata_cell_guid": "0beac059-9464-480d-9977-f9226c653bb9"
            },
            "attachments": {}
        },
        {
            "cell_type": "markdown",
            "source": [
                "## Korrelerede subqueries\n",
                "\n",
                "Beskrivelse...\n",
                ""
            ],
            "metadata": {
                "language": "sql",
                "azdata_cell_guid": "d0d0a3e4-09d1-49b5-9cf8-d7f5f2648624"
            },
            "attachments": {}
        },
        {
            "cell_type": "code",
            "source": [
                "/* Eksempel */"
            ],
            "metadata": {
                "language": "sql",
                "azdata_cell_guid": "2fb929c9-3291-47b3-9ed0-402f570aabe8"
            },
            "outputs": [],
            "execution_count": null
        },
        {
            "cell_type": "markdown",
            "source": [
                "### *Tid til opgaver...*\n",
                "\n",
                "Lav opgave X i [opgavehæftet](Subqueries.sql).\n",
                ""
            ],
            "metadata": {
                "language": "sql",
                "azdata_cell_guid": "df837f2d-7795-4db4-a8ff-c68991bcfb53"
            },
            "attachments": {}
        },
        {
            "cell_type": "markdown",
            "source": [
                "### `EXISTS`-prædikatet\n",
                "\n",
                "Beskrivelse...\n",
                ""
            ],
            "metadata": {
                "language": "sql",
                "azdata_cell_guid": "3502bb13-3633-4845-8078-4b001d62c683"
            },
            "attachments": {}
        },
        {
            "cell_type": "code",
            "source": [
                "/* Eksempel */"
            ],
            "metadata": {
                "language": "sql",
                "azdata_cell_guid": "added215-29b5-45c8-a63e-de13645916c4"
            },
            "outputs": [],
            "execution_count": null
        },
        {
            "cell_type": "markdown",
            "source": [
                "### *Tid til opgaver...*\n",
                "\n",
                "Lav opgave X i [opgavehæftet](Subqueries.sql).\n",
                ""
            ],
            "metadata": {
                "language": "sql",
                "azdata_cell_guid": "de086d4b-e965-45df-982a-0a46902c0350"
            },
            "attachments": {}
        },
        {
            "cell_type": "markdown",
            "source": [
                "## Hovedpointer\n",
                "\n",
                "- HOVEDPOINTE\n",
                ""
            ],
            "metadata": {
                "azdata_cell_guid": "c25aa37f-35e5-463a-8026-61c3e1841997"
            },
            "attachments": {}
        },
        {
            "cell_type": "markdown",
            "source": [
                "## Licens\n",
                "\n",
                "Creative Commons Attribution-ShareAlike 4.0 International (CC BY-SA 4.0)\n",
                "\n",
                "Mere info: [https://creativecommons.org/licenses/by-sa/4.0/](https://creativecommons.org/licenses/by-sa/4.0/)\n",
                "\n",
                "Du kan frit:\n",
                "\n",
                "- Dele: kopiere og distribuere materialet via ethvert medium og i ethvert format\n",
                "- Tilpasse: remixe, redigere og bygge på materialet til ethvert formål, selv erhvervsmæssigt\n",
                "\n",
                "Under følgende betingelser:\n",
                "\n",
                "- Kreditering: Du skal kreditere, dele et link til licensen og indikere om der er lavet ændringer.\n",
                "- Del på samme vilkår: Hvis du remixer, redigerer eller bygger på materialet, så skal dine bidrag\n",
                "  distribueres under samme licens som den originale.\n",
                ""
            ],
            "metadata": {
                "azdata_cell_guid": "73d8e98b-6665-40fb-a252-eb7829570885"
            },
            "attachments": {}
        }
    ]
}