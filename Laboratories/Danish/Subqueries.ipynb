{
    "metadata": {
        "kernelspec": {
            "name": "SQL",
            "display_name": "SQL",
            "language": "sql"
        },
        "language_info": {
            "name": "sql",
            "version": ""
        }
    },
    "nbformat_minor": 2,
    "nbformat": 4,
    "cells": [
        {
            "cell_type": "markdown",
            "source": [
                "# Subqueries\n",
                "\n",
                "> Udviklet af Thomas Lange & Mick Ahlmann Brun\n",
                "\n",
                "Mere info: [https://github.com/M1ckB/T-SQL](https://github.com/M1ckB/T-SQL)\n",
                "\n",
                "Version 1.0 2023-01-25\n",
                "\n",
                "Laboratoriet kræver:\n",
                "\n",
                "- En understøttet version af SQL Server\n",
                "- En Stack Overflow database: [Brent Ozar](https://www.BrentOzar.com/go/querystack) (medium)\n",
                "\n",
                "Læs mere om subqueries i Microsofts T-SQL reference:\n",
                "\n",
                "- [https://learn.microsoft.com/en-us/sql/relational-databases/performance/subqueries?view=sql-server-ver16](https://learn.microsoft.com/en-us/sql/relational-databases/performance/subqueries?view=sql-server-ver16)\n",
                ""
            ],
            "metadata": {
                "azdata_cell_guid": "bf2d15bc-0dae-4208-9431-406ec2701df1"
            },
            "attachments": {}
        },
        {
            "cell_type": "markdown",
            "source": [
                "## Indholdsfortegnelse\n",
                "\n",
                "- [Introduktion til subqueries](#Introduktion-til-subqueries)\n",
                "- [Uafhængige subqueries](#Uafhængige-subqueries)\n",
                "  - [Skalar subquery](#Skalar-subquery)\n",
                "  - [Flerværdi subquery](#Flerværdi-subquery)\n",
                "- [Korrelerede subqueries](#Korrelerede-subqueries)\n",
                "  - [EXISTS-prædikatet](#EXISTS-prædikatet)\n",
                "- [Hovedpointer](#Hovedpointer)\n",
                ""
            ],
            "metadata": {
                "azdata_cell_guid": "e22129e4-12f5-4c19-bb1d-47222fe6ce05"
            },
            "attachments": {}
        },
        {
            "cell_type": "markdown",
            "source": [
                "## Introduktion til subqueries\n",
                "\n",
                "SQL understøtter at man kan indlejre forespørgsler i hinanden.\n",
                "\n",
                "Man siger at den forespørgsel hvis resultat returneres til forespørgeren er den *ydre* forespørgsel, mens den *indre* forespørgsel er en der bruges af den ydre forespørgsel. Sidstnævnte kaldes en *subquery*.\n",
                "\n",
                "Man kan tænke på at subqueries står i stedet for et udtryk baseret på konstanter eller variable som evalueres på kørselstidspunktet. Subqueries er dynamiske i sin natur, dvs. resultatet af en subquery vil ændre sig i takt med at indholdet i de underliggende tabeller ændrer sig.\n",
                "\n",
                "Subqueries kan have nogle forskellige egenskaber:\n",
                "\n",
                "- De kan være både uafhængige eller korreleret med den ydre forespørgsel\n",
                "- De kan returnere en enkelt værdi, en liste af værdier eller en hel tabel\n",
                " \n",
                " Mens subqueries der returnerer hele tabeller vil gennemgås i emnet om [tabeludtryk](Table-expressions.ipynb), vil de øvrige typer af subqueries gennemgås i nærværende notebook.\n",
                "\n",
                "Use cases:\n",
                "\n",
                "- Dynamisk beregningstrin i forespørgsel\n",
                "- Beregning af positiv- og negativlister til filtrering\n",
                ""
            ],
            "metadata": {
                "azdata_cell_guid": "ac849748-1f32-42e5-8632-c62abf9b6baf"
            },
            "attachments": {}
        },
        {
            "cell_type": "code",
            "source": [
                "/* Eksempel */"
            ],
            "metadata": {
                "azdata_cell_guid": "30661247-3b4b-4625-afad-a5b249758cb8",
                "language": "sql"
            },
            "outputs": [],
            "execution_count": null
        },
        {
            "cell_type": "markdown",
            "source": [
                "## Uafhængige subqueries\n",
                "\n",
                "Uafhængige subqueries er *subqueries* som er *uafhængige* af tabellerne fra den ydre forespørgsel som indeholder den. De evalueres logisk før den ydre forespørgsel, og den ydre forspørgsel bruger resultatet fra den indre forespørgsel.\n",
                "\n",
                "Uafhængige subqueries kan returnere en [enkelt værdi](#Skalar-subquery) eller en [liste af værdier](#Flerværdi-subquery).\n",
                ""
            ],
            "metadata": {
                "azdata_cell_guid": "5ec4ce05-cedd-4245-84dd-7330bd5fa598"
            },
            "attachments": {}
        },
        {
            "cell_type": "markdown",
            "source": [
                "### Skalar subquery\n",
                "\n",
                "En skalar subquery er en subquery som returnerer en enkelt værdi.\n",
                "\n",
                "En skalar subquery må optræde over alt i den ydre forespørgsel hvor udtryk med enkeltværdier er tilladt, fx `SELECT` og `WHERE`.\n",
                ""
            ],
            "metadata": {
                "azdata_cell_guid": "a5e3b76f-2c2f-414c-8a37-c06e307da29d"
            },
            "attachments": {}
        },
        {
            "cell_type": "code",
            "source": [
                "/* Eksempel */\n",
                "\n",
                "/* Bemærk at uafhængige subqueries kan markeres og eksekveres */"
            ],
            "metadata": {
                "azdata_cell_guid": "082e966b-5a8c-4543-9799-cb82776da4d6",
                "language": "sql"
            },
            "outputs": [],
            "execution_count": null
        },
        {
            "cell_type": "markdown",
            "source": [
                "### *Tid til opgaver...*\n",
                "\n",
                "Lav opgave X i [opgavehæftet](Subqueries.sql).\n",
                ""
            ],
            "metadata": {
                "language": "sql",
                "azdata_cell_guid": "ee1474ba-56ed-4575-88c3-8a8a56e2d88d"
            },
            "attachments": {}
        },
        {
            "cell_type": "markdown",
            "source": [
                "### Flerværdi subquery\n",
                "\n",
                "En flerværdi subquery er en subquery som returnerer flere værdier som en enkelt kolonne, eller en liste af værdier.\n",
                "\n",
                "En flerværdi subquery bruges i nogle prædikater, fx `IN` (samt `SOME`, `ANY` og `ALL`, men disse bruges sjældent).\n",
                "\n",
                "`IN`-prædikatet har formen:\n",
                "\n",
                "```sql\n",
                "SELECT\n",
                "    *\n",
                "FROM TableA\n",
                "WHERE <skalar-udtryk> IN (<flerværdi subquery>);\n",
                "```\n",
                "\n",
                "Prædikatet evalueres til *SANDT* såfremt skalar-udtrykket er lig en af værdierne returneret af subquerien.\n",
                ""
            ],
            "metadata": {
                "language": "sql",
                "azdata_cell_guid": "ca1d68f7-4652-4420-b9d7-5eac4b4da9a4"
            },
            "attachments": {}
        },
        {
            "cell_type": "code",
            "source": [
                "/* Eksempel */"
            ],
            "metadata": {
                "language": "sql",
                "azdata_cell_guid": "4e363c0a-989f-4db8-a618-8d8f5e902bbe"
            },
            "outputs": [],
            "execution_count": null
        },
        {
            "cell_type": "markdown",
            "source": [
                "### *Tid til opgaver...*\n",
                "\n",
                "Lav opgave X i [opgavehæftet](Subqueries.sql).\n",
                ""
            ],
            "metadata": {
                "language": "sql",
                "azdata_cell_guid": "0beac059-9464-480d-9977-f9226c653bb9"
            },
            "attachments": {}
        },
        {
            "cell_type": "markdown",
            "source": [
                "## Korrelerede subqueries\n",
                "\n",
                "Korrelerede subqueries er subqueries som refererer tabeller og kolonner fra den ydre forespørgsel. Korrelerede subqueries er således afhængige af den ydre forespørgsel og kan ikke eksekveres for sig. De evalueres logisk separat for hver række i den ydre forespørgsel.\n",
                ""
            ],
            "metadata": {
                "language": "sql",
                "azdata_cell_guid": "d0d0a3e4-09d1-49b5-9cf8-d7f5f2648624"
            },
            "attachments": {}
        },
        {
            "cell_type": "code",
            "source": [
                "/* Eksempel */"
            ],
            "metadata": {
                "language": "sql",
                "azdata_cell_guid": "2fb929c9-3291-47b3-9ed0-402f570aabe8"
            },
            "outputs": [],
            "execution_count": null
        },
        {
            "cell_type": "markdown",
            "source": [
                "### *Tid til opgaver...*\n",
                "\n",
                "Lav opgave X i [opgavehæftet](Subqueries.sql).\n",
                ""
            ],
            "metadata": {
                "language": "sql",
                "azdata_cell_guid": "df837f2d-7795-4db4-a8ff-c68991bcfb53"
            },
            "attachments": {}
        },
        {
            "cell_type": "markdown",
            "source": [
                "### `EXISTS`-prædikatet\n",
                "\n",
                "T-SQL understøtter et prædikat kaldt `EXISTS` som tager en (korreleret) subquery som input og returnerer *SANDT* hvis subquerien returnerer en eller flere rækker (matches) og ellers *FALSKT*.\n",
                "\n",
                "`EXISTS`-prædikatet har formen:\n",
                "\n",
                "```sql\n",
                "SELECT\n",
                "    *\n",
                "FROM TableA\n",
                "WHERE EXISTS (\n",
                "    <korreleret subquery>\n",
                ");\n",
                "```\n",
                ""
            ],
            "metadata": {
                "language": "sql",
                "azdata_cell_guid": "3502bb13-3633-4845-8078-4b001d62c683"
            },
            "attachments": {}
        },
        {
            "cell_type": "code",
            "source": [
                "/* Eksempel */\n",
                "\n",
                "/* EXISTS performer godt! Databasesystemet ved godt at det udelukkende skal finde ud af om\n",
                "der eksisterer mindst en matchende række eller ingen */\n",
                "\n",
                "/* Mens brugen af asterisk, *, oftest er en dårlig praksis, så gælder dette ikke\n",
                "for EXISTS - her bekymrer databasesystemet sig udelukkende om matchende rækker */"
            ],
            "metadata": {
                "language": "sql",
                "azdata_cell_guid": "added215-29b5-45c8-a63e-de13645916c4"
            },
            "outputs": [],
            "execution_count": null
        },
        {
            "cell_type": "markdown",
            "source": [
                "### *Tid til opgaver...*\n",
                "\n",
                "Lav opgave X i [opgavehæftet](Subqueries.sql).\n",
                ""
            ],
            "metadata": {
                "language": "sql",
                "azdata_cell_guid": "de086d4b-e965-45df-982a-0a46902c0350"
            },
            "attachments": {}
        },
        {
            "cell_type": "markdown",
            "source": [
                "## Hovedpointer\n",
                "\n",
                "- Subqueries er en forespørgsel indlejret i en anden forespørgsel\n",
                "- Subqueries kan have forskellige egenskaber. De kan være:\n",
                "  - Uafhængige eller korrelede\n",
                "  - Returnere en enkelt værdi eller en liste af værdier\n",
                "- Subqueries bruges ofte fordi de er dynamiske og sparer nogle beregningstrin\n",
                ""
            ],
            "metadata": {
                "azdata_cell_guid": "c25aa37f-35e5-463a-8026-61c3e1841997"
            },
            "attachments": {}
        },
        {
            "cell_type": "markdown",
            "source": [
                "## Licens\n",
                "\n",
                "Creative Commons Attribution-ShareAlike 4.0 International (CC BY-SA 4.0)\n",
                "\n",
                "Mere info: [https://creativecommons.org/licenses/by-sa/4.0/](https://creativecommons.org/licenses/by-sa/4.0/)\n",
                "\n",
                "Du kan frit:\n",
                "\n",
                "- Dele: kopiere og distribuere materialet via ethvert medium og i ethvert format\n",
                "- Tilpasse: remixe, redigere og bygge på materialet til ethvert formål, selv erhvervsmæssigt\n",
                "\n",
                "Under følgende betingelser:\n",
                "\n",
                "- Kreditering: Du skal kreditere, dele et link til licensen og indikere om der er lavet ændringer.\n",
                "- Del på samme vilkår: Hvis du remixer, redigerer eller bygger på materialet, så skal dine bidrag\n",
                "  distribueres under samme licens som den originale.\n",
                ""
            ],
            "metadata": {
                "azdata_cell_guid": "73d8e98b-6665-40fb-a252-eb7829570885"
            },
            "attachments": {}
        }
    ]
}