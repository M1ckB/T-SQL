{
    "metadata": {
        "kernelspec": {
            "name": "SQL",
            "display_name": "SQL",
            "language": "sql"
        },
        "language_info": {
            "name": "sql",
            "version": ""
        }
    },
    "nbformat_minor": 2,
    "nbformat": 4,
    "cells": [
        {
            "cell_type": "markdown",
            "source": [
                "# Temporary Tables\n",
                "\n",
                "> Udviklet af Thomas Lange & Mick Ahlmann Brun\n",
                "\n",
                "Mere info: [https://github.com/M1ckB/T-SQL](https://github.com/M1ckB/T-SQL)\n",
                "\n",
                "Version 1.0 2023-02-09\n",
                "\n",
                "Laboratoriet kræver:\n",
                "\n",
                "- En understøttet version af SQL Server\n",
                "- En Stack Overflow database: [Brent Ozar](https://www.BrentOzar.com/go/querystack) (medium)\n",
                "\n",
                "Læs mere om temporary tables i Microsofts T-SQL reference:\n",
                "\n",
                "- [https://learn.microsoft.com/en-us/sql/t-sql/statements/create-table-transact-sql?view=sql-server-ver16](https://learn.microsoft.com/en-us/sql/t-sql/statements/create-table-transact-sql?view=sql-server-ver16)"
            ],
            "metadata": {
                "azdata_cell_guid": "bf2d15bc-0dae-4208-9431-406ec2701df1"
            },
            "attachments": {}
        },
        {
            "cell_type": "markdown",
            "source": [
                "## Indholdsfortegnelse\n",
                "\n",
                "- [Midlertidige tabeller](#Midlertidige-tabeller)\n",
                "  - [Lokale midlertidige tabeller](#Lokale-midlertidige-tabeller)\n",
                "  - [Globale midlertidige tabeller](#Globale-midlertidige-tabeller)\n",
                "- [Hovedpointer](#Hovedpointer)"
            ],
            "metadata": {
                "azdata_cell_guid": "e22129e4-12f5-4c19-bb1d-47222fe6ce05"
            },
            "attachments": {}
        },
        {
            "cell_type": "markdown",
            "source": [
                "## Midlertidige tabeller\n",
                "\n",
                "_Temporary tables_, eller midlertidige tabeller, er tabeller som ikke er gemt permanent i en brugerdatabase, men som kun er tilgængelig mens den oprindelige session er åben. Når sessionen lukker, så slettes tabellerne også.\n",
                "\n",
                "Use cases:\n",
                "\n",
                "- Hvis du ikke har rettigheder til at oprette tabeller, så kan man gemme mellemregninger i midlertidige tabeller\n",
                "- Debugging af komplekse queries\n",
                "- I forbindelse med dataprocessering og administrative opgaver kan midlertidige tabeller bruges som udgangspunkt for fx en cursor\n",
                "\n",
                "T-SQL understøtter tre typer af midlertidige tabeller: _lokale_ midlertidige tabeller, _globale_ midlertidige tabeller og tabelvariable (sidstnævnte vil ikke gennemgås i nærværende laboratorium).\n",
                "\n",
                "Alle tre tabeltyper gemmes i `tempdb`."
            ],
            "metadata": {
                "azdata_cell_guid": "5ec4ce05-cedd-4245-84dd-7330bd5fa598"
            },
            "attachments": {}
        },
        {
            "cell_type": "markdown",
            "source": [
                "### Lokale midlertidige tabeller\n",
                "\n",
                "Lokale midlertidige tabeller laves ved at præfikse et tabelnavn med `#` (hash), fx `#table`.\n",
                "\n",
                "En lokal midlertidig tabel er kun tilgængelig for sessionen som har oprettet den.\n",
                ""
            ],
            "metadata": {
                "azdata_cell_guid": "ab158854-28a8-4a99-a35f-6452047e342d"
            },
            "attachments": {}
        },
        {
            "cell_type": "code",
            "source": [
                "/* Eksempel på en lokal midlertidig tabel */\n",
                "\n",
                "CREATE TABLE #tableA (\n",
                "    Id int\n",
                ");\n",
                "\n",
                "INSERT INTO #TableA (Id)\n",
                "VALUES (1), (2), (3);\n",
                "\n",
                "SELECT * FROM #TableA;\n",
                "\n",
                "/* Kan du tilgå tabellen fra en anden session? */\n",
                "\n",
                "DROP TABLE #TableA;\n",
                "\n",
                "/* Det er altid god skik at rydde op efter sig selv \n",
                "    ved fx at droppe tabeller som ikke længere\n",
                "    bruges */\n",
                ""
            ],
            "metadata": {
                "azdata_cell_guid": "082e966b-5a8c-4543-9799-cb82776da4d6",
                "language": "sql",
                "tags": []
            },
            "outputs": [],
            "execution_count": null
        },
        {
            "cell_type": "markdown",
            "source": [
                "### Globale midlertidige tabeller\n",
                "\n",
                "Gloable midlertidige tabeller laves ved at præfikse et tabelnavn med `##` (dobbelthash), fx `##table`.\n",
                "\n",
                "En global midlertidig tabel er tilgængelig for alle sessioner, men slettes så snart den oprindelige session som oprettede den, lukkes.\n",
                "\n",
                "Tabeltypen kan bruges til fx at dele sit arbejde med andre.\n",
                ""
            ],
            "metadata": {
                "language": "sql",
                "azdata_cell_guid": "06e5e79d-2ce3-4671-828b-65276733ffba"
            },
            "attachments": {}
        },
        {
            "cell_type": "code",
            "source": [
                "/* Eksempel på en global midlertidig tabel */\n",
                "\n",
                "CREATE TABLE ##tableA (\n",
                "    Id int\n",
                ");\n",
                "\n",
                "INSERT INTO ##TableA (Id)\n",
                "VALUES (1), (2), (3);\n",
                "\n",
                "SELECT * FROM ##TableA;\n",
                "\n",
                "/* Kan du tilgå tabellen fra en anden session? */\n",
                "\n",
                "DROP TABLE ##TableA;\n",
                ""
            ],
            "metadata": {
                "language": "sql",
                "azdata_cell_guid": "295c37bd-5450-4dea-b908-7f3ee6502b41"
            },
            "outputs": [],
            "execution_count": null
        },
        {
            "cell_type": "markdown",
            "source": [
                "### *Tid til opgaver...*\n",
                "\n",
                "Lav opgave 1.1 til 1.3 i [opgavehæftet](Temporary-tables.sql)."
            ],
            "metadata": {
                "language": "sql",
                "azdata_cell_guid": "ee1474ba-56ed-4575-88c3-8a8a56e2d88d"
            },
            "attachments": {}
        },
        {
            "cell_type": "markdown",
            "source": [
                "## Hovedpointer\n",
                "\n",
                "- Midlertidige tabeller er, som navnet antyder, ikke permanente\n",
                "- Midlertidige tabeller bruges oftest til fx at gemme midlertidige resultater eller debugge\n",
                "- Midlertidige tabeller lever kun sålænge sessionen som skabte den er åben\n",
                "- SQL Server understøtter tre typer af midlertidige tabeller: lokale, globale og tabelvariable\n",
                "- Lokale midlertidige tabeller præfikses med `#` (hash), mens globale midlertidige tabeller præfikses med `##` (dobbelthash)\n",
                ""
            ],
            "metadata": {
                "azdata_cell_guid": "c25aa37f-35e5-463a-8026-61c3e1841997"
            },
            "attachments": {}
        },
        {
            "cell_type": "markdown",
            "source": [
                "## Licens\n",
                "\n",
                "Creative Commons Attribution-ShareAlike 4.0 International (CC BY-SA 4.0)\n",
                "\n",
                "Mere info: [https://creativecommons.org/licenses/by-sa/4.0/](https://creativecommons.org/licenses/by-sa/4.0/)\n",
                "\n",
                "Du kan frit:\n",
                "\n",
                "- Dele: kopiere og distribuere materialet via ethvert medium og i ethvert format\n",
                "- Tilpasse: remixe, redigere og bygge på materialet til ethvert formål, selv erhvervsmæssigt\n",
                "\n",
                "Under følgende betingelser:\n",
                "\n",
                "- Kreditering: Du skal kreditere, dele et link til licensen og indikere om der er lavet ændringer.\n",
                "- Del på samme vilkår: Hvis du remixer, redigerer eller bygger på materialet, så skal dine bidrag\n",
                "  distribueres under samme licens som den originale.\n",
                ""
            ],
            "metadata": {
                "azdata_cell_guid": "73d8e98b-6665-40fb-a252-eb7829570885"
            },
            "attachments": {}
        }
    ]
}