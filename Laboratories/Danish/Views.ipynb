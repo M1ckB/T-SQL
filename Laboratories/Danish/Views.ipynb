{
    "metadata": {
        "kernelspec": {
            "name": "SQL",
            "display_name": "SQL",
            "language": "sql"
        },
        "language_info": {
            "name": "sql",
            "version": ""
        }
    },
    "nbformat_minor": 2,
    "nbformat": 4,
    "cells": [
        {
            "cell_type": "markdown",
            "source": [
                "# Views\n",
                "\n",
                "> Udviklet af Thomas Lange & Mick Ahlmann Brun\n",
                "\n",
                "Mere info: [https://github.com/M1ckB/T-SQL](https://github.com/M1ckB/T-SQL)\n",
                "\n",
                "Version 1.0 2023-02-08\n",
                "\n",
                "Laboratoriet kræver:\n",
                "\n",
                "- En understøttet version af SQL Server\n",
                "- En Stack Overflow database: [Brent Ozar](https://www.BrentOzar.com/go/querystack) (medium)\n",
                "\n",
                "Læs mere om views i Microsofts T-SQL reference:\n",
                "\n",
                "- [https://learn.microsoft.com/en-us/sql/relational-databases/views/views](https://learn.microsoft.com/en-us/sql/relational-databases/views/views?view=sql-server-ver16)"
            ],
            "metadata": {
                "azdata_cell_guid": "bf2d15bc-0dae-4208-9431-406ec2701df1"
            },
            "attachments": {}
        },
        {
            "cell_type": "markdown",
            "source": [
                "## Indholdsfortegnelse\n",
                "\n",
                "- [Views (almindelige, brugerdefinerede)](#Views-almindelige-brugerdefinerede)\n",
                "- [Andre typer views](#Andre-typer-views)\n",
                "- [Hovedpointer](#Hovedpointer)"
            ],
            "metadata": {
                "azdata_cell_guid": "e22129e4-12f5-4c19-bb1d-47222fe6ce05"
            },
            "attachments": {}
        },
        {
            "cell_type": "markdown",
            "source": [
                "## Views (almindelige, brugerdefinerede)\n",
                "\n",
                "Et view er en logisk eller virtuel tabel, hvis indhold er defineret som en forespørgsel.\n",
                "\n",
                "Views materialiseres ikke (med mindre der laves indekserede views, se [https://learn.microsoft.com/en-us/sql/relational-databases/views/create-indexed-views](https://learn.microsoft.com/en-us/sql/relational-databases/views/create-indexed-views)), men forbliver logiske enheder, som producerer kolonner og rækker, når viewet refereres. \n",
                "\n",
                "Forespørgslen, som definerer viewet, skal være en enkelt `SELECT`-forespørgsel, men viewet kan med fordel indeholde logik, som knytter flere tabeller sammen, fx gennem CTE'er, som successivt refererer hinanden. Viewets kildetabeller kan komme fra samme eller flere databaser og fra samme eller flere databaseservere.   \n",
                "\n",
                "Use cases:\n",
                "\n",
                "- Views bruges til at målrette, filtrere og simplificere den måde data præsenteres på\n",
                "- Views bruges typisk til at skjule kompleksitet, så det gøres nemt for brugeren (systembruger eller menneske) at anvende en fastlagt logik\n",
                "- Views kan med fordel bruges som en datakontrakt med brugere (systembrugere eller mennesker), idet de emulerer en tabelstruktur uafhængigt af de bagvedliggende tabellers strukturer. Et typisk eksempel herpå er et staging-view til et nyt datalag (*data layer*) eller et *source*-view til en applikation (fx Analysis Services eller Power BI)\n",
                "- Views kan bruges som et sikkerhedslag ved kun at lade brugere læse data gennem viewet, hvorved de bagvedliggende datas detaljer kan skjules. I sådanne tilfælde opretter man tit et skema med views, som man giver en brugergruppe læseadgang til, uden at give adgang til de skemaer, hvor kildetabellerne ligger. \n",
                "\n",
                "Oprettelse, ændring og sletning af views sker gennem SQL Data Definition Language (DDL), mens læsning af dataindholdet i views sker gennem Data Manipulation Language (DML).\n",
                ""
            ],
            "metadata": {
                "azdata_cell_guid": "5ec4ce05-cedd-4245-84dd-7330bd5fa598"
            },
            "attachments": {}
        },
        {
            "cell_type": "code",
            "source": [
                "/* \n",
                "Eksempel på oprettelse, ændring og sletning af view.\n",
                " \n",
                "Bemærk, det er god stil, og nødvendigt i forbindelse med view-defintioner, at omslutte batches af\n",
                "  DDL-sætninger med GO-kommandoer.\n",
                "\n",
                "GO-kommandoen er en batch-separator, som fortolkes af SSMS/Azure Data Studio. GO-kommandoen\n",
                "  bevirker, at batchene sendes sekventielt til SQL Server (og afventes afviklet før næste batch\n",
                "  afsendes).\n",
                "*/\n",
                "\n",
                "--DDL:\n",
                "CREATE TABLE TableA (\n",
                "  Id int NOT NULL,\n",
                "  Val int NOT NULL\n",
                ");\n",
                "\n",
                "GO -- ikke strengt nødvendig\n",
                "\n",
                "--DML: \n",
                "INSERT INTO TableA (Id, Val)\n",
                "VALUES\n",
                "(1, 5), \n",
                "(2, 6);\n",
                "\n",
                "GO -- nødvendig\n",
                "\n",
                "--DDL:\n",
                "CREATE VIEW ViewA AS --CREATE OR ALTER VIEW ViewA AS\n",
                "SELECT * FROM TableA;\n",
                "\n",
                "GO -- nødvendig\n",
                "\n",
                "--DML:\n",
                "SELECT * FROM ViewA;\n",
                "\n",
                "GO -- nødvendig\n",
                "\n",
                "--DDL:\n",
                "ALTER VIEW ViewA AS --CREATE OR ALTER VIEW ViewA AS\n",
                "SELECT * FROM TableA \n",
                "WHERE Val>5;\n",
                "\n",
                "GO -- nødvendig\n",
                "\n",
                "--DML:\n",
                "SELECT * FROM ViewA;\n",
                "\n",
                "GO -- ikke strengt nødvendig\n",
                "\n",
                "--DDL:\n",
                "DROP TABLE TableA;\n",
                "DROP VIEW ViewA;"
            ],
            "metadata": {
                "azdata_cell_guid": "082e966b-5a8c-4543-9799-cb82776da4d6",
                "language": "sql"
            },
            "outputs": [],
            "execution_count": null
        },
        {
            "cell_type": "markdown",
            "source": [
                "## Andre typer views\r\n",
                "\r\n",
                "Ud over de almindelige, brugerdefinerede views findes der tre andre slags views i SQL Server:\r\n",
                "\r\n",
                "- Indekserede views\r\n",
                "- Partitionerede views\r\n",
                "- System views\r\n",
                "\r\n",
                "De **indekserede views** er materialiserede views, hvis resultat, ligesom tabeller, er gemt fysisk på disken. De indekserede views kan være smarte, idet man som udvikler kan *spare* et datalag (og en data load-proces) og opnå samme hurtige svartider på views, som man kan få på indekserede tabeller. Se [https://learn.microsoft.com/en-us/sql/relational-databases/views/create-indexed-views](https://learn.microsoft.com/en-us/sql/relational-databases/views/create-indexed-views).\r\n",
                "\r\n",
                "**Partitionerede views** er views, som samler data fra flere kilder på rækkebasis. Ofte vil man bruge dem til at samle data, som fysisk bor i forskellige databaser eller på forskellige databaseservere i et fælles referencepunkt. De partitionerede views er strengt taget almindelige, brugerdefinerede views med en særlig use case.\r\n",
                "\r\n",
                "```sql\r\n",
                "CREATE VIEW PartitionedView AS\r\n",
                "SELECT columns...\r\n",
                "FROM Srv1.Db1.Sch1.Table1\r\n",
                "UNION ALL\r\n",
                "SELECT columns...\r\n",
                "FROM Srv2.Db2.Sch2.Table2\r\n",
                "```\r\n",
                "\r\n",
                "**System views** giver adgang til metadata om database-server og databaser. I laboratoriet [Querying Metadata](Querying-metadata.ipynb) ses på mange af disse views, som SQL Server stiller til rådighed for os. \r\n",
                ""
            ],
            "metadata": {
                "azdata_cell_guid": "3f733b35-c28c-4e3e-b8c6-ddd966fbf9bd"
            },
            "attachments": {}
        },
        {
            "cell_type": "markdown",
            "source": [
                "### *Tid til opgaver...*\n",
                "\n",
                "Lav opgave 1, 2 og 3 i [opgavehæftet](Views.sql)."
            ],
            "metadata": {
                "language": "sql",
                "azdata_cell_guid": "ee1474ba-56ed-4575-88c3-8a8a56e2d88d"
            },
            "attachments": {}
        },
        {
            "cell_type": "markdown",
            "source": [
                "## Hovedpointer\n",
                "\n",
                "- Views er en måde at gemme og gøre et kompliceret script tilgængeligt for andre brugere, andre systemer eller dine egne dataflows\n",
                "- Views oprettes, ændres og slettes med Data Definition Language (DDL).\n",
                "- Når et view er oprettet, kan det bruges ligesom en tabel, men resolveres først på forespørgselstidspunktet\n",
                "- Brug views, når logik skal gemmes og stilles til rådighed\n",
                "- Men undgå at bruge views, når du ikke ønsker at gemme din logik og stille den til rådighed for andre. Brug i disse tilfælde CTE'er, derived tables eller subqueries...\n",
                ""
            ],
            "metadata": {
                "azdata_cell_guid": "c25aa37f-35e5-463a-8026-61c3e1841997"
            },
            "attachments": {}
        },
        {
            "cell_type": "markdown",
            "source": [
                "## Licens\n",
                "\n",
                "Creative Commons Attribution-ShareAlike 4.0 International (CC BY-SA 4.0)\n",
                "\n",
                "Mere info: [https://creativecommons.org/licenses/by-sa/4.0/](https://creativecommons.org/licenses/by-sa/4.0/)\n",
                "\n",
                "Du kan frit:\n",
                "\n",
                "- Dele: kopiere og distribuere materialet via ethvert medium og i ethvert format\n",
                "- Tilpasse: remixe, redigere og bygge på materialet til ethvert formål, selv erhvervsmæssigt\n",
                "\n",
                "Under følgende betingelser:\n",
                "\n",
                "- Kreditering: Du skal kreditere, dele et link til licensen og indikere om der er lavet ændringer.\n",
                "- Del på samme vilkår: Hvis du remixer, redigerer eller bygger på materialet, så skal dine bidrag\n",
                "  distribueres under samme licens som den originale.\n",
                ""
            ],
            "metadata": {
                "azdata_cell_guid": "73d8e98b-6665-40fb-a252-eb7829570885"
            },
            "attachments": {}
        }
    ]
}