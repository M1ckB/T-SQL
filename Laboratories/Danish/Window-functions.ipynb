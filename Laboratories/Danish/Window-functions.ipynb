{
    "metadata": {
        "kernelspec": {
            "name": "SQL",
            "display_name": "SQL",
            "language": "sql"
        },
        "language_info": {
            "name": "sql",
            "version": ""
        }
    },
    "nbformat_minor": 2,
    "nbformat": 4,
    "cells": [
        {
            "cell_type": "markdown",
            "source": [
                "# Window-funktioner\n",
                "\n",
                "> Udviklet af Thomas Lange & Mick Ahlmann Brun\n",
                "\n",
                "Mere info: [https://github.com/M1ckB/T-SQL](https://github.com/M1ckB/T-SQL)\n",
                "\n",
                "Version 1.0 2023-01-11\n",
                "\n",
                "Laboratoriet kræver:\n",
                "\n",
                "- En understøttet version af SQL Server\n",
                "- En Stack Overflow database: [Brent Ozar](https://www.BrentOzar.com/go/querystack) (medium)\n",
                "\n",
                "Læs mere om window-funktioner i Microsofts T-SQL reference:\n",
                "\n",
                "- [https://learn.microsoft.com/en-us/sql/t-sql/queries/select-over-clause-transact-sql?view=sql-server-ver16](https://learn.microsoft.com/en-us/sql/t-sql/queries/select-over-clause-transact-sql?view=sql-server-ver16)\n",
                ""
            ],
            "metadata": {
                "azdata_cell_guid": "bf2d15bc-0dae-4208-9431-406ec2701df1"
            },
            "attachments": {}
        },
        {
            "cell_type": "markdown",
            "source": [
                "## Indholdsfortegnelse\n",
                "\n",
                "- [Introduktion til window-funktioner](#Introduktion-til-window-funktioner)\n",
                "- [Opbygningen af window-funktioner](#Opbygningen-af-window-funktioner)\n",
                "- [Logisk processering af window-funktioner](#Logisk-processering-af-window-funktioner)\n",
                "- [Familier af window-funktioner](#Familier-af-window-funktioner)\n",
                "- [Hovedpointer](#Hovedpointer)"
            ],
            "metadata": {
                "azdata_cell_guid": "e22129e4-12f5-4c19-bb1d-47222fe6ce05"
            },
            "attachments": {}
        },
        {
            "cell_type": "markdown",
            "source": [
                "## Introduktion til window-funktioner\n",
                "\n",
                "*Windowing* bruges som et effektivt og fleksibelt værktøj til analytiske formål.\n",
                "\n",
                "**Window-funktioner er, i sin essens, nogle funktioner som for hver række laver en beregning over en mængde af rækker relateret til den aktuelle række.**\n",
                "\n",
                "Mængden af rækker som der laves en beregning henover, kaldes et vindue (*window*)\n",
                "\n",
                "Modsat vores grupperede forespørgsler, så kan vi med window-funktioner bevare detaljen. Derudover kan man også definere en orden i sin beregning.\n",
                "\n",
                "Use cases:\n",
                "\n",
                "- Beregning af `TOP N` per gruppe\n",
                "- Beregning af løbende totaler\n",
                "- Dublethåndtering\n",
                "- Beregning af overlap i intervaller\n",
                "- Identifikation af huller og øer\n",
                ""
            ],
            "metadata": {
                "azdata_cell_guid": "5ec4ce05-cedd-4245-84dd-7330bd5fa598"
            },
            "attachments": {}
        },
        {
            "cell_type": "code",
            "source": [
                "/* Nedenstående er et eksempel på hvordan windowing tillader aggregering, men samtidig kan\n",
                "bevare detaljen, modsat en grupperet forespørgsel */\n",
                "\n",
                "CREATE TABLE #TableA (\n",
                "    Id int NOT NULL,\n",
                "    Dat date NOT NULL,\n",
                "    Cat nvarchar(100) NOT NULL,\n",
                "    Val int NULL\n",
                ");\n",
                "\n",
                "INSERT INTO #TableA (Id, Dat, Cat, Val)\n",
                "VALUES\n",
                "(1, '20220101', 'A', 22), (2, '20000504', 'A', 5), (3, '20150205', 'A', 0),\n",
                "(4, '20101203', 'B', 14), (5, '20050824', 'B', 79), (6, '20220930', 'B', 100),\n",
                "(7, '20220315', 'B', 43), (8, '20210710', 'B', 43), (9, '20000504', 'C', 1),\n",
                "(10, '20221231', 'C', 112);\n",
                "\n",
                "SELECT\n",
                "    *\n",
                "FROM #TableA;\n",
                "\n",
                "/* En grupperet forespørgsel (hvor detaljen går tabt): */\n",
                "\n",
                "SELECT\n",
                "    Cat,\n",
                "    SUM(Val) AS TotalVal\n",
                "FROM #TableA\n",
                "GROUP BY Cat\n",
                "ORDER BY Cat;\n",
                "\n",
                "/* En forespørgsel der bruger windowing (hvor detaljen bevares): */\n",
                "\n",
                "SELECT\n",
                "    Id,\n",
                "    Dat,\n",
                "    Cat,\n",
                "    Val,\n",
                "    SUM(Val) OVER (PARTITION BY Cat) AS TotalVal,\n",
                "    1.0 * Val / SUM(Val) OVER (PARTITION BY Cat) AS PctVal\n",
                "FROM #TableA\n",
                "ORDER BY Cat, Dat, Id;\n",
                "\n",
                "/* Nedenstående er et eksempel på hvordan man med window-funktioner også kan definere orden,\n",
                "fx en rank */\n",
                "\n",
                "SELECT\n",
                "    Id,\n",
                "    Cat,\n",
                "    Val,\n",
                "    RANK() OVER (\n",
                "        PARTITION BY Cat\n",
                "        ORDER BY Val DESC\n",
                "    ) AS RankVal\n",
                "FROM #TableA\n",
                "ORDER BY Cat, Val DESC;\n",
                "\n",
                "DROP TABLE #TableA;\n",
                ""
            ],
            "metadata": {
                "azdata_cell_guid": "082e966b-5a8c-4543-9799-cb82776da4d6",
                "language": "sql",
                "tags": []
            },
            "outputs": [
                {
                    "output_type": "display_data",
                    "data": {
                        "text/html": "(10 rows affected)"
                    },
                    "metadata": {}
                },
                {
                    "output_type": "display_data",
                    "data": {
                        "text/html": "(10 rows affected)"
                    },
                    "metadata": {}
                },
                {
                    "output_type": "display_data",
                    "data": {
                        "text/html": "(3 rows affected)"
                    },
                    "metadata": {}
                },
                {
                    "output_type": "display_data",
                    "data": {
                        "text/html": "(10 rows affected)"
                    },
                    "metadata": {}
                },
                {
                    "output_type": "display_data",
                    "data": {
                        "text/html": "(10 rows affected)"
                    },
                    "metadata": {}
                },
                {
                    "output_type": "display_data",
                    "data": {
                        "text/html": "Total execution time: 00:00:00.045"
                    },
                    "metadata": {}
                },
                {
                    "output_type": "execute_result",
                    "execution_count": 1,
                    "data": {
                        "application/vnd.dataresource+json": {
                            "schema": {
                                "fields": [
                                    {
                                        "name": "Id"
                                    },
                                    {
                                        "name": "Dat"
                                    },
                                    {
                                        "name": "Cat"
                                    },
                                    {
                                        "name": "Val"
                                    }
                                ]
                            },
                            "data": [
                                {
                                    "0": "1",
                                    "1": "2022-01-01",
                                    "2": "A",
                                    "3": "22"
                                },
                                {
                                    "0": "2",
                                    "1": "2000-05-04",
                                    "2": "A",
                                    "3": "5"
                                },
                                {
                                    "0": "3",
                                    "1": "2015-02-05",
                                    "2": "A",
                                    "3": "0"
                                },
                                {
                                    "0": "4",
                                    "1": "2010-12-03",
                                    "2": "B",
                                    "3": "14"
                                },
                                {
                                    "0": "5",
                                    "1": "2005-08-24",
                                    "2": "B",
                                    "3": "79"
                                },
                                {
                                    "0": "6",
                                    "1": "2022-09-30",
                                    "2": "B",
                                    "3": "100"
                                },
                                {
                                    "0": "7",
                                    "1": "2022-03-15",
                                    "2": "B",
                                    "3": "43"
                                },
                                {
                                    "0": "8",
                                    "1": "2021-07-10",
                                    "2": "B",
                                    "3": "43"
                                },
                                {
                                    "0": "9",
                                    "1": "2000-05-04",
                                    "2": "C",
                                    "3": "1"
                                },
                                {
                                    "0": "10",
                                    "1": "2022-12-31",
                                    "2": "C",
                                    "3": "112"
                                }
                            ]
                        },
                        "text/html": "<table><tr><th>Id</th><th>Dat</th><th>Cat</th><th>Val</th></tr><tr><td>1</td><td>2022-01-01</td><td>A</td><td>22</td></tr><tr><td>2</td><td>2000-05-04</td><td>A</td><td>5</td></tr><tr><td>3</td><td>2015-02-05</td><td>A</td><td>0</td></tr><tr><td>4</td><td>2010-12-03</td><td>B</td><td>14</td></tr><tr><td>5</td><td>2005-08-24</td><td>B</td><td>79</td></tr><tr><td>6</td><td>2022-09-30</td><td>B</td><td>100</td></tr><tr><td>7</td><td>2022-03-15</td><td>B</td><td>43</td></tr><tr><td>8</td><td>2021-07-10</td><td>B</td><td>43</td></tr><tr><td>9</td><td>2000-05-04</td><td>C</td><td>1</td></tr><tr><td>10</td><td>2022-12-31</td><td>C</td><td>112</td></tr></table>"
                    },
                    "metadata": {}
                },
                {
                    "output_type": "execute_result",
                    "execution_count": 1,
                    "data": {
                        "application/vnd.dataresource+json": {
                            "schema": {
                                "fields": [
                                    {
                                        "name": "Cat"
                                    },
                                    {
                                        "name": "TotalVal"
                                    }
                                ]
                            },
                            "data": [
                                {
                                    "0": "A",
                                    "1": "27"
                                },
                                {
                                    "0": "B",
                                    "1": "279"
                                },
                                {
                                    "0": "C",
                                    "1": "113"
                                }
                            ]
                        },
                        "text/html": "<table><tr><th>Cat</th><th>TotalVal</th></tr><tr><td>A</td><td>27</td></tr><tr><td>B</td><td>279</td></tr><tr><td>C</td><td>113</td></tr></table>"
                    },
                    "metadata": {}
                },
                {
                    "output_type": "execute_result",
                    "execution_count": 1,
                    "data": {
                        "application/vnd.dataresource+json": {
                            "schema": {
                                "fields": [
                                    {
                                        "name": "Id"
                                    },
                                    {
                                        "name": "Dat"
                                    },
                                    {
                                        "name": "Cat"
                                    },
                                    {
                                        "name": "Val"
                                    },
                                    {
                                        "name": "TotalVal"
                                    },
                                    {
                                        "name": "PctVal"
                                    }
                                ]
                            },
                            "data": [
                                {
                                    "0": "2",
                                    "1": "2000-05-04",
                                    "2": "A",
                                    "3": "5",
                                    "4": "27",
                                    "5": "0.185185185185"
                                },
                                {
                                    "0": "3",
                                    "1": "2015-02-05",
                                    "2": "A",
                                    "3": "0",
                                    "4": "27",
                                    "5": "0.000000000000"
                                },
                                {
                                    "0": "1",
                                    "1": "2022-01-01",
                                    "2": "A",
                                    "3": "22",
                                    "4": "27",
                                    "5": "0.814814814814"
                                },
                                {
                                    "0": "5",
                                    "1": "2005-08-24",
                                    "2": "B",
                                    "3": "79",
                                    "4": "279",
                                    "5": "0.283154121863"
                                },
                                {
                                    "0": "4",
                                    "1": "2010-12-03",
                                    "2": "B",
                                    "3": "14",
                                    "4": "279",
                                    "5": "0.050179211469"
                                },
                                {
                                    "0": "8",
                                    "1": "2021-07-10",
                                    "2": "B",
                                    "3": "43",
                                    "4": "279",
                                    "5": "0.154121863799"
                                },
                                {
                                    "0": "7",
                                    "1": "2022-03-15",
                                    "2": "B",
                                    "3": "43",
                                    "4": "279",
                                    "5": "0.154121863799"
                                },
                                {
                                    "0": "6",
                                    "1": "2022-09-30",
                                    "2": "B",
                                    "3": "100",
                                    "4": "279",
                                    "5": "0.358422939068"
                                },
                                {
                                    "0": "9",
                                    "1": "2000-05-04",
                                    "2": "C",
                                    "3": "1",
                                    "4": "113",
                                    "5": "0.008849557522"
                                },
                                {
                                    "0": "10",
                                    "1": "2022-12-31",
                                    "2": "C",
                                    "3": "112",
                                    "4": "113",
                                    "5": "0.991150442477"
                                }
                            ]
                        },
                        "text/html": "<table><tr><th>Id</th><th>Dat</th><th>Cat</th><th>Val</th><th>TotalVal</th><th>PctVal</th></tr><tr><td>2</td><td>2000-05-04</td><td>A</td><td>5</td><td>27</td><td>0.185185185185</td></tr><tr><td>3</td><td>2015-02-05</td><td>A</td><td>0</td><td>27</td><td>0.000000000000</td></tr><tr><td>1</td><td>2022-01-01</td><td>A</td><td>22</td><td>27</td><td>0.814814814814</td></tr><tr><td>5</td><td>2005-08-24</td><td>B</td><td>79</td><td>279</td><td>0.283154121863</td></tr><tr><td>4</td><td>2010-12-03</td><td>B</td><td>14</td><td>279</td><td>0.050179211469</td></tr><tr><td>8</td><td>2021-07-10</td><td>B</td><td>43</td><td>279</td><td>0.154121863799</td></tr><tr><td>7</td><td>2022-03-15</td><td>B</td><td>43</td><td>279</td><td>0.154121863799</td></tr><tr><td>6</td><td>2022-09-30</td><td>B</td><td>100</td><td>279</td><td>0.358422939068</td></tr><tr><td>9</td><td>2000-05-04</td><td>C</td><td>1</td><td>113</td><td>0.008849557522</td></tr><tr><td>10</td><td>2022-12-31</td><td>C</td><td>112</td><td>113</td><td>0.991150442477</td></tr></table>"
                    },
                    "metadata": {}
                },
                {
                    "output_type": "execute_result",
                    "execution_count": 1,
                    "data": {
                        "application/vnd.dataresource+json": {
                            "schema": {
                                "fields": [
                                    {
                                        "name": "Id"
                                    },
                                    {
                                        "name": "Cat"
                                    },
                                    {
                                        "name": "Val"
                                    },
                                    {
                                        "name": "RankVal"
                                    }
                                ]
                            },
                            "data": [
                                {
                                    "0": "1",
                                    "1": "A",
                                    "2": "22",
                                    "3": "1"
                                },
                                {
                                    "0": "2",
                                    "1": "A",
                                    "2": "5",
                                    "3": "2"
                                },
                                {
                                    "0": "3",
                                    "1": "A",
                                    "2": "0",
                                    "3": "3"
                                },
                                {
                                    "0": "6",
                                    "1": "B",
                                    "2": "100",
                                    "3": "1"
                                },
                                {
                                    "0": "5",
                                    "1": "B",
                                    "2": "79",
                                    "3": "2"
                                },
                                {
                                    "0": "7",
                                    "1": "B",
                                    "2": "43",
                                    "3": "3"
                                },
                                {
                                    "0": "8",
                                    "1": "B",
                                    "2": "43",
                                    "3": "3"
                                },
                                {
                                    "0": "4",
                                    "1": "B",
                                    "2": "14",
                                    "3": "5"
                                },
                                {
                                    "0": "10",
                                    "1": "C",
                                    "2": "112",
                                    "3": "1"
                                },
                                {
                                    "0": "9",
                                    "1": "C",
                                    "2": "1",
                                    "3": "2"
                                }
                            ]
                        },
                        "text/html": "<table><tr><th>Id</th><th>Cat</th><th>Val</th><th>RankVal</th></tr><tr><td>1</td><td>A</td><td>22</td><td>1</td></tr><tr><td>2</td><td>A</td><td>5</td><td>2</td></tr><tr><td>3</td><td>A</td><td>0</td><td>3</td></tr><tr><td>6</td><td>B</td><td>100</td><td>1</td></tr><tr><td>5</td><td>B</td><td>79</td><td>2</td></tr><tr><td>7</td><td>B</td><td>43</td><td>3</td></tr><tr><td>8</td><td>B</td><td>43</td><td>3</td></tr><tr><td>4</td><td>B</td><td>14</td><td>5</td></tr><tr><td>10</td><td>C</td><td>112</td><td>1</td></tr><tr><td>9</td><td>C</td><td>1</td><td>2</td></tr></table>"
                    },
                    "metadata": {}
                }
            ],
            "execution_count": 1
        },
        {
            "cell_type": "markdown",
            "source": [
                "### *Tid til opgaver...*\n",
                "\n",
                "Lav opgave 1 og 2 i [opgavehæftet](Window-functions.sql).\n",
                ""
            ],
            "metadata": {
                "language": "sql",
                "azdata_cell_guid": "ee1474ba-56ed-4575-88c3-8a8a56e2d88d"
            },
            "attachments": {}
        },
        {
            "cell_type": "markdown",
            "source": [
                "## Opbygningen af window-funktioner\n",
                "\n",
                "Window-funktioner er overordnet opbygget af to elementer:\n",
                "\n",
                "1. Funktionen, eller beregningen, som ønskes foretaget, fx `COUNT()`, `RANK()` eller `FIRST_VALUE()`\n",
                "2. Specifikationen af selve vinduet i `OVER`-delsætningen\n",
                "\n",
                "En window-funktion har følgende form:\n",
                "\n",
                "```sql\n",
                "SELECT\n",
                "    <funktion> OVER (\n",
                "        PARTITION BY <opdelingskolonner>\n",
                "        ORDER BY <sorteringskolonner>\n",
                "        ROWS/RANGE BETWEEN <øvre grænse> AND <nedre grænse>\n",
                "    ) AS Beregning\n",
                "```\n",
                "\n",
                "`OVER`-delsætningen giver følgende muligheder for at specificere vinduet:\n",
                "\n",
                "- *Partitioning*: Bruges til at opdele forespørgslen i grupper som beregningen foretages for. Hvis ikke denne angives, så laves beregningen for hele forespørgslen\n",
                "- *Ordering*: Bruges til at bestemme ordenen som rækker evalueres i inden for en window-frame\n",
                "- *Framing*: Bruges til udvælge en delmængde af rækker inden for en window-partiton\n",
                "\n",
                "Bemærk, at ikke alle muligheder kan tages i brug for alle funktioner.\n",
                ""
            ],
            "metadata": {
                "language": "sql",
                "azdata_cell_guid": "7c70b75e-8b1d-4385-8d6c-4da11176514b"
            },
            "attachments": {}
        },
        {
            "cell_type": "code",
            "source": [
                "/* Nedenstående er et eksempel på brugen af en window-funktion, specifikt hvorledes resultatet\n",
                "ændres når specifikationen af vinduet ændres */\n",
                "\n",
                "CREATE TABLE #TableA (\n",
                "    Id int NOT NULL,\n",
                "    Dat date NOT NULL,\n",
                "    Cat nvarchar(100) NOT NULL,\n",
                "    Val int NULL\n",
                ");\n",
                "\n",
                "INSERT INTO #TableA (Id, Dat, Cat, Val)\n",
                "VALUES\n",
                "(1, '20220101', 'A', 22), (2, '20000504', 'A', 5), (3, '20150205', 'A', 0),\n",
                "(4, '20101203', 'B', 14), (5, '20050824', 'B', 79), (6, '20220930', 'B', 100),\n",
                "(7, '20220315', 'B', 43), (8, '20210710', 'B', 43), (9, '20000504', 'C', 1),\n",
                "(10, '20221231', 'C', 112);\n",
                "\n",
                "SELECT\n",
                "    *\n",
                "FROM #TableA;\n",
                "\n",
                "/* Prøv at udskifte den aktuelle ORDER BY-delsætning med den udkommenterede. Hvorledes ændres\n",
                "resultatet? */\n",
                "\n",
                "SELECT\n",
                "    Id,\n",
                "    Cat,\n",
                "    Dat,\n",
                "    Val,\n",
                "    ROW_NUMBER() OVER (\n",
                "        PARTITION BY Cat\n",
                "        ORDER BY Dat, Id\n",
                "        --ORDER BY Dat DESC, Id DESC\n",
                "    ) AS RowNum\n",
                "FROM #TableA\n",
                "ORDER BY Cat, Dat, Id;\n",
                "\n",
                "/* Nedenstående er et eksempel på en løbende total. Der er en implicit window-frame:\n",
                "RANGE BETWEEN UNBOUNDED PRECEDING AND CURRENT ROW */\n",
                "\n",
                "/* Hvad sker der hvis du ændrer window-framen ved indkommentere kommentaren markeret med -- ? */\n",
                "\n",
                "SELECT\n",
                "    Id,\n",
                "    Cat,\n",
                "    Dat,\n",
                "    Val,\n",
                "    SUM(Val) OVER (\n",
                "        PARTITION BY Cat\n",
                "        ORDER BY Dat, Id\n",
                "        /*RANGE BETWEEN UNBOUNDED PRECEDING AND CURRENT ROW*/\n",
                "        --ROWS BETWEEN 2 PRECEDING AND CURRENT ROW\n",
                "    ) AS RunningTotalVal\n",
                "FROM #TableA\n",
                "ORDER BY Cat, Dat, Id;\n",
                "\n",
                "DROP TABLE #TableA;"
            ],
            "metadata": {
                "language": "sql",
                "azdata_cell_guid": "66960aa8-000d-4739-b310-257e50ec93da",
                "tags": []
            },
            "outputs": [
                {
                    "output_type": "display_data",
                    "data": {
                        "text/html": "(10 rows affected)"
                    },
                    "metadata": {}
                },
                {
                    "output_type": "display_data",
                    "data": {
                        "text/html": "(10 rows affected)"
                    },
                    "metadata": {}
                },
                {
                    "output_type": "display_data",
                    "data": {
                        "text/html": "(10 rows affected)"
                    },
                    "metadata": {}
                },
                {
                    "output_type": "display_data",
                    "data": {
                        "text/html": "(10 rows affected)"
                    },
                    "metadata": {}
                },
                {
                    "output_type": "display_data",
                    "data": {
                        "text/html": "Total execution time: 00:00:00.054"
                    },
                    "metadata": {}
                },
                {
                    "output_type": "execute_result",
                    "execution_count": 2,
                    "data": {
                        "application/vnd.dataresource+json": {
                            "schema": {
                                "fields": [
                                    {
                                        "name": "Id"
                                    },
                                    {
                                        "name": "Dat"
                                    },
                                    {
                                        "name": "Cat"
                                    },
                                    {
                                        "name": "Val"
                                    }
                                ]
                            },
                            "data": [
                                {
                                    "0": "1",
                                    "1": "2022-01-01",
                                    "2": "A",
                                    "3": "22"
                                },
                                {
                                    "0": "2",
                                    "1": "2000-05-04",
                                    "2": "A",
                                    "3": "5"
                                },
                                {
                                    "0": "3",
                                    "1": "2015-02-05",
                                    "2": "A",
                                    "3": "0"
                                },
                                {
                                    "0": "4",
                                    "1": "2010-12-03",
                                    "2": "B",
                                    "3": "14"
                                },
                                {
                                    "0": "5",
                                    "1": "2005-08-24",
                                    "2": "B",
                                    "3": "79"
                                },
                                {
                                    "0": "6",
                                    "1": "2022-09-30",
                                    "2": "B",
                                    "3": "100"
                                },
                                {
                                    "0": "7",
                                    "1": "2022-03-15",
                                    "2": "B",
                                    "3": "43"
                                },
                                {
                                    "0": "8",
                                    "1": "2021-07-10",
                                    "2": "B",
                                    "3": "43"
                                },
                                {
                                    "0": "9",
                                    "1": "2000-05-04",
                                    "2": "C",
                                    "3": "1"
                                },
                                {
                                    "0": "10",
                                    "1": "2022-12-31",
                                    "2": "C",
                                    "3": "112"
                                }
                            ]
                        },
                        "text/html": "<table><tr><th>Id</th><th>Dat</th><th>Cat</th><th>Val</th></tr><tr><td>1</td><td>2022-01-01</td><td>A</td><td>22</td></tr><tr><td>2</td><td>2000-05-04</td><td>A</td><td>5</td></tr><tr><td>3</td><td>2015-02-05</td><td>A</td><td>0</td></tr><tr><td>4</td><td>2010-12-03</td><td>B</td><td>14</td></tr><tr><td>5</td><td>2005-08-24</td><td>B</td><td>79</td></tr><tr><td>6</td><td>2022-09-30</td><td>B</td><td>100</td></tr><tr><td>7</td><td>2022-03-15</td><td>B</td><td>43</td></tr><tr><td>8</td><td>2021-07-10</td><td>B</td><td>43</td></tr><tr><td>9</td><td>2000-05-04</td><td>C</td><td>1</td></tr><tr><td>10</td><td>2022-12-31</td><td>C</td><td>112</td></tr></table>"
                    },
                    "metadata": {}
                },
                {
                    "output_type": "execute_result",
                    "execution_count": 2,
                    "data": {
                        "application/vnd.dataresource+json": {
                            "schema": {
                                "fields": [
                                    {
                                        "name": "Id"
                                    },
                                    {
                                        "name": "Cat"
                                    },
                                    {
                                        "name": "Dat"
                                    },
                                    {
                                        "name": "Val"
                                    },
                                    {
                                        "name": "RowNum"
                                    }
                                ]
                            },
                            "data": [
                                {
                                    "0": "2",
                                    "1": "A",
                                    "2": "2000-05-04",
                                    "3": "5",
                                    "4": "1"
                                },
                                {
                                    "0": "3",
                                    "1": "A",
                                    "2": "2015-02-05",
                                    "3": "0",
                                    "4": "2"
                                },
                                {
                                    "0": "1",
                                    "1": "A",
                                    "2": "2022-01-01",
                                    "3": "22",
                                    "4": "3"
                                },
                                {
                                    "0": "5",
                                    "1": "B",
                                    "2": "2005-08-24",
                                    "3": "79",
                                    "4": "1"
                                },
                                {
                                    "0": "4",
                                    "1": "B",
                                    "2": "2010-12-03",
                                    "3": "14",
                                    "4": "2"
                                },
                                {
                                    "0": "8",
                                    "1": "B",
                                    "2": "2021-07-10",
                                    "3": "43",
                                    "4": "3"
                                },
                                {
                                    "0": "7",
                                    "1": "B",
                                    "2": "2022-03-15",
                                    "3": "43",
                                    "4": "4"
                                },
                                {
                                    "0": "6",
                                    "1": "B",
                                    "2": "2022-09-30",
                                    "3": "100",
                                    "4": "5"
                                },
                                {
                                    "0": "9",
                                    "1": "C",
                                    "2": "2000-05-04",
                                    "3": "1",
                                    "4": "1"
                                },
                                {
                                    "0": "10",
                                    "1": "C",
                                    "2": "2022-12-31",
                                    "3": "112",
                                    "4": "2"
                                }
                            ]
                        },
                        "text/html": "<table><tr><th>Id</th><th>Cat</th><th>Dat</th><th>Val</th><th>RowNum</th></tr><tr><td>2</td><td>A</td><td>2000-05-04</td><td>5</td><td>1</td></tr><tr><td>3</td><td>A</td><td>2015-02-05</td><td>0</td><td>2</td></tr><tr><td>1</td><td>A</td><td>2022-01-01</td><td>22</td><td>3</td></tr><tr><td>5</td><td>B</td><td>2005-08-24</td><td>79</td><td>1</td></tr><tr><td>4</td><td>B</td><td>2010-12-03</td><td>14</td><td>2</td></tr><tr><td>8</td><td>B</td><td>2021-07-10</td><td>43</td><td>3</td></tr><tr><td>7</td><td>B</td><td>2022-03-15</td><td>43</td><td>4</td></tr><tr><td>6</td><td>B</td><td>2022-09-30</td><td>100</td><td>5</td></tr><tr><td>9</td><td>C</td><td>2000-05-04</td><td>1</td><td>1</td></tr><tr><td>10</td><td>C</td><td>2022-12-31</td><td>112</td><td>2</td></tr></table>"
                    },
                    "metadata": {}
                },
                {
                    "output_type": "execute_result",
                    "execution_count": 2,
                    "data": {
                        "application/vnd.dataresource+json": {
                            "schema": {
                                "fields": [
                                    {
                                        "name": "Id"
                                    },
                                    {
                                        "name": "Cat"
                                    },
                                    {
                                        "name": "Dat"
                                    },
                                    {
                                        "name": "Val"
                                    },
                                    {
                                        "name": "RunningTotalVal"
                                    }
                                ]
                            },
                            "data": [
                                {
                                    "0": "2",
                                    "1": "A",
                                    "2": "2000-05-04",
                                    "3": "5",
                                    "4": "5"
                                },
                                {
                                    "0": "3",
                                    "1": "A",
                                    "2": "2015-02-05",
                                    "3": "0",
                                    "4": "5"
                                },
                                {
                                    "0": "1",
                                    "1": "A",
                                    "2": "2022-01-01",
                                    "3": "22",
                                    "4": "27"
                                },
                                {
                                    "0": "5",
                                    "1": "B",
                                    "2": "2005-08-24",
                                    "3": "79",
                                    "4": "79"
                                },
                                {
                                    "0": "4",
                                    "1": "B",
                                    "2": "2010-12-03",
                                    "3": "14",
                                    "4": "93"
                                },
                                {
                                    "0": "8",
                                    "1": "B",
                                    "2": "2021-07-10",
                                    "3": "43",
                                    "4": "136"
                                },
                                {
                                    "0": "7",
                                    "1": "B",
                                    "2": "2022-03-15",
                                    "3": "43",
                                    "4": "179"
                                },
                                {
                                    "0": "6",
                                    "1": "B",
                                    "2": "2022-09-30",
                                    "3": "100",
                                    "4": "279"
                                },
                                {
                                    "0": "9",
                                    "1": "C",
                                    "2": "2000-05-04",
                                    "3": "1",
                                    "4": "1"
                                },
                                {
                                    "0": "10",
                                    "1": "C",
                                    "2": "2022-12-31",
                                    "3": "112",
                                    "4": "113"
                                }
                            ]
                        },
                        "text/html": "<table><tr><th>Id</th><th>Cat</th><th>Dat</th><th>Val</th><th>RunningTotalVal</th></tr><tr><td>2</td><td>A</td><td>2000-05-04</td><td>5</td><td>5</td></tr><tr><td>3</td><td>A</td><td>2015-02-05</td><td>0</td><td>5</td></tr><tr><td>1</td><td>A</td><td>2022-01-01</td><td>22</td><td>27</td></tr><tr><td>5</td><td>B</td><td>2005-08-24</td><td>79</td><td>79</td></tr><tr><td>4</td><td>B</td><td>2010-12-03</td><td>14</td><td>93</td></tr><tr><td>8</td><td>B</td><td>2021-07-10</td><td>43</td><td>136</td></tr><tr><td>7</td><td>B</td><td>2022-03-15</td><td>43</td><td>179</td></tr><tr><td>6</td><td>B</td><td>2022-09-30</td><td>100</td><td>279</td></tr><tr><td>9</td><td>C</td><td>2000-05-04</td><td>1</td><td>1</td></tr><tr><td>10</td><td>C</td><td>2022-12-31</td><td>112</td><td>113</td></tr></table>"
                    },
                    "metadata": {}
                }
            ],
            "execution_count": 2
        },
        {
            "cell_type": "markdown",
            "source": [
                "### *Tid til opgaver...*\n",
                "\n",
                "Lav opgave 3 i [opgavehæftet](Window-functions.sql).\n",
                ""
            ],
            "metadata": {
                "language": "sql",
                "azdata_cell_guid": "a1b54e52-97b0-48ae-96d1-7c6466ca2df0"
            },
            "attachments": {}
        },
        {
            "cell_type": "markdown",
            "source": [
                "## Logisk processering af window-funktioner\n",
                "\n",
                "I vores logiske processering af en forespørgsel evalueres window-funktioner på følgende trin (markeret med fed):\n",
                "\n",
                "1. `FROM`\n",
                "2. `WHERE`\n",
                "3. `GROUP BY`\n",
                "4. `HAVING`\n",
                "5. `SELECT`\n",
                "   1. **Evaluering af udtryk**\n",
                "   2. Fjernelse af dubletter\n",
                "6. **`ORDER BY`**\n",
                "7. `OFFSET-FETCH`/`TOP`\n",
                "\n",
                "Dvs. i udgangspunktet understøttes window-funktioner udelukkende i `SELECT`- og `ORDER BY`-delsætningerne. Denne begrænsning skal sikre entydighed omkring hvilken underliggende tabel der laves beregninger på.\n",
                "\n",
                "Hvis vi ønsker at bruge window-funktioner i andre delsætninger, så bliver vi nødt til at lave beregninger trinvist.\n",
                ""
            ],
            "metadata": {
                "language": "sql",
                "azdata_cell_guid": "5dc8205f-dc4e-4576-a067-eaf1b8fd8e8c"
            },
            "attachments": {}
        },
        {
            "cell_type": "code",
            "source": [
                "/* Nedenstående er nogle eksempler hvor vigtigheden af window-funktioners placering i den\n",
                "logiske processering understreges */\n",
                "\n",
                "CREATE TABLE #TableA (\n",
                "    Id int NOT NULL,\n",
                "    Col date NOT NULL\n",
                ");\n",
                "\n",
                "INSERT INTO #TableA (Id, Col)\n",
                "VALUES\n",
                "(1, '20220502'), (2, '20220314'), (3, '20230101'), (4, '20220314'), (5, '20220630');\n",
                "\n",
                "SELECT\n",
                "    *\n",
                "FROM #TableA;\n",
                "\n",
                "/* Placer window-funktionen i forskellige delsætninger ved at indkommentere linjerne en ad gangen.\n",
                "Virker alt i overensstemmelse med den logiske processering? */\n",
                "\n",
                "SELECT\n",
                "    Id,\n",
                "    Col,\n",
                "    ROW_NUMBER() OVER (ORDER BY Col, Id) AS RowNum\n",
                "FROM #TableA\n",
                "--WHERE ROW_NUMBER() OVER (ORDER BY Col, Id) = 1\n",
                "--ORDER BY ROW_NUMBER() OVER (ORDER BY Col, Id)\n",
                ";\n",
                "GO\n",
                "\n",
                "/* Hvorfor er det mon problematisk hvis window-funktionen kunne placeres i fx WHERE-delsætningen? */\n",
                "\n",
                "/* Et tænkt eksempel:\n",
                "Hvad vil forespørgslen nedenfor returnere? 3 eller 3 og 5?\n",
                "Og hvad hvis du skiftede den aktuelle WHERE-delsætning ud med den udkommenterde?\n",
                "Husk på princippet om all-at-once operationer!\n",
                "Det ville være forvirrende, ikke? */\n",
                "\n",
                "SELECT\n",
                "    Id\n",
                "FROM #TableA\n",
                "WHERE Col > '20220501'\n",
                "    AND ROW_NUMBER() OVER (ORDER BY Col, Id) > 2\n",
                "--WHERE ROW_NUMBER() OVER (ORDER BY Col, Id) > 2\n",
                "--    AND Col > '20220501'\n",
                ";\n",
                "GO\n",
                "\n",
                "/* Kan du gætte resultatet af nedenstående query? Virker det i overensstemmelse med\n",
                "den logiske processering? */\n",
                "\n",
                "SELECT DISTINCT\n",
                "    Col,\n",
                "    ROW_NUMBER() OVER(ORDER BY Col) AS RowNum\n",
                "FROM #TableA\n",
                "ORDER BY Col;\n",
                "\n",
                "/* Hvordan kan vi komme uden om begrænsingen forårsaget af den logiske query processering?\n",
                "Fx kan en CTE benyttes. */\n",
                "\n",
                "WITH CTE AS (\n",
                "    SELECT\n",
                "        Id,\n",
                "        Col,\n",
                "        ROW_NUMBER() OVER(ORDER BY Col, Id) AS RowNum\n",
                "    FROM #TableA\n",
                ")\n",
                "\n",
                "SELECT\n",
                "    *\n",
                "FROM CTE\n",
                "WHERE RowNum > 2;\n",
                "\n",
                "DROP TABLE #TableA;"
            ],
            "metadata": {
                "language": "sql",
                "azdata_cell_guid": "bd4c1e69-2863-4f4b-b670-c88debf75a4b",
                "tags": []
            },
            "outputs": [
                {
                    "output_type": "display_data",
                    "data": {
                        "text/html": "(5 rows affected)"
                    },
                    "metadata": {}
                },
                {
                    "output_type": "display_data",
                    "data": {
                        "text/html": "(5 rows affected)"
                    },
                    "metadata": {}
                },
                {
                    "output_type": "display_data",
                    "data": {
                        "text/html": "(5 rows affected)"
                    },
                    "metadata": {}
                },
                {
                    "output_type": "display_data",
                    "data": {
                        "text/html": "(5 rows affected)"
                    },
                    "metadata": {}
                },
                {
                    "output_type": "display_data",
                    "data": {
                        "text/html": "(3 rows affected)"
                    },
                    "metadata": {}
                },
                {
                    "output_type": "display_data",
                    "data": {
                        "text/html": "Total execution time: 00:00:00.029"
                    },
                    "metadata": {}
                },
                {
                    "output_type": "execute_result",
                    "metadata": {},
                    "execution_count": 1,
                    "data": {
                        "application/vnd.dataresource+json": {
                            "schema": {
                                "fields": [
                                    {
                                        "name": "Id"
                                    },
                                    {
                                        "name": "Col"
                                    }
                                ]
                            },
                            "data": [
                                {
                                    "0": "1",
                                    "1": "2022-05-02"
                                },
                                {
                                    "0": "2",
                                    "1": "2022-03-14"
                                },
                                {
                                    "0": "3",
                                    "1": "2023-01-01"
                                },
                                {
                                    "0": "4",
                                    "1": "2022-03-14"
                                },
                                {
                                    "0": "5",
                                    "1": "2022-06-30"
                                }
                            ]
                        },
                        "text/html": [
                            "<table>",
                            "<tr><th>Id</th><th>Col</th></tr>",
                            "<tr><td>1</td><td>2022-05-02</td></tr>",
                            "<tr><td>2</td><td>2022-03-14</td></tr>",
                            "<tr><td>3</td><td>2023-01-01</td></tr>",
                            "<tr><td>4</td><td>2022-03-14</td></tr>",
                            "<tr><td>5</td><td>2022-06-30</td></tr>",
                            "</table>"
                        ]
                    }
                },
                {
                    "output_type": "execute_result",
                    "metadata": {},
                    "execution_count": 1,
                    "data": {
                        "application/vnd.dataresource+json": {
                            "schema": {
                                "fields": [
                                    {
                                        "name": "Id"
                                    },
                                    {
                                        "name": "Col"
                                    },
                                    {
                                        "name": "RowNum"
                                    }
                                ]
                            },
                            "data": [
                                {
                                    "0": "2",
                                    "1": "2022-03-14",
                                    "2": "1"
                                },
                                {
                                    "0": "4",
                                    "1": "2022-03-14",
                                    "2": "2"
                                },
                                {
                                    "0": "1",
                                    "1": "2022-05-02",
                                    "2": "3"
                                },
                                {
                                    "0": "5",
                                    "1": "2022-06-30",
                                    "2": "4"
                                },
                                {
                                    "0": "3",
                                    "1": "2023-01-01",
                                    "2": "5"
                                }
                            ]
                        },
                        "text/html": [
                            "<table>",
                            "<tr><th>Id</th><th>Col</th><th>RowNum</th></tr>",
                            "<tr><td>2</td><td>2022-03-14</td><td>1</td></tr>",
                            "<tr><td>4</td><td>2022-03-14</td><td>2</td></tr>",
                            "<tr><td>1</td><td>2022-05-02</td><td>3</td></tr>",
                            "<tr><td>5</td><td>2022-06-30</td><td>4</td></tr>",
                            "<tr><td>3</td><td>2023-01-01</td><td>5</td></tr>",
                            "</table>"
                        ]
                    }
                },
                {
                    "output_type": "error",
                    "evalue": "Msg 4108, Level 15, State 1, Line 42\nWindowed functions can only appear in the SELECT or ORDER BY clauses.",
                    "ename": "",
                    "traceback": []
                },
                {
                    "output_type": "execute_result",
                    "metadata": {},
                    "execution_count": 1,
                    "data": {
                        "application/vnd.dataresource+json": {
                            "schema": {
                                "fields": [
                                    {
                                        "name": "Col"
                                    },
                                    {
                                        "name": "RowNum"
                                    }
                                ]
                            },
                            "data": [
                                {
                                    "0": "2022-03-14",
                                    "1": "1"
                                },
                                {
                                    "0": "2022-03-14",
                                    "1": "2"
                                },
                                {
                                    "0": "2022-05-02",
                                    "1": "3"
                                },
                                {
                                    "0": "2022-06-30",
                                    "1": "4"
                                },
                                {
                                    "0": "2023-01-01",
                                    "1": "5"
                                }
                            ]
                        },
                        "text/html": [
                            "<table>",
                            "<tr><th>Col</th><th>RowNum</th></tr>",
                            "<tr><td>2022-03-14</td><td>1</td></tr>",
                            "<tr><td>2022-03-14</td><td>2</td></tr>",
                            "<tr><td>2022-05-02</td><td>3</td></tr>",
                            "<tr><td>2022-06-30</td><td>4</td></tr>",
                            "<tr><td>2023-01-01</td><td>5</td></tr>",
                            "</table>"
                        ]
                    }
                },
                {
                    "output_type": "execute_result",
                    "metadata": {},
                    "execution_count": 1,
                    "data": {
                        "application/vnd.dataresource+json": {
                            "schema": {
                                "fields": [
                                    {
                                        "name": "Id"
                                    },
                                    {
                                        "name": "Col"
                                    },
                                    {
                                        "name": "RowNum"
                                    }
                                ]
                            },
                            "data": [
                                {
                                    "0": "1",
                                    "1": "2022-05-02",
                                    "2": "3"
                                },
                                {
                                    "0": "5",
                                    "1": "2022-06-30",
                                    "2": "4"
                                },
                                {
                                    "0": "3",
                                    "1": "2023-01-01",
                                    "2": "5"
                                }
                            ]
                        },
                        "text/html": [
                            "<table>",
                            "<tr><th>Id</th><th>Col</th><th>RowNum</th></tr>",
                            "<tr><td>1</td><td>2022-05-02</td><td>3</td></tr>",
                            "<tr><td>5</td><td>2022-06-30</td><td>4</td></tr>",
                            "<tr><td>3</td><td>2023-01-01</td><td>5</td></tr>",
                            "</table>"
                        ]
                    }
                }
            ],
            "execution_count": 1
        },
        {
            "cell_type": "markdown",
            "source": [
                "## Familier af window-funktioner\n",
                "\n",
                "Der findes forskellige familier af window-funktioner:\n",
                "\n",
                "- [Ranking](https://learn.microsoft.com/en-us/sql/t-sql/functions/ranking-functions-transact-sql?view=sql-server-ver16)\n",
                "- [Offset](https://learn.microsoft.com/en-us/sql/t-sql/functions/analytic-functions-transact-sql?view=sql-server-ver16)\n",
                "- [Aggregering](https://learn.microsoft.com/en-us/sql/t-sql/functions/aggregate-functions-transact-sql?view=sql-server-ver16)\n",
                "- (Statistik)\n",
                ""
            ],
            "metadata": {
                "language": "sql",
                "azdata_cell_guid": "cdb9021e-6b57-4d93-8d2e-53c45805beb8"
            },
            "attachments": {}
        },
        {
            "cell_type": "code",
            "source": [
                "/* Nedenfor vises beregninger som benytter de mest anvendte funktioner fra hver af de tre\n",
                "familier  */\n",
                "\n",
                "CREATE TABLE #TableA (\n",
                "    Id int NOT NULL,\n",
                "    Dat date NOT NULL,\n",
                "    Cat nvarchar(100) NOT NULL,\n",
                "    Val int NULL\n",
                ");\n",
                "\n",
                "INSERT INTO #TableA (Id, Dat, Cat, Val)\n",
                "VALUES\n",
                "(1, '20220101', 'A', 22), (2, '20000504', 'A', 5), (3, '20150205', 'A', 0),\n",
                "(4, '20101203', 'B', 14), (5, '20050824', 'B', 79), (6, '20220930', 'B', 100),\n",
                "(7, '20220315', 'B', 43), (8, '20210710', 'B', 43), (9, '20000504', 'C', 1),\n",
                "(10, '20221231', 'C', 112);\n",
                "\n",
                "SELECT\n",
                "    *\n",
                "FROM #TableA;\n",
                "\n",
                "/* Ranking: */\n",
                "\n",
                "SELECT\n",
                "    Id,\n",
                "    Dat,\n",
                "    Cat,\n",
                "    Val,\n",
                "    ROW_NUMBER() OVER(\n",
                "        PARTITION BY Cat\n",
                "        ORDER BY Val\n",
                "    ) AS RowNum,\n",
                "    RANK() OVER(\n",
                "        PARTITION BY Cat\n",
                "        ORDER BY Val\n",
                "    ) AS Rank,\n",
                "    DENSE_RANK() OVER(\n",
                "        PARTITION BY Cat\n",
                "        ORDER BY Val\n",
                "    ) AS DenseRank,\n",
                "    NTILE(2) OVER(\n",
                "        PARTITION BY Cat\n",
                "        ORDER BY Val\n",
                "    ) AS NTile\n",
                "FROM #TableA\n",
                "ORDER BY Cat, Val;\n",
                "\n",
                "/* Bemærk, at ranking-funktioner ikke understøtter en window-frame */\n",
                "\n",
                "/* Offset: */\n",
                "\n",
                "SELECT\n",
                "    Id,\n",
                "    Dat,\n",
                "    Cat,\n",
                "    Val,\n",
                "    LAG(Val/*, 1, NULL*/) OVER(\n",
                "        PARTITION BY Cat\n",
                "        ORDER BY Val\n",
                "    ) AS PrevVal,\n",
                "    LEAD(Val/*, 1, NULL*/) OVER(\n",
                "        PARTITION BY Cat\n",
                "        ORDER BY Val\n",
                "    ) AS NextVal,\n",
                "    FIRST_VALUE(Val) OVER(\n",
                "        PARTITION BY Cat\n",
                "        ORDER BY Val\n",
                "        ROWS BETWEEN UNBOUNDED PRECEDING AND CURRENT ROW\n",
                "    ) AS FirstVal,\n",
                "    LAST_VALUE(Val) OVER(\n",
                "        PARTITION BY Cat\n",
                "        ORDER BY Val\n",
                "        ROWS BETWEEN CURRENT ROW AND UNBOUNDED FOLLOWING\n",
                "    ) AS LastVal\n",
                "FROM #TableA\n",
                "ORDER BY Cat, Val;\n",
                "\n",
                "/* Bemærk, at LAG() og LEAD() ikke understøtter en window-frame. Derudover kan man for disse\n",
                "funktioner yderligere specificere en offset værdi (default er 1) og en værdi i tilfælde af NULL */\n",
                "\n",
                "/* Aggregering: */\n",
                "\n",
                "SELECT\n",
                "    Id,\n",
                "    Dat,\n",
                "    Cat,\n",
                "    Val,\n",
                "    COUNT(*) OVER(\n",
                "        PARTITION BY Cat\n",
                "        /*ORDER BY Val\n",
                "        RANGE BETWEEN UNBOUNDED PRECEDING AND CURRENT ROW*/\n",
                "    ) AS Cnt,\n",
                "    MIN(Val) OVER(\n",
                "        PARTITION BY Cat\n",
                "        /*ORDER BY Val\n",
                "        RANGE BETWEEN UNBOUNDED PRECEDING AND CURRENT ROW*/\n",
                "    ) AS MinVal,\n",
                "    MAX(Val) OVER(\n",
                "        PARTITION BY Cat\n",
                "        /*ORDER BY Val\n",
                "        RANGE BETWEEN UNBOUNDED PRECEDING AND CURRENT ROW*/\n",
                "    ) AS MaxVal,\n",
                "    SUM(Val) OVER(\n",
                "        PARTITION BY Cat\n",
                "        /*ORDER BY Val\n",
                "        RANGE BETWEEN UNBOUNDED PRECEDING AND CURRENT ROW*/\n",
                "    ) AS SumVal\n",
                "FROM #TableA\n",
                "ORDER BY Cat, Val;\n",
                "\n",
                "/* Bemærk, at aggregeringsfunktionerne kan blive til fx løbende totaler ved at introducere\n",
                "en window-order og -frame */\n",
                "\n",
                "DROP TABLE #TableA;\n",
                ""
            ],
            "metadata": {
                "language": "sql",
                "azdata_cell_guid": "797c6a08-4508-4a01-b91d-03cbdfdca20a",
                "tags": []
            },
            "outputs": [
                {
                    "output_type": "display_data",
                    "data": {
                        "text/html": "(10 rows affected)"
                    },
                    "metadata": {}
                },
                {
                    "output_type": "display_data",
                    "data": {
                        "text/html": "(10 rows affected)"
                    },
                    "metadata": {}
                },
                {
                    "output_type": "display_data",
                    "data": {
                        "text/html": "(10 rows affected)"
                    },
                    "metadata": {}
                },
                {
                    "output_type": "display_data",
                    "data": {
                        "text/html": "(10 rows affected)"
                    },
                    "metadata": {}
                },
                {
                    "output_type": "display_data",
                    "data": {
                        "text/html": "(10 rows affected)"
                    },
                    "metadata": {}
                },
                {
                    "output_type": "display_data",
                    "data": {
                        "text/html": "Total execution time: 00:00:00.047"
                    },
                    "metadata": {}
                },
                {
                    "output_type": "execute_result",
                    "metadata": {},
                    "execution_count": 2,
                    "data": {
                        "application/vnd.dataresource+json": {
                            "schema": {
                                "fields": [
                                    {
                                        "name": "Id"
                                    },
                                    {
                                        "name": "Dat"
                                    },
                                    {
                                        "name": "Cat"
                                    },
                                    {
                                        "name": "Val"
                                    }
                                ]
                            },
                            "data": [
                                {
                                    "0": "1",
                                    "1": "2022-01-01",
                                    "2": "A",
                                    "3": "22"
                                },
                                {
                                    "0": "2",
                                    "1": "2000-05-04",
                                    "2": "A",
                                    "3": "5"
                                },
                                {
                                    "0": "3",
                                    "1": "2015-02-05",
                                    "2": "A",
                                    "3": "0"
                                },
                                {
                                    "0": "4",
                                    "1": "2010-12-03",
                                    "2": "B",
                                    "3": "14"
                                },
                                {
                                    "0": "5",
                                    "1": "2005-08-24",
                                    "2": "B",
                                    "3": "79"
                                },
                                {
                                    "0": "6",
                                    "1": "2022-09-30",
                                    "2": "B",
                                    "3": "100"
                                },
                                {
                                    "0": "7",
                                    "1": "2022-03-15",
                                    "2": "B",
                                    "3": "43"
                                },
                                {
                                    "0": "8",
                                    "1": "2021-07-10",
                                    "2": "B",
                                    "3": "43"
                                },
                                {
                                    "0": "9",
                                    "1": "2000-05-04",
                                    "2": "C",
                                    "3": "1"
                                },
                                {
                                    "0": "10",
                                    "1": "2022-12-31",
                                    "2": "C",
                                    "3": "112"
                                }
                            ]
                        },
                        "text/html": [
                            "<table>",
                            "<tr><th>Id</th><th>Dat</th><th>Cat</th><th>Val</th></tr>",
                            "<tr><td>1</td><td>2022-01-01</td><td>A</td><td>22</td></tr>",
                            "<tr><td>2</td><td>2000-05-04</td><td>A</td><td>5</td></tr>",
                            "<tr><td>3</td><td>2015-02-05</td><td>A</td><td>0</td></tr>",
                            "<tr><td>4</td><td>2010-12-03</td><td>B</td><td>14</td></tr>",
                            "<tr><td>5</td><td>2005-08-24</td><td>B</td><td>79</td></tr>",
                            "<tr><td>6</td><td>2022-09-30</td><td>B</td><td>100</td></tr>",
                            "<tr><td>7</td><td>2022-03-15</td><td>B</td><td>43</td></tr>",
                            "<tr><td>8</td><td>2021-07-10</td><td>B</td><td>43</td></tr>",
                            "<tr><td>9</td><td>2000-05-04</td><td>C</td><td>1</td></tr>",
                            "<tr><td>10</td><td>2022-12-31</td><td>C</td><td>112</td></tr>",
                            "</table>"
                        ]
                    }
                },
                {
                    "output_type": "execute_result",
                    "metadata": {},
                    "execution_count": 2,
                    "data": {
                        "application/vnd.dataresource+json": {
                            "schema": {
                                "fields": [
                                    {
                                        "name": "Id"
                                    },
                                    {
                                        "name": "Dat"
                                    },
                                    {
                                        "name": "Cat"
                                    },
                                    {
                                        "name": "Val"
                                    },
                                    {
                                        "name": "RowNum"
                                    },
                                    {
                                        "name": "Rank"
                                    },
                                    {
                                        "name": "DenseRank"
                                    },
                                    {
                                        "name": "NTile"
                                    }
                                ]
                            },
                            "data": [
                                {
                                    "0": "3",
                                    "1": "2015-02-05",
                                    "2": "A",
                                    "3": "0",
                                    "4": "1",
                                    "5": "1",
                                    "6": "1",
                                    "7": "1"
                                },
                                {
                                    "0": "2",
                                    "1": "2000-05-04",
                                    "2": "A",
                                    "3": "5",
                                    "4": "2",
                                    "5": "2",
                                    "6": "2",
                                    "7": "1"
                                },
                                {
                                    "0": "1",
                                    "1": "2022-01-01",
                                    "2": "A",
                                    "3": "22",
                                    "4": "3",
                                    "5": "3",
                                    "6": "3",
                                    "7": "2"
                                },
                                {
                                    "0": "4",
                                    "1": "2010-12-03",
                                    "2": "B",
                                    "3": "14",
                                    "4": "1",
                                    "5": "1",
                                    "6": "1",
                                    "7": "1"
                                },
                                {
                                    "0": "7",
                                    "1": "2022-03-15",
                                    "2": "B",
                                    "3": "43",
                                    "4": "2",
                                    "5": "2",
                                    "6": "2",
                                    "7": "1"
                                },
                                {
                                    "0": "8",
                                    "1": "2021-07-10",
                                    "2": "B",
                                    "3": "43",
                                    "4": "3",
                                    "5": "2",
                                    "6": "2",
                                    "7": "1"
                                },
                                {
                                    "0": "5",
                                    "1": "2005-08-24",
                                    "2": "B",
                                    "3": "79",
                                    "4": "4",
                                    "5": "4",
                                    "6": "3",
                                    "7": "2"
                                },
                                {
                                    "0": "6",
                                    "1": "2022-09-30",
                                    "2": "B",
                                    "3": "100",
                                    "4": "5",
                                    "5": "5",
                                    "6": "4",
                                    "7": "2"
                                },
                                {
                                    "0": "9",
                                    "1": "2000-05-04",
                                    "2": "C",
                                    "3": "1",
                                    "4": "1",
                                    "5": "1",
                                    "6": "1",
                                    "7": "1"
                                },
                                {
                                    "0": "10",
                                    "1": "2022-12-31",
                                    "2": "C",
                                    "3": "112",
                                    "4": "2",
                                    "5": "2",
                                    "6": "2",
                                    "7": "2"
                                }
                            ]
                        },
                        "text/html": [
                            "<table>",
                            "<tr><th>Id</th><th>Dat</th><th>Cat</th><th>Val</th><th>RowNum</th><th>Rank</th><th>DenseRank</th><th>NTile</th></tr>",
                            "<tr><td>3</td><td>2015-02-05</td><td>A</td><td>0</td><td>1</td><td>1</td><td>1</td><td>1</td></tr>",
                            "<tr><td>2</td><td>2000-05-04</td><td>A</td><td>5</td><td>2</td><td>2</td><td>2</td><td>1</td></tr>",
                            "<tr><td>1</td><td>2022-01-01</td><td>A</td><td>22</td><td>3</td><td>3</td><td>3</td><td>2</td></tr>",
                            "<tr><td>4</td><td>2010-12-03</td><td>B</td><td>14</td><td>1</td><td>1</td><td>1</td><td>1</td></tr>",
                            "<tr><td>7</td><td>2022-03-15</td><td>B</td><td>43</td><td>2</td><td>2</td><td>2</td><td>1</td></tr>",
                            "<tr><td>8</td><td>2021-07-10</td><td>B</td><td>43</td><td>3</td><td>2</td><td>2</td><td>1</td></tr>",
                            "<tr><td>5</td><td>2005-08-24</td><td>B</td><td>79</td><td>4</td><td>4</td><td>3</td><td>2</td></tr>",
                            "<tr><td>6</td><td>2022-09-30</td><td>B</td><td>100</td><td>5</td><td>5</td><td>4</td><td>2</td></tr>",
                            "<tr><td>9</td><td>2000-05-04</td><td>C</td><td>1</td><td>1</td><td>1</td><td>1</td><td>1</td></tr>",
                            "<tr><td>10</td><td>2022-12-31</td><td>C</td><td>112</td><td>2</td><td>2</td><td>2</td><td>2</td></tr>",
                            "</table>"
                        ]
                    }
                },
                {
                    "output_type": "execute_result",
                    "metadata": {},
                    "execution_count": 2,
                    "data": {
                        "application/vnd.dataresource+json": {
                            "schema": {
                                "fields": [
                                    {
                                        "name": "Id"
                                    },
                                    {
                                        "name": "Dat"
                                    },
                                    {
                                        "name": "Cat"
                                    },
                                    {
                                        "name": "Val"
                                    },
                                    {
                                        "name": "PrevVal"
                                    },
                                    {
                                        "name": "NextVal"
                                    },
                                    {
                                        "name": "FirstVal"
                                    },
                                    {
                                        "name": "LastVal"
                                    }
                                ]
                            },
                            "data": [
                                {
                                    "0": "3",
                                    "1": "2015-02-05",
                                    "2": "A",
                                    "3": "0",
                                    "4": "NULL",
                                    "5": "5",
                                    "6": "0",
                                    "7": "22"
                                },
                                {
                                    "0": "2",
                                    "1": "2000-05-04",
                                    "2": "A",
                                    "3": "5",
                                    "4": "0",
                                    "5": "22",
                                    "6": "0",
                                    "7": "22"
                                },
                                {
                                    "0": "1",
                                    "1": "2022-01-01",
                                    "2": "A",
                                    "3": "22",
                                    "4": "5",
                                    "5": "NULL",
                                    "6": "0",
                                    "7": "22"
                                },
                                {
                                    "0": "4",
                                    "1": "2010-12-03",
                                    "2": "B",
                                    "3": "14",
                                    "4": "NULL",
                                    "5": "43",
                                    "6": "14",
                                    "7": "100"
                                },
                                {
                                    "0": "7",
                                    "1": "2022-03-15",
                                    "2": "B",
                                    "3": "43",
                                    "4": "14",
                                    "5": "43",
                                    "6": "14",
                                    "7": "100"
                                },
                                {
                                    "0": "8",
                                    "1": "2021-07-10",
                                    "2": "B",
                                    "3": "43",
                                    "4": "43",
                                    "5": "79",
                                    "6": "14",
                                    "7": "100"
                                },
                                {
                                    "0": "5",
                                    "1": "2005-08-24",
                                    "2": "B",
                                    "3": "79",
                                    "4": "43",
                                    "5": "100",
                                    "6": "14",
                                    "7": "100"
                                },
                                {
                                    "0": "6",
                                    "1": "2022-09-30",
                                    "2": "B",
                                    "3": "100",
                                    "4": "79",
                                    "5": "NULL",
                                    "6": "14",
                                    "7": "100"
                                },
                                {
                                    "0": "9",
                                    "1": "2000-05-04",
                                    "2": "C",
                                    "3": "1",
                                    "4": "NULL",
                                    "5": "112",
                                    "6": "1",
                                    "7": "112"
                                },
                                {
                                    "0": "10",
                                    "1": "2022-12-31",
                                    "2": "C",
                                    "3": "112",
                                    "4": "1",
                                    "5": "NULL",
                                    "6": "1",
                                    "7": "112"
                                }
                            ]
                        },
                        "text/html": [
                            "<table>",
                            "<tr><th>Id</th><th>Dat</th><th>Cat</th><th>Val</th><th>PrevVal</th><th>NextVal</th><th>FirstVal</th><th>LastVal</th></tr>",
                            "<tr><td>3</td><td>2015-02-05</td><td>A</td><td>0</td><td>NULL</td><td>5</td><td>0</td><td>22</td></tr>",
                            "<tr><td>2</td><td>2000-05-04</td><td>A</td><td>5</td><td>0</td><td>22</td><td>0</td><td>22</td></tr>",
                            "<tr><td>1</td><td>2022-01-01</td><td>A</td><td>22</td><td>5</td><td>NULL</td><td>0</td><td>22</td></tr>",
                            "<tr><td>4</td><td>2010-12-03</td><td>B</td><td>14</td><td>NULL</td><td>43</td><td>14</td><td>100</td></tr>",
                            "<tr><td>7</td><td>2022-03-15</td><td>B</td><td>43</td><td>14</td><td>43</td><td>14</td><td>100</td></tr>",
                            "<tr><td>8</td><td>2021-07-10</td><td>B</td><td>43</td><td>43</td><td>79</td><td>14</td><td>100</td></tr>",
                            "<tr><td>5</td><td>2005-08-24</td><td>B</td><td>79</td><td>43</td><td>100</td><td>14</td><td>100</td></tr>",
                            "<tr><td>6</td><td>2022-09-30</td><td>B</td><td>100</td><td>79</td><td>NULL</td><td>14</td><td>100</td></tr>",
                            "<tr><td>9</td><td>2000-05-04</td><td>C</td><td>1</td><td>NULL</td><td>112</td><td>1</td><td>112</td></tr>",
                            "<tr><td>10</td><td>2022-12-31</td><td>C</td><td>112</td><td>1</td><td>NULL</td><td>1</td><td>112</td></tr>",
                            "</table>"
                        ]
                    }
                },
                {
                    "output_type": "execute_result",
                    "metadata": {},
                    "execution_count": 2,
                    "data": {
                        "application/vnd.dataresource+json": {
                            "schema": {
                                "fields": [
                                    {
                                        "name": "Id"
                                    },
                                    {
                                        "name": "Dat"
                                    },
                                    {
                                        "name": "Cat"
                                    },
                                    {
                                        "name": "Val"
                                    },
                                    {
                                        "name": "Cnt"
                                    },
                                    {
                                        "name": "MinVal"
                                    },
                                    {
                                        "name": "MaxVal"
                                    },
                                    {
                                        "name": "SumVal"
                                    }
                                ]
                            },
                            "data": [
                                {
                                    "0": "3",
                                    "1": "2015-02-05",
                                    "2": "A",
                                    "3": "0",
                                    "4": "3",
                                    "5": "0",
                                    "6": "22",
                                    "7": "27"
                                },
                                {
                                    "0": "2",
                                    "1": "2000-05-04",
                                    "2": "A",
                                    "3": "5",
                                    "4": "3",
                                    "5": "0",
                                    "6": "22",
                                    "7": "27"
                                },
                                {
                                    "0": "1",
                                    "1": "2022-01-01",
                                    "2": "A",
                                    "3": "22",
                                    "4": "3",
                                    "5": "0",
                                    "6": "22",
                                    "7": "27"
                                },
                                {
                                    "0": "4",
                                    "1": "2010-12-03",
                                    "2": "B",
                                    "3": "14",
                                    "4": "5",
                                    "5": "14",
                                    "6": "100",
                                    "7": "279"
                                },
                                {
                                    "0": "7",
                                    "1": "2022-03-15",
                                    "2": "B",
                                    "3": "43",
                                    "4": "5",
                                    "5": "14",
                                    "6": "100",
                                    "7": "279"
                                },
                                {
                                    "0": "8",
                                    "1": "2021-07-10",
                                    "2": "B",
                                    "3": "43",
                                    "4": "5",
                                    "5": "14",
                                    "6": "100",
                                    "7": "279"
                                },
                                {
                                    "0": "5",
                                    "1": "2005-08-24",
                                    "2": "B",
                                    "3": "79",
                                    "4": "5",
                                    "5": "14",
                                    "6": "100",
                                    "7": "279"
                                },
                                {
                                    "0": "6",
                                    "1": "2022-09-30",
                                    "2": "B",
                                    "3": "100",
                                    "4": "5",
                                    "5": "14",
                                    "6": "100",
                                    "7": "279"
                                },
                                {
                                    "0": "9",
                                    "1": "2000-05-04",
                                    "2": "C",
                                    "3": "1",
                                    "4": "2",
                                    "5": "1",
                                    "6": "112",
                                    "7": "113"
                                },
                                {
                                    "0": "10",
                                    "1": "2022-12-31",
                                    "2": "C",
                                    "3": "112",
                                    "4": "2",
                                    "5": "1",
                                    "6": "112",
                                    "7": "113"
                                }
                            ]
                        },
                        "text/html": [
                            "<table>",
                            "<tr><th>Id</th><th>Dat</th><th>Cat</th><th>Val</th><th>Cnt</th><th>MinVal</th><th>MaxVal</th><th>SumVal</th></tr>",
                            "<tr><td>3</td><td>2015-02-05</td><td>A</td><td>0</td><td>3</td><td>0</td><td>22</td><td>27</td></tr>",
                            "<tr><td>2</td><td>2000-05-04</td><td>A</td><td>5</td><td>3</td><td>0</td><td>22</td><td>27</td></tr>",
                            "<tr><td>1</td><td>2022-01-01</td><td>A</td><td>22</td><td>3</td><td>0</td><td>22</td><td>27</td></tr>",
                            "<tr><td>4</td><td>2010-12-03</td><td>B</td><td>14</td><td>5</td><td>14</td><td>100</td><td>279</td></tr>",
                            "<tr><td>7</td><td>2022-03-15</td><td>B</td><td>43</td><td>5</td><td>14</td><td>100</td><td>279</td></tr>",
                            "<tr><td>8</td><td>2021-07-10</td><td>B</td><td>43</td><td>5</td><td>14</td><td>100</td><td>279</td></tr>",
                            "<tr><td>5</td><td>2005-08-24</td><td>B</td><td>79</td><td>5</td><td>14</td><td>100</td><td>279</td></tr>",
                            "<tr><td>6</td><td>2022-09-30</td><td>B</td><td>100</td><td>5</td><td>14</td><td>100</td><td>279</td></tr>",
                            "<tr><td>9</td><td>2000-05-04</td><td>C</td><td>1</td><td>2</td><td>1</td><td>112</td><td>113</td></tr>",
                            "<tr><td>10</td><td>2022-12-31</td><td>C</td><td>112</td><td>2</td><td>1</td><td>112</td><td>113</td></tr>",
                            "</table>"
                        ]
                    }
                }
            ],
            "execution_count": 2
        },
        {
            "cell_type": "markdown",
            "source": [
                "### *Tid til opgaver...*\n",
                "\n",
                "Lav opgave 4, 5 og 6 i [opgavehæftet](Window-functions.sql).\n",
                ""
            ],
            "metadata": {
                "language": "sql",
                "azdata_cell_guid": "eec87486-7094-4d33-8d44-84dcb67932ab"
            },
            "attachments": {}
        },
        {
            "cell_type": "markdown",
            "source": [
                "## Hovedpointer\n",
                "\n",
                "- Window-funktioner er et uundværligt værktøj til analytikeren\n",
                "- Window-funktioner laver, for hver række, en beregning over en mængde af rækker relateret til den aktuelle række\n",
                "- En window-funktion består af følgende elementer:\n",
                "  - En funktion, fx `COUNT()`, `RANK()` eller `FIRST_VALUE()`\n",
                "  - En specifikation af et vindue i `OVER`-delsætningen via *Partitioning*, *Odering* og *Framing*\n",
                "- Window-funktioner evalueres logisk i `SELECT`- og `ORDER BY`-delsætningerne\n",
                "- Der findes forskellige typer af window-funktioner, herunder funktioner til ranking, offset, aggregeringer og statistik\n",
                ""
            ],
            "metadata": {
                "azdata_cell_guid": "c25aa37f-35e5-463a-8026-61c3e1841997"
            },
            "attachments": {}
        },
        {
            "cell_type": "markdown",
            "source": [
                "## Licens\n",
                "\n",
                "Creative Commons Attribution-ShareAlike 4.0 International (CC BY-SA 4.0)\n",
                "\n",
                "Mere info: [https://creativecommons.org/licenses/by-sa/4.0/](https://creativecommons.org/licenses/by-sa/4.0/)\n",
                "\n",
                "Du kan frit:\n",
                "\n",
                "- Dele: kopiere og distribuere materialet via ethvert medium og i ethvert format\n",
                "- Tilpasse: remixe, redigere og bygge på materialet til ethvert formål, selv erhvervsmæssigt\n",
                "\n",
                "Under følgende betingelser:\n",
                "\n",
                "- Kreditering: Du skal kreditere, dele et link til licensen og indikere om der er lavet ændringer.\n",
                "- Del på samme vilkår: Hvis du remixer, redigerer eller bygger på materialet, så skal dine bidrag\n",
                "  distribueres under samme licens som den originale.\n",
                ""
            ],
            "metadata": {
                "azdata_cell_guid": "73d8e98b-6665-40fb-a252-eb7829570885"
            },
            "attachments": {}
        }
    ]
}